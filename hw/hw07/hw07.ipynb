{
 "cells": [
  {
   "cell_type": "code",
   "execution_count": 1,
   "id": "20f2a370",
   "metadata": {
    "deletable": false,
    "editable": false
   },
   "outputs": [],
   "source": [
    "# Initialize Otter\n",
    "import otter\n",
    "grader = otter.Notebook(\"hw07.ipynb\")"
   ]
  },
  {
   "cell_type": "markdown",
   "id": "4e145523",
   "metadata": {},
   "source": [
    "# Homework 7: Modeling and Analyzing COVID-19 Cases\n",
    "## Probability and Estimators\n",
    "## Due Date: Thursday, November 3rd, 11:59 PM PDT\n",
    "\n",
    "\n",
    "**Content Warning**\n",
    "\n",
    "This assignment includes an analysis of daily COVID-19 cases by U.S. county through 2021. If you feel uncomfortable with this topic, **please contact your GSI or the instructors.**\n",
    "\n",
    "**Collaboration Policy**\n",
    "\n",
    "Data science is a collaborative activity. While you may talk with others about\n",
    "the homework, we ask that you **write your solutions individually**. If you do\n",
    "discuss the assignments with others please **include their names** below."
   ]
  },
  {
   "cell_type": "markdown",
   "id": "d57f385c",
   "metadata": {},
   "source": [
    "**Collaborators**: *list collaborators here*"
   ]
  },
  {
   "cell_type": "markdown",
   "id": "70db1e0d",
   "metadata": {},
   "source": [
    "\n",
    "\n",
    "## Introduction\n",
    "\n",
    "In this homework, we will investigate a dataset that contains information about COVID-19 cases in the United States, vaccination rates, and various other metadata that can assist in modeling various aspects of COVID-19.\n",
    "\n",
    "Through this homework assignment, you will demonstrate your experience with:\n",
    "* Bootstrap sampling\n",
    "* Bias-variance tradeoff and decomposition\n",
    "* Multicollinearity in features"
   ]
  },
  {
   "cell_type": "code",
   "execution_count": 2,
   "id": "b849750e",
   "metadata": {},
   "outputs": [],
   "source": [
    "# Run this cell to set up your notebook\n",
    "import numpy as np\n",
    "import pandas as pd\n",
    "import sklearn.linear_model as lm\n",
    "from sklearn.model_selection import train_test_split\n",
    "\n",
    "import matplotlib.pyplot as plt\n",
    "import seaborn as sns\n",
    "from IPython.display import Markdown\n",
    "\n",
    "import scipy.stats\n",
    "\n",
    "import warnings\n",
    "warnings.filterwarnings(\"ignore\")"
   ]
  },
  {
   "cell_type": "markdown",
   "id": "0d0fab48",
   "metadata": {},
   "source": [
    "<br/><br/><br/>\n",
    "\n",
    "<hr style=\"border: 5px solid #003262;\" />\n",
    "<hr style=\"border: 1px solid #fdb515;\" />\n",
    "\n",
    "## Question 1: Random Variables\n",
    "\n",
    "Question 1 is a written problem and should be submitted as a separate PDF to the Written portal of Gradescope. All other questions in this assignment are submitted as part of this notebook.\n",
    "\n",
    "Question 1 PDF File: https://drive.google.com/file/d/1E7iXHEY-HFxaBFt6j8upoWFMX3Mc4LX_/view?usp=share_link"
   ]
  },
  {
   "cell_type": "markdown",
   "id": "f6ff2ff4",
   "metadata": {},
   "source": [
    "<br/><br/><br/>\n",
    "\n",
    "<hr style=\"border: 5px solid #003262;\" />\n",
    "<hr style=\"border: 1px solid #fdb515;\" />\n",
    "\n",
    "## Question 2: Exploratory Data Analysis\n",
    "\n",
    "Let's perform some initial exploratory data analysis to examine and visualize potential trends in a COVID-19 dataset."
   ]
  },
  {
   "cell_type": "code",
   "execution_count": 3,
   "id": "0d04e8c8",
   "metadata": {},
   "outputs": [
    {
     "data": {
      "text/html": [
       "<div>\n",
       "<style scoped>\n",
       "    .dataframe tbody tr th:only-of-type {\n",
       "        vertical-align: middle;\n",
       "    }\n",
       "\n",
       "    .dataframe tbody tr th {\n",
       "        vertical-align: top;\n",
       "    }\n",
       "\n",
       "    .dataframe thead th {\n",
       "        text-align: right;\n",
       "    }\n",
       "</style>\n",
       "<table border=\"1\" class=\"dataframe\">\n",
       "  <thead>\n",
       "    <tr style=\"text-align: right;\">\n",
       "      <th></th>\n",
       "      <th>UID</th>\n",
       "      <th>iso2</th>\n",
       "      <th>iso3</th>\n",
       "      <th>code3</th>\n",
       "      <th>FIPS</th>\n",
       "      <th>Admin2</th>\n",
       "      <th>Province_State</th>\n",
       "      <th>Country_Region</th>\n",
       "      <th>Lat</th>\n",
       "      <th>Long_</th>\n",
       "      <th>...</th>\n",
       "      <th>POPESTIMATE2018</th>\n",
       "      <th>POPESTIMATE2019</th>\n",
       "      <th>POPESTIMATE042020</th>\n",
       "      <th>POPESTIMATE2020</th>\n",
       "      <th>COUNTYFP</th>\n",
       "      <th>NEVER</th>\n",
       "      <th>RARELY</th>\n",
       "      <th>SOMETIMES</th>\n",
       "      <th>FREQUENTLY</th>\n",
       "      <th>ALWAYS</th>\n",
       "    </tr>\n",
       "  </thead>\n",
       "  <tbody>\n",
       "    <tr>\n",
       "      <th>0</th>\n",
       "      <td>84001001</td>\n",
       "      <td>US</td>\n",
       "      <td>USA</td>\n",
       "      <td>840</td>\n",
       "      <td>1001</td>\n",
       "      <td>Autauga</td>\n",
       "      <td>Alabama</td>\n",
       "      <td>US</td>\n",
       "      <td>32.539527</td>\n",
       "      <td>-86.644082</td>\n",
       "      <td>...</td>\n",
       "      <td>55533</td>\n",
       "      <td>55769</td>\n",
       "      <td>56130</td>\n",
       "      <td>56145</td>\n",
       "      <td>1001</td>\n",
       "      <td>0.053</td>\n",
       "      <td>0.074</td>\n",
       "      <td>0.134</td>\n",
       "      <td>0.295</td>\n",
       "      <td>0.444</td>\n",
       "    </tr>\n",
       "    <tr>\n",
       "      <th>1</th>\n",
       "      <td>84001003</td>\n",
       "      <td>US</td>\n",
       "      <td>USA</td>\n",
       "      <td>840</td>\n",
       "      <td>1003</td>\n",
       "      <td>Baldwin</td>\n",
       "      <td>Alabama</td>\n",
       "      <td>US</td>\n",
       "      <td>30.727750</td>\n",
       "      <td>-87.722071</td>\n",
       "      <td>...</td>\n",
       "      <td>218071</td>\n",
       "      <td>223565</td>\n",
       "      <td>227989</td>\n",
       "      <td>229287</td>\n",
       "      <td>1003</td>\n",
       "      <td>0.083</td>\n",
       "      <td>0.059</td>\n",
       "      <td>0.098</td>\n",
       "      <td>0.323</td>\n",
       "      <td>0.436</td>\n",
       "    </tr>\n",
       "    <tr>\n",
       "      <th>2</th>\n",
       "      <td>84001005</td>\n",
       "      <td>US</td>\n",
       "      <td>USA</td>\n",
       "      <td>840</td>\n",
       "      <td>1005</td>\n",
       "      <td>Barbour</td>\n",
       "      <td>Alabama</td>\n",
       "      <td>US</td>\n",
       "      <td>31.868263</td>\n",
       "      <td>-85.387129</td>\n",
       "      <td>...</td>\n",
       "      <td>24887</td>\n",
       "      <td>24657</td>\n",
       "      <td>24652</td>\n",
       "      <td>24589</td>\n",
       "      <td>1005</td>\n",
       "      <td>0.067</td>\n",
       "      <td>0.121</td>\n",
       "      <td>0.120</td>\n",
       "      <td>0.201</td>\n",
       "      <td>0.491</td>\n",
       "    </tr>\n",
       "    <tr>\n",
       "      <th>3</th>\n",
       "      <td>84001007</td>\n",
       "      <td>US</td>\n",
       "      <td>USA</td>\n",
       "      <td>840</td>\n",
       "      <td>1007</td>\n",
       "      <td>Bibb</td>\n",
       "      <td>Alabama</td>\n",
       "      <td>US</td>\n",
       "      <td>32.996421</td>\n",
       "      <td>-87.125115</td>\n",
       "      <td>...</td>\n",
       "      <td>22300</td>\n",
       "      <td>22313</td>\n",
       "      <td>22199</td>\n",
       "      <td>22136</td>\n",
       "      <td>1007</td>\n",
       "      <td>0.020</td>\n",
       "      <td>0.034</td>\n",
       "      <td>0.096</td>\n",
       "      <td>0.278</td>\n",
       "      <td>0.572</td>\n",
       "    </tr>\n",
       "    <tr>\n",
       "      <th>4</th>\n",
       "      <td>84001009</td>\n",
       "      <td>US</td>\n",
       "      <td>USA</td>\n",
       "      <td>840</td>\n",
       "      <td>1009</td>\n",
       "      <td>Blount</td>\n",
       "      <td>Alabama</td>\n",
       "      <td>US</td>\n",
       "      <td>33.982109</td>\n",
       "      <td>-86.567906</td>\n",
       "      <td>...</td>\n",
       "      <td>57770</td>\n",
       "      <td>57840</td>\n",
       "      <td>57932</td>\n",
       "      <td>57879</td>\n",
       "      <td>1009</td>\n",
       "      <td>0.053</td>\n",
       "      <td>0.114</td>\n",
       "      <td>0.180</td>\n",
       "      <td>0.194</td>\n",
       "      <td>0.459</td>\n",
       "    </tr>\n",
       "  </tbody>\n",
       "</table>\n",
       "<p>5 rows × 638 columns</p>\n",
       "</div>"
      ],
      "text/plain": [
       "        UID iso2 iso3  code3  FIPS   Admin2 Province_State Country_Region  \\\n",
       "0  84001001   US  USA    840  1001  Autauga        Alabama             US   \n",
       "1  84001003   US  USA    840  1003  Baldwin        Alabama             US   \n",
       "2  84001005   US  USA    840  1005  Barbour        Alabama             US   \n",
       "3  84001007   US  USA    840  1007     Bibb        Alabama             US   \n",
       "4  84001009   US  USA    840  1009   Blount        Alabama             US   \n",
       "\n",
       "         Lat      Long_  ... POPESTIMATE2018  POPESTIMATE2019  \\\n",
       "0  32.539527 -86.644082  ...           55533            55769   \n",
       "1  30.727750 -87.722071  ...          218071           223565   \n",
       "2  31.868263 -85.387129  ...           24887            24657   \n",
       "3  32.996421 -87.125115  ...           22300            22313   \n",
       "4  33.982109 -86.567906  ...           57770            57840   \n",
       "\n",
       "   POPESTIMATE042020  POPESTIMATE2020  COUNTYFP  NEVER  RARELY  SOMETIMES  \\\n",
       "0              56130            56145      1001  0.053   0.074      0.134   \n",
       "1             227989           229287      1003  0.083   0.059      0.098   \n",
       "2              24652            24589      1005  0.067   0.121      0.120   \n",
       "3              22199            22136      1007  0.020   0.034      0.096   \n",
       "4              57932            57879      1009  0.053   0.114      0.180   \n",
       "\n",
       "   FREQUENTLY  ALWAYS  \n",
       "0       0.295   0.444  \n",
       "1       0.323   0.436  \n",
       "2       0.201   0.491  \n",
       "3       0.278   0.572  \n",
       "4       0.194   0.459  \n",
       "\n",
       "[5 rows x 638 columns]"
      ]
     },
     "execution_count": 3,
     "metadata": {},
     "output_type": "execute_result"
    }
   ],
   "source": [
    "# just run this cell\n",
    "covid_data = pd.read_csv('data/covid_data.csv')\n",
    "covid_data.head(5)"
   ]
  },
  {
   "cell_type": "markdown",
   "id": "1b21fda6",
   "metadata": {},
   "source": [
    "The data are at county granularity; each row corresponds to COVID-19 data from one U.S. county. Here are some highlights and data sources:\n",
    "\n",
    "* The first few columns encode county and state data; for example, check out the [FIPS](https://transition.fcc.gov/oet/info/maps/census/fips/fips.txt) numeric encoding for U.S. counties.\n",
    "* The next 600 columns record daily COVID-19 cases in the county for the date range 1/22/2020 to 9/12/2021. COVID-19 case data are from CSSE at Johns Hopkins University [GitHub](https://github.com/CSSEGISandData/COVID-19/blob/master/csse_covid_19_data/csse_covid_19_time_series/time_series_covid19_confirmed_US.csv).\n",
    "* The next few columns include county populations from [U.S. census data](https://www2.census.gov/programs-surveys/popest/datasets/2010-2020/counties/totals/co-est2020.csv), the latest of which is 2020.\n",
    "* The last 5 columns record mask usage survey data on a 5-point scale from `NEVER` to `ALWAYS`. Data are collected in July 2020 from the New York Times [GitHub](https://github.com/nytimes/covid-19-data/blob/master/mask-use/mask-use-by-county.csv). Each column represents the proportion of population in that county who never/rarely/sometimes/frequently/always wear masks. Note, for a particular row, the numbers in those five columns sum up to $1$.\n",
    "\n",
    "We can use `covid_data.describe()` to see various statistics about the numerical features of the provided COVID-19 data. Do any particular statistics stand out to you? Which might be useful when modeling?\n",
    "\n",
    "**Note:** This isn't a question (i.e. it's worth no points); this is just food for thought as you start to explore the dataset."
   ]
  },
  {
   "cell_type": "code",
   "execution_count": 4,
   "id": "deb424a9",
   "metadata": {},
   "outputs": [
    {
     "data": {
      "text/html": [
       "<div>\n",
       "<style scoped>\n",
       "    .dataframe tbody tr th:only-of-type {\n",
       "        vertical-align: middle;\n",
       "    }\n",
       "\n",
       "    .dataframe tbody tr th {\n",
       "        vertical-align: top;\n",
       "    }\n",
       "\n",
       "    .dataframe thead th {\n",
       "        text-align: right;\n",
       "    }\n",
       "</style>\n",
       "<table border=\"1\" class=\"dataframe\">\n",
       "  <thead>\n",
       "    <tr style=\"text-align: right;\">\n",
       "      <th></th>\n",
       "      <th>UID</th>\n",
       "      <th>code3</th>\n",
       "      <th>FIPS</th>\n",
       "      <th>Lat</th>\n",
       "      <th>Long_</th>\n",
       "      <th>1/22/20</th>\n",
       "      <th>1/23/20</th>\n",
       "      <th>1/24/20</th>\n",
       "      <th>1/25/20</th>\n",
       "      <th>1/26/20</th>\n",
       "      <th>...</th>\n",
       "      <th>POPESTIMATE2018</th>\n",
       "      <th>POPESTIMATE2019</th>\n",
       "      <th>POPESTIMATE042020</th>\n",
       "      <th>POPESTIMATE2020</th>\n",
       "      <th>COUNTYFP</th>\n",
       "      <th>NEVER</th>\n",
       "      <th>RARELY</th>\n",
       "      <th>SOMETIMES</th>\n",
       "      <th>FREQUENTLY</th>\n",
       "      <th>ALWAYS</th>\n",
       "    </tr>\n",
       "  </thead>\n",
       "  <tbody>\n",
       "    <tr>\n",
       "      <th>count</th>\n",
       "      <td>3.141000e+03</td>\n",
       "      <td>3141.0</td>\n",
       "      <td>3141.000000</td>\n",
       "      <td>3141.000000</td>\n",
       "      <td>3141.000000</td>\n",
       "      <td>3141.000000</td>\n",
       "      <td>3141.000000</td>\n",
       "      <td>3141.000000</td>\n",
       "      <td>3141.000000</td>\n",
       "      <td>3141.000000</td>\n",
       "      <td>...</td>\n",
       "      <td>3.141000e+03</td>\n",
       "      <td>3.141000e+03</td>\n",
       "      <td>3.141000e+03</td>\n",
       "      <td>3.141000e+03</td>\n",
       "      <td>3141.000000</td>\n",
       "      <td>3141.000000</td>\n",
       "      <td>3141.000000</td>\n",
       "      <td>3141.000000</td>\n",
       "      <td>3141.000000</td>\n",
       "      <td>3141.000000</td>\n",
       "    </tr>\n",
       "    <tr>\n",
       "      <th>mean</th>\n",
       "      <td>8.403039e+07</td>\n",
       "      <td>840.0</td>\n",
       "      <td>30392.602674</td>\n",
       "      <td>38.448156</td>\n",
       "      <td>-92.272006</td>\n",
       "      <td>0.000318</td>\n",
       "      <td>0.000318</td>\n",
       "      <td>0.000637</td>\n",
       "      <td>0.000637</td>\n",
       "      <td>0.001592</td>\n",
       "      <td>...</td>\n",
       "      <td>1.040525e+05</td>\n",
       "      <td>1.045274e+05</td>\n",
       "      <td>1.048677e+05</td>\n",
       "      <td>1.048949e+05</td>\n",
       "      <td>30392.602674</td>\n",
       "      <td>0.079952</td>\n",
       "      <td>0.082929</td>\n",
       "      <td>0.121340</td>\n",
       "      <td>0.207728</td>\n",
       "      <td>0.508044</td>\n",
       "    </tr>\n",
       "    <tr>\n",
       "      <th>std</th>\n",
       "      <td>1.515661e+04</td>\n",
       "      <td>0.0</td>\n",
       "      <td>15156.613190</td>\n",
       "      <td>5.292540</td>\n",
       "      <td>12.909318</td>\n",
       "      <td>0.017843</td>\n",
       "      <td>0.017843</td>\n",
       "      <td>0.025230</td>\n",
       "      <td>0.025230</td>\n",
       "      <td>0.039873</td>\n",
       "      <td>...</td>\n",
       "      <td>3.326200e+05</td>\n",
       "      <td>3.332156e+05</td>\n",
       "      <td>3.335848e+05</td>\n",
       "      <td>3.333719e+05</td>\n",
       "      <td>15156.613190</td>\n",
       "      <td>0.058543</td>\n",
       "      <td>0.055469</td>\n",
       "      <td>0.058007</td>\n",
       "      <td>0.063581</td>\n",
       "      <td>0.152190</td>\n",
       "    </tr>\n",
       "    <tr>\n",
       "      <th>min</th>\n",
       "      <td>8.400100e+07</td>\n",
       "      <td>840.0</td>\n",
       "      <td>1001.000000</td>\n",
       "      <td>19.601212</td>\n",
       "      <td>-174.159600</td>\n",
       "      <td>0.000000</td>\n",
       "      <td>0.000000</td>\n",
       "      <td>0.000000</td>\n",
       "      <td>0.000000</td>\n",
       "      <td>0.000000</td>\n",
       "      <td>...</td>\n",
       "      <td>8.700000e+01</td>\n",
       "      <td>8.700000e+01</td>\n",
       "      <td>9.000000e+01</td>\n",
       "      <td>8.700000e+01</td>\n",
       "      <td>1001.000000</td>\n",
       "      <td>0.000000</td>\n",
       "      <td>0.000000</td>\n",
       "      <td>0.001000</td>\n",
       "      <td>0.029000</td>\n",
       "      <td>0.115000</td>\n",
       "    </tr>\n",
       "    <tr>\n",
       "      <th>25%</th>\n",
       "      <td>8.401818e+07</td>\n",
       "      <td>840.0</td>\n",
       "      <td>18179.000000</td>\n",
       "      <td>34.693167</td>\n",
       "      <td>-98.218207</td>\n",
       "      <td>0.000000</td>\n",
       "      <td>0.000000</td>\n",
       "      <td>0.000000</td>\n",
       "      <td>0.000000</td>\n",
       "      <td>0.000000</td>\n",
       "      <td>...</td>\n",
       "      <td>1.096300e+04</td>\n",
       "      <td>1.093600e+04</td>\n",
       "      <td>1.091900e+04</td>\n",
       "      <td>1.092100e+04</td>\n",
       "      <td>18179.000000</td>\n",
       "      <td>0.034000</td>\n",
       "      <td>0.040000</td>\n",
       "      <td>0.079000</td>\n",
       "      <td>0.164000</td>\n",
       "      <td>0.393000</td>\n",
       "    </tr>\n",
       "    <tr>\n",
       "      <th>50%</th>\n",
       "      <td>8.402918e+07</td>\n",
       "      <td>840.0</td>\n",
       "      <td>29177.000000</td>\n",
       "      <td>38.373019</td>\n",
       "      <td>-90.396561</td>\n",
       "      <td>0.000000</td>\n",
       "      <td>0.000000</td>\n",
       "      <td>0.000000</td>\n",
       "      <td>0.000000</td>\n",
       "      <td>0.000000</td>\n",
       "      <td>...</td>\n",
       "      <td>2.583700e+04</td>\n",
       "      <td>2.573500e+04</td>\n",
       "      <td>2.570100e+04</td>\n",
       "      <td>2.565800e+04</td>\n",
       "      <td>29177.000000</td>\n",
       "      <td>0.068000</td>\n",
       "      <td>0.073000</td>\n",
       "      <td>0.115000</td>\n",
       "      <td>0.204000</td>\n",
       "      <td>0.497000</td>\n",
       "    </tr>\n",
       "    <tr>\n",
       "      <th>75%</th>\n",
       "      <td>8.404508e+07</td>\n",
       "      <td>840.0</td>\n",
       "      <td>45081.000000</td>\n",
       "      <td>41.802830</td>\n",
       "      <td>-83.436796</td>\n",
       "      <td>0.000000</td>\n",
       "      <td>0.000000</td>\n",
       "      <td>0.000000</td>\n",
       "      <td>0.000000</td>\n",
       "      <td>0.000000</td>\n",
       "      <td>...</td>\n",
       "      <td>6.813600e+04</td>\n",
       "      <td>6.828200e+04</td>\n",
       "      <td>6.822000e+04</td>\n",
       "      <td>6.824100e+04</td>\n",
       "      <td>45081.000000</td>\n",
       "      <td>0.113000</td>\n",
       "      <td>0.115000</td>\n",
       "      <td>0.156000</td>\n",
       "      <td>0.247000</td>\n",
       "      <td>0.613000</td>\n",
       "    </tr>\n",
       "    <tr>\n",
       "      <th>max</th>\n",
       "      <td>8.405604e+07</td>\n",
       "      <td>840.0</td>\n",
       "      <td>56045.000000</td>\n",
       "      <td>69.314792</td>\n",
       "      <td>-67.628135</td>\n",
       "      <td>1.000000</td>\n",
       "      <td>1.000000</td>\n",
       "      <td>1.000000</td>\n",
       "      <td>1.000000</td>\n",
       "      <td>1.000000</td>\n",
       "      <td>...</td>\n",
       "      <td>1.006153e+07</td>\n",
       "      <td>1.001160e+07</td>\n",
       "      <td>9.968969e+06</td>\n",
       "      <td>9.943046e+06</td>\n",
       "      <td>56045.000000</td>\n",
       "      <td>0.432000</td>\n",
       "      <td>0.384000</td>\n",
       "      <td>0.422000</td>\n",
       "      <td>0.549000</td>\n",
       "      <td>0.889000</td>\n",
       "    </tr>\n",
       "  </tbody>\n",
       "</table>\n",
       "<p>8 rows × 630 columns</p>\n",
       "</div>"
      ],
      "text/plain": [
       "                UID   code3          FIPS          Lat        Long_  \\\n",
       "count  3.141000e+03  3141.0   3141.000000  3141.000000  3141.000000   \n",
       "mean   8.403039e+07   840.0  30392.602674    38.448156   -92.272006   \n",
       "std    1.515661e+04     0.0  15156.613190     5.292540    12.909318   \n",
       "min    8.400100e+07   840.0   1001.000000    19.601212  -174.159600   \n",
       "25%    8.401818e+07   840.0  18179.000000    34.693167   -98.218207   \n",
       "50%    8.402918e+07   840.0  29177.000000    38.373019   -90.396561   \n",
       "75%    8.404508e+07   840.0  45081.000000    41.802830   -83.436796   \n",
       "max    8.405604e+07   840.0  56045.000000    69.314792   -67.628135   \n",
       "\n",
       "           1/22/20      1/23/20      1/24/20      1/25/20      1/26/20  ...  \\\n",
       "count  3141.000000  3141.000000  3141.000000  3141.000000  3141.000000  ...   \n",
       "mean      0.000318     0.000318     0.000637     0.000637     0.001592  ...   \n",
       "std       0.017843     0.017843     0.025230     0.025230     0.039873  ...   \n",
       "min       0.000000     0.000000     0.000000     0.000000     0.000000  ...   \n",
       "25%       0.000000     0.000000     0.000000     0.000000     0.000000  ...   \n",
       "50%       0.000000     0.000000     0.000000     0.000000     0.000000  ...   \n",
       "75%       0.000000     0.000000     0.000000     0.000000     0.000000  ...   \n",
       "max       1.000000     1.000000     1.000000     1.000000     1.000000  ...   \n",
       "\n",
       "       POPESTIMATE2018  POPESTIMATE2019  POPESTIMATE042020  POPESTIMATE2020  \\\n",
       "count     3.141000e+03     3.141000e+03       3.141000e+03     3.141000e+03   \n",
       "mean      1.040525e+05     1.045274e+05       1.048677e+05     1.048949e+05   \n",
       "std       3.326200e+05     3.332156e+05       3.335848e+05     3.333719e+05   \n",
       "min       8.700000e+01     8.700000e+01       9.000000e+01     8.700000e+01   \n",
       "25%       1.096300e+04     1.093600e+04       1.091900e+04     1.092100e+04   \n",
       "50%       2.583700e+04     2.573500e+04       2.570100e+04     2.565800e+04   \n",
       "75%       6.813600e+04     6.828200e+04       6.822000e+04     6.824100e+04   \n",
       "max       1.006153e+07     1.001160e+07       9.968969e+06     9.943046e+06   \n",
       "\n",
       "           COUNTYFP        NEVER       RARELY    SOMETIMES   FREQUENTLY  \\\n",
       "count   3141.000000  3141.000000  3141.000000  3141.000000  3141.000000   \n",
       "mean   30392.602674     0.079952     0.082929     0.121340     0.207728   \n",
       "std    15156.613190     0.058543     0.055469     0.058007     0.063581   \n",
       "min     1001.000000     0.000000     0.000000     0.001000     0.029000   \n",
       "25%    18179.000000     0.034000     0.040000     0.079000     0.164000   \n",
       "50%    29177.000000     0.068000     0.073000     0.115000     0.204000   \n",
       "75%    45081.000000     0.113000     0.115000     0.156000     0.247000   \n",
       "max    56045.000000     0.432000     0.384000     0.422000     0.549000   \n",
       "\n",
       "            ALWAYS  \n",
       "count  3141.000000  \n",
       "mean      0.508044  \n",
       "std       0.152190  \n",
       "min       0.115000  \n",
       "25%       0.393000  \n",
       "50%       0.497000  \n",
       "75%       0.613000  \n",
       "max       0.889000  \n",
       "\n",
       "[8 rows x 630 columns]"
      ]
     },
     "execution_count": 4,
     "metadata": {},
     "output_type": "execute_result"
    }
   ],
   "source": [
    "# just run this cell\n",
    "covid_data.describe()"
   ]
  },
  {
   "cell_type": "markdown",
   "id": "70232867",
   "metadata": {},
   "source": [
    "### Question 2a\n",
    "\n",
    "In this homework, we will use linear regression to predict **the number of COVID-19 cases  per capita on September 12th, 2021**. Define a column `'9/12/2021_cpc'` in `covid_data` corresponding to the number of cases per capita on September 12th, 2021. \n",
    "\n",
    "Note that we will **always** use the `'POPESTIMATE2020'` as the population of each county.\n",
    "\n",
    "*Hint*: The number of cases per capita should be the total number of cases in a county divided by the population of the county.\n"
   ]
  },
  {
   "cell_type": "code",
   "execution_count": 5,
   "id": "d6cb72f6",
   "metadata": {
    "tags": []
   },
   "outputs": [],
   "source": [
    "covid_data['9/12/2021_cpc'] = covid_data['9/12/21'] / covid_data['POPESTIMATE2020']"
   ]
  },
  {
   "cell_type": "code",
   "execution_count": 6,
   "id": "32bd913d",
   "metadata": {
    "deletable": false,
    "editable": false
   },
   "outputs": [
    {
     "data": {
      "text/html": [
       "<p><strong><pre style='display: inline;'>q2a</pre></strong> passed!</p>"
      ],
      "text/plain": [
       "q2a results: All test cases passed!"
      ]
     },
     "execution_count": 6,
     "metadata": {},
     "output_type": "execute_result"
    }
   ],
   "source": [
    "grader.check(\"q2a\")"
   ]
  },
  {
   "cell_type": "markdown",
   "id": "1c33d339",
   "metadata": {},
   "source": [
    "### Question 2b\n",
    "\n",
    "Assign `mask_data` that has six columns from the original `covid_data` table: the five mask usage columns and the `9/12/2021_cpc` column.\n",
    "\n",
    "**Note**: You should make a **copy** of these columns using `df.copy()` ([link](https://pandas.pydata.org/docs/reference/api/pandas.DataFrame.copy.html)).\n",
    "\n"
   ]
  },
  {
   "cell_type": "code",
   "execution_count": 7,
   "id": "12ff3b1b",
   "metadata": {
    "tags": []
   },
   "outputs": [
    {
     "data": {
      "text/html": [
       "<div>\n",
       "<style scoped>\n",
       "    .dataframe tbody tr th:only-of-type {\n",
       "        vertical-align: middle;\n",
       "    }\n",
       "\n",
       "    .dataframe tbody tr th {\n",
       "        vertical-align: top;\n",
       "    }\n",
       "\n",
       "    .dataframe thead th {\n",
       "        text-align: right;\n",
       "    }\n",
       "</style>\n",
       "<table border=\"1\" class=\"dataframe\">\n",
       "  <thead>\n",
       "    <tr style=\"text-align: right;\">\n",
       "      <th></th>\n",
       "      <th>NEVER</th>\n",
       "      <th>RARELY</th>\n",
       "      <th>SOMETIMES</th>\n",
       "      <th>FREQUENTLY</th>\n",
       "      <th>ALWAYS</th>\n",
       "      <th>9/12/2021_cpc</th>\n",
       "    </tr>\n",
       "  </thead>\n",
       "  <tbody>\n",
       "    <tr>\n",
       "      <th>0</th>\n",
       "      <td>0.053</td>\n",
       "      <td>0.074</td>\n",
       "      <td>0.134</td>\n",
       "      <td>0.295</td>\n",
       "      <td>0.444</td>\n",
       "      <td>0.165411</td>\n",
       "    </tr>\n",
       "    <tr>\n",
       "      <th>1</th>\n",
       "      <td>0.083</td>\n",
       "      <td>0.059</td>\n",
       "      <td>0.098</td>\n",
       "      <td>0.323</td>\n",
       "      <td>0.436</td>\n",
       "      <td>0.152429</td>\n",
       "    </tr>\n",
       "    <tr>\n",
       "      <th>2</th>\n",
       "      <td>0.067</td>\n",
       "      <td>0.121</td>\n",
       "      <td>0.120</td>\n",
       "      <td>0.201</td>\n",
       "      <td>0.491</td>\n",
       "      <td>0.134003</td>\n",
       "    </tr>\n",
       "    <tr>\n",
       "      <th>3</th>\n",
       "      <td>0.020</td>\n",
       "      <td>0.034</td>\n",
       "      <td>0.096</td>\n",
       "      <td>0.278</td>\n",
       "      <td>0.572</td>\n",
       "      <td>0.171440</td>\n",
       "    </tr>\n",
       "    <tr>\n",
       "      <th>4</th>\n",
       "      <td>0.053</td>\n",
       "      <td>0.114</td>\n",
       "      <td>0.180</td>\n",
       "      <td>0.194</td>\n",
       "      <td>0.459</td>\n",
       "      <td>0.158538</td>\n",
       "    </tr>\n",
       "    <tr>\n",
       "      <th>...</th>\n",
       "      <td>...</td>\n",
       "      <td>...</td>\n",
       "      <td>...</td>\n",
       "      <td>...</td>\n",
       "      <td>...</td>\n",
       "      <td>...</td>\n",
       "    </tr>\n",
       "    <tr>\n",
       "      <th>3136</th>\n",
       "      <td>0.061</td>\n",
       "      <td>0.295</td>\n",
       "      <td>0.230</td>\n",
       "      <td>0.146</td>\n",
       "      <td>0.268</td>\n",
       "      <td>0.143205</td>\n",
       "    </tr>\n",
       "    <tr>\n",
       "      <th>3137</th>\n",
       "      <td>0.095</td>\n",
       "      <td>0.157</td>\n",
       "      <td>0.160</td>\n",
       "      <td>0.247</td>\n",
       "      <td>0.340</td>\n",
       "      <td>0.196238</td>\n",
       "    </tr>\n",
       "    <tr>\n",
       "      <th>3138</th>\n",
       "      <td>0.098</td>\n",
       "      <td>0.278</td>\n",
       "      <td>0.154</td>\n",
       "      <td>0.207</td>\n",
       "      <td>0.264</td>\n",
       "      <td>0.158496</td>\n",
       "    </tr>\n",
       "    <tr>\n",
       "      <th>3139</th>\n",
       "      <td>0.204</td>\n",
       "      <td>0.155</td>\n",
       "      <td>0.069</td>\n",
       "      <td>0.285</td>\n",
       "      <td>0.287</td>\n",
       "      <td>0.144330</td>\n",
       "    </tr>\n",
       "    <tr>\n",
       "      <th>3140</th>\n",
       "      <td>0.142</td>\n",
       "      <td>0.129</td>\n",
       "      <td>0.148</td>\n",
       "      <td>0.207</td>\n",
       "      <td>0.374</td>\n",
       "      <td>0.122942</td>\n",
       "    </tr>\n",
       "  </tbody>\n",
       "</table>\n",
       "<p>3141 rows × 6 columns</p>\n",
       "</div>"
      ],
      "text/plain": [
       "      NEVER  RARELY  SOMETIMES  FREQUENTLY  ALWAYS  9/12/2021_cpc\n",
       "0     0.053   0.074      0.134       0.295   0.444       0.165411\n",
       "1     0.083   0.059      0.098       0.323   0.436       0.152429\n",
       "2     0.067   0.121      0.120       0.201   0.491       0.134003\n",
       "3     0.020   0.034      0.096       0.278   0.572       0.171440\n",
       "4     0.053   0.114      0.180       0.194   0.459       0.158538\n",
       "...     ...     ...        ...         ...     ...            ...\n",
       "3136  0.061   0.295      0.230       0.146   0.268       0.143205\n",
       "3137  0.095   0.157      0.160       0.247   0.340       0.196238\n",
       "3138  0.098   0.278      0.154       0.207   0.264       0.158496\n",
       "3139  0.204   0.155      0.069       0.285   0.287       0.144330\n",
       "3140  0.142   0.129      0.148       0.207   0.374       0.122942\n",
       "\n",
       "[3141 rows x 6 columns]"
      ]
     },
     "execution_count": 7,
     "metadata": {},
     "output_type": "execute_result"
    }
   ],
   "source": [
    "mask_data = covid_data.loc[:, ['NEVER', 'RARELY', 'SOMETIMES', 'FREQUENTLY', 'ALWAYS', '9/12/2021_cpc']]\n",
    "mask_data"
   ]
  },
  {
   "cell_type": "code",
   "execution_count": 8,
   "id": "cc30b3fb",
   "metadata": {
    "deletable": false,
    "editable": false
   },
   "outputs": [
    {
     "data": {
      "text/html": [
       "<p><strong><pre style='display: inline;'>q2b</pre></strong> passed!</p>"
      ],
      "text/plain": [
       "q2b results: All test cases passed!"
      ]
     },
     "execution_count": 8,
     "metadata": {},
     "output_type": "execute_result"
    }
   ],
   "source": [
    "grader.check(\"q2b\")"
   ]
  },
  {
   "cell_type": "markdown",
   "id": "d20db77f",
   "metadata": {},
   "source": [
    "<!-- BEGIN QUESTION -->\n",
    "\n",
    "### Question 2c\n",
    "\n",
    "Our goal is to use county-wise mask usage data to predict the number of COVID-19 cases per capita on September 12th, 2021 (i.e., the column `9/12/2021_cpc`). But before modeling, let's do some EDA to explore the multicollinearality in these features, and then we will revisit this question in part 4. \n",
    "\n",
    "Create a visualization that shows the pairwise correlation between each combination of columns in `mask_data`. For 2-D visualizations, consider Seaborn's [heatmap](https://seaborn.pydata.org/generated/seaborn.heatmap.html). Remember to add a title to your plot.\n",
    "\n",
    "*Hint*: You should be plotting 36 values corresponding to the pairwise correlations of the six columns in `mask_data`.\n"
   ]
  },
  {
   "cell_type": "code",
   "execution_count": 9,
   "id": "77363463",
   "metadata": {
    "tags": []
   },
   "outputs": [
    {
     "data": {
      "text/plain": [
       "Text(0.5, 1.0, 'Pairwise Correlation Between Mask Usage and Cases')"
      ]
     },
     "execution_count": 9,
     "metadata": {},
     "output_type": "execute_result"
    },
    {
     "data": {
      "image/png": "[encoded data removed]",
      "text/plain": [
       "<Figure size 640x480 with 2 Axes>"
      ]
     },
     "metadata": {},
     "output_type": "display_data"
    }
   ],
   "source": [
    "# a = sns.load_dataset(mask_data).pivot('NEVER', 'RARELY', 'SOMETIMES', 'FREQUENTLY', 'ALWAYS', '9/12/2021_cpc')\n",
    "sns.heatmap(mask_data.corr('pearson'), annot=True)\n",
    "plt.title('Pairwise Correlation Between Mask Usage and Cases')"
   ]
  },
  {
   "cell_type": "markdown",
   "id": "6bc6c537",
   "metadata": {},
   "source": [
    "<!-- END QUESTION -->\n",
    "\n",
    "<!-- BEGIN QUESTION -->\n",
    "\n",
    "### Question 2d\n",
    "\n",
    "(1) Describe the trends and takeaways visible in the visualization of pairwise correlations you plotted in Question 2c. Specifically, how does the correlation between pairs of features (i.e. mask usage) look like? How does the correlation between mask usage and cases per capita look like?\n",
    "\n",
    "(2) If we are going to build a linear regression model (with an intercept term) using all five mask usage columns as features, what could be the problem?\n"
   ]
  },
  {
   "cell_type": "markdown",
   "id": "980ffe44",
   "metadata": {},
   "source": [
    "1. There looks to be a correlation between wearing a mask and lower levels of infection. As you can see, the 'ALWAYS' column is seeing less cases than, say the 'NEVER' column.\n",
    "2. There is a repeating of the same variables, so overplotting could be an issue."
   ]
  },
  {
   "cell_type": "markdown",
   "id": "ff3abcf6",
   "metadata": {
    "tags": []
   },
   "source": [
    "<!-- END QUESTION -->\n",
    "\n",
    "<br/><br/><br/>\n",
    "\n",
    "<hr style=\"border: 5px solid #003262;\" />\n",
    "<hr style=\"border: 1px solid #fdb515;\" />\n",
    "\n",
    "## Question 3: Creating a Preliminary COVID-19 Model\n",
    "\n",
    "This question will guide you through creating a linear regression model that will predict the number of COVID-19 cases per capita given various COVID-19 safety protocols that have been implemented. Then, we will investigate the bias, variance, and observational noise of this model in the next two questions.\n"
   ]
  },
  {
   "cell_type": "markdown",
   "id": "83aceaa9",
   "metadata": {},
   "source": [
    "### Question 3a\n",
    "\n",
    "Despite the problems we see previously, let's train a linear regression model with an intercept term, using Scikit-learn, to predict the number of COVID-19 cases per capita for September 12, 2021 using county-wise mask usage data from `mask_data`. Use `train_test_split` to evaluate your model's RMSE on a held-out test set with 33% of the COVID-19 data; call the resulting splits `X_train`, `X_test`, `y_train`, and `y_test`.\n",
    "\n",
    "To pass the autograder, make sure to set the parameter `random_state` to 42 in your call to `train_test_split` to generate a reproducible data split ([documentation](http://scikit-learn.org/stable/modules/generated/sklearn.model_selection.train_test_split.html)).\n",
    "\n"
   ]
  },
  {
   "cell_type": "code",
   "execution_count": 10,
   "id": "eacc25a5",
   "metadata": {
    "tags": []
   },
   "outputs": [
    {
     "data": {
      "text/plain": [
       "(0.03477381597347317, 0.037177549972151336)"
      ]
     },
     "execution_count": 10,
     "metadata": {},
     "output_type": "execute_result"
    }
   ],
   "source": [
    "# Create train/test sets\n",
    "X = mask_data.loc[:, ['NEVER', 'RARELY', 'SOMETIMES', 'FREQUENTLY', 'ALWAYS']]\n",
    "y = mask_data.loc[:, '9/12/2021_cpc']\n",
    "X_train, X_test, y_train, y_test = train_test_split(X, y, random_state=42, train_size=0.33)\n",
    "\n",
    "# fit the linear model and make predictions\n",
    "model = lm.LinearRegression(fit_intercept=True)\n",
    "model.fit(X_train, y_train)\n",
    "y_fitted = model.predict(X_train)\n",
    "y_predicted = model.predict(X_test)\n",
    "\n",
    "# compute RMSE on train and test sets\n",
    "def rmse(predicted, actual):\n",
    "    \"\"\"\n",
    "    Calculates RMSE from actual and predicted values\n",
    "    Input:\n",
    "      predicted (1D array): vector of predicted/fitted values\n",
    "      actual (1D array): vector of actual values\n",
    "    Output:\n",
    "      a float, the root-mean square error\n",
    "    \"\"\"\n",
    "    return np.sqrt(np.mean((actual - predicted)**2))\n",
    "\n",
    "train_rmse_cpc = rmse(y_train, y_fitted)\n",
    "test_rmse_cpc = rmse(y_test, y_predicted)\n",
    "\n",
    "train_rmse_cpc, test_rmse_cpc"
   ]
  },
  {
   "cell_type": "code",
   "execution_count": 11,
   "id": "a08a2f0f",
   "metadata": {
    "deletable": false,
    "editable": false
   },
   "outputs": [
    {
     "data": {
      "text/html": [
       "<p><strong><pre style='display: inline;'>q3a</pre></strong> passed!</p>"
      ],
      "text/plain": [
       "q3a results: All test cases passed!"
      ]
     },
     "execution_count": 11,
     "metadata": {},
     "output_type": "execute_result"
    }
   ],
   "source": [
    "grader.check(\"q3a\")"
   ]
  },
  {
   "cell_type": "markdown",
   "id": "ce4c5951",
   "metadata": {},
   "source": [
    "<!-- BEGIN QUESTION -->\n",
    "\n",
    "### Question 3b\n",
    "\n",
    "To visualize the model performance from part (a), let's make the following two visualizations: \n",
    "\n",
    "(1) the predicted values vs. observed values on the test set,\n",
    "\n",
    "(2) the residuals plot. (Note: in multiple linear regression, the residual plot has predicted values vs. residuals) \n",
    "\n",
    "Some notes:\n",
    "* We've used `plt.subplot` ([documentation](https://matplotlib.org/stable/gallery/subplots_axes_and_figures/subplots_demo.html)) so that you can view both visualizations side-by-side. For example, `plt.subplot(121)` sets the plottable area to the first column of a 1x2 plot grid; you can then call Matplotlib and Seaborn functions to plot that area, before the next `plt.subplot(122)` area is set.\n",
    "* Remember to add a guiding line to both plot where $\\hat{y} = y$, i.e., where the residual is 0.\n",
    "* Remember to label your axes.\n"
   ]
  },
  {
   "cell_type": "code",
   "execution_count": 12,
   "id": "099369bd",
   "metadata": {
    "tags": []
   },
   "outputs": [
    {
     "data": {
      "image/png": "[encoded data removed]",
      "text/plain": [
       "<Figure size 1200x600 with 2 Axes>"
      ]
     },
     "metadata": {},
     "output_type": "display_data"
    }
   ],
   "source": [
    "plt.figure(figsize=(12,6))      # do not change this line\n",
    "\n",
    "plt.subplot(121)                # do not change this line\n",
    "# (1) predictions vs observations\n",
    "plt.scatter(y_predicted, y_test)\n",
    "plt.plot(y_predicted, y_predicted, 'r')\n",
    "\n",
    "plt.subplot(122)               # do not change this line\n",
    "# (2) residual plot\n",
    "plt.scatter(y_predicted, y_test - y_predicted)\n",
    "plt.axhline(y=0, color='red')\n",
    "\n",
    "plt.tight_layout()             # do not change this line"
   ]
  },
  {
   "cell_type": "markdown",
   "id": "7074bf1f",
   "metadata": {},
   "source": [
    "<!-- END QUESTION -->\n",
    "\n",
    "<!-- BEGIN QUESTION -->\n",
    "\n",
    "### Question 3c\n",
    "\n",
    "Describe what the plots in part (b) indicate about this linear model.\n"
   ]
  },
  {
   "cell_type": "markdown",
   "id": "354ce44a",
   "metadata": {},
   "source": [
    "This indicates that the linear model has a poorly correlated fit. There isn't much of a linear trend shown."
   ]
  },
  {
   "cell_type": "markdown",
   "id": "9acb6d5b",
   "metadata": {},
   "source": [
    "<!-- END QUESTION -->\n",
    "\n",
    "<br/><br/><br/>\n",
    "\n",
    "<hr style=\"border: 5px solid #003262;\" />\n",
    "<hr style=\"border: 1px solid #fdb515;\" />\n",
    "\n",
    "## Question 4: Performing Multicollinearity Analysis\n",
    "\n",
    "This question will guide you through performing an analysis that can reveal potential multicollinearity in our features, which is unideal. In particular, we will use bootstrap to get $95\\%$ confidence intervals on the fitted parameters."
   ]
  },
  {
   "cell_type": "markdown",
   "id": "4fb80257",
   "metadata": {},
   "source": [
    "### Question 4a\n",
    "\n",
    "Fill in the blanks below to implement the `bootstrap_sample` function, that returns $k$ randomly drawn samples from a dataset `data` of size $n$ with replacement, each of size $n$ (i.e. same size as the dataset). In other words, the returned object should be a Python list `samples` containing $k$ Pandas DataFrames, each of which have $n$ rows.\n",
    "\n",
    "*Hint*: Take a look at the [documentation](https://pandas.pydata.org/docs/reference/api/pandas.DataFrame.sample.html) for `df.sample`!\n"
   ]
  },
  {
   "cell_type": "code",
   "execution_count": 13,
   "id": "a3fa1791",
   "metadata": {
    "tags": []
   },
   "outputs": [
    {
     "data": {
      "text/html": [
       "<div>\n",
       "<style scoped>\n",
       "    .dataframe tbody tr th:only-of-type {\n",
       "        vertical-align: middle;\n",
       "    }\n",
       "\n",
       "    .dataframe tbody tr th {\n",
       "        vertical-align: top;\n",
       "    }\n",
       "\n",
       "    .dataframe thead th {\n",
       "        text-align: right;\n",
       "    }\n",
       "</style>\n",
       "<table border=\"1\" class=\"dataframe\">\n",
       "  <thead>\n",
       "    <tr style=\"text-align: right;\">\n",
       "      <th></th>\n",
       "      <th>NEVER</th>\n",
       "      <th>RARELY</th>\n",
       "      <th>SOMETIMES</th>\n",
       "      <th>FREQUENTLY</th>\n",
       "      <th>ALWAYS</th>\n",
       "      <th>9/12/2021_cpc</th>\n",
       "    </tr>\n",
       "  </thead>\n",
       "  <tbody>\n",
       "    <tr>\n",
       "      <th>558</th>\n",
       "      <td>0.088</td>\n",
       "      <td>0.116</td>\n",
       "      <td>0.119</td>\n",
       "      <td>0.241</td>\n",
       "      <td>0.436</td>\n",
       "      <td>0.090416</td>\n",
       "    </tr>\n",
       "    <tr>\n",
       "      <th>1108</th>\n",
       "      <td>0.088</td>\n",
       "      <td>0.084</td>\n",
       "      <td>0.167</td>\n",
       "      <td>0.210</td>\n",
       "      <td>0.451</td>\n",
       "      <td>0.163197</td>\n",
       "    </tr>\n",
       "    <tr>\n",
       "      <th>1976</th>\n",
       "      <td>0.025</td>\n",
       "      <td>0.013</td>\n",
       "      <td>0.047</td>\n",
       "      <td>0.224</td>\n",
       "      <td>0.691</td>\n",
       "      <td>0.095716</td>\n",
       "    </tr>\n",
       "    <tr>\n",
       "      <th>2022</th>\n",
       "      <td>0.080</td>\n",
       "      <td>0.216</td>\n",
       "      <td>0.202</td>\n",
       "      <td>0.256</td>\n",
       "      <td>0.247</td>\n",
       "      <td>0.142836</td>\n",
       "    </tr>\n",
       "    <tr>\n",
       "      <th>2018</th>\n",
       "      <td>0.172</td>\n",
       "      <td>0.235</td>\n",
       "      <td>0.096</td>\n",
       "      <td>0.293</td>\n",
       "      <td>0.205</td>\n",
       "      <td>0.188173</td>\n",
       "    </tr>\n",
       "    <tr>\n",
       "      <th>...</th>\n",
       "      <td>...</td>\n",
       "      <td>...</td>\n",
       "      <td>...</td>\n",
       "      <td>...</td>\n",
       "      <td>...</td>\n",
       "      <td>...</td>\n",
       "    </tr>\n",
       "    <tr>\n",
       "      <th>2001</th>\n",
       "      <td>0.195</td>\n",
       "      <td>0.189</td>\n",
       "      <td>0.125</td>\n",
       "      <td>0.252</td>\n",
       "      <td>0.239</td>\n",
       "      <td>0.111086</td>\n",
       "    </tr>\n",
       "    <tr>\n",
       "      <th>2441</th>\n",
       "      <td>0.197</td>\n",
       "      <td>0.118</td>\n",
       "      <td>0.082</td>\n",
       "      <td>0.171</td>\n",
       "      <td>0.431</td>\n",
       "      <td>0.171263</td>\n",
       "    </tr>\n",
       "    <tr>\n",
       "      <th>2201</th>\n",
       "      <td>0.074</td>\n",
       "      <td>0.061</td>\n",
       "      <td>0.141</td>\n",
       "      <td>0.243</td>\n",
       "      <td>0.482</td>\n",
       "      <td>0.146143</td>\n",
       "    </tr>\n",
       "    <tr>\n",
       "      <th>2619</th>\n",
       "      <td>0.136</td>\n",
       "      <td>0.076</td>\n",
       "      <td>0.126</td>\n",
       "      <td>0.234</td>\n",
       "      <td>0.428</td>\n",
       "      <td>0.194734</td>\n",
       "    </tr>\n",
       "    <tr>\n",
       "      <th>113</th>\n",
       "      <td>0.081</td>\n",
       "      <td>0.034</td>\n",
       "      <td>0.083</td>\n",
       "      <td>0.160</td>\n",
       "      <td>0.643</td>\n",
       "      <td>0.135784</td>\n",
       "    </tr>\n",
       "  </tbody>\n",
       "</table>\n",
       "<p>3141 rows × 6 columns</p>\n",
       "</div>"
      ],
      "text/plain": [
       "      NEVER  RARELY  SOMETIMES  FREQUENTLY  ALWAYS  9/12/2021_cpc\n",
       "558   0.088   0.116      0.119       0.241   0.436       0.090416\n",
       "1108  0.088   0.084      0.167       0.210   0.451       0.163197\n",
       "1976  0.025   0.013      0.047       0.224   0.691       0.095716\n",
       "2022  0.080   0.216      0.202       0.256   0.247       0.142836\n",
       "2018  0.172   0.235      0.096       0.293   0.205       0.188173\n",
       "...     ...     ...        ...         ...     ...            ...\n",
       "2001  0.195   0.189      0.125       0.252   0.239       0.111086\n",
       "2441  0.197   0.118      0.082       0.171   0.431       0.171263\n",
       "2201  0.074   0.061      0.141       0.243   0.482       0.146143\n",
       "2619  0.136   0.076      0.126       0.234   0.428       0.194734\n",
       "113   0.081   0.034      0.083       0.160   0.643       0.135784\n",
       "\n",
       "[3141 rows x 6 columns]"
      ]
     },
     "execution_count": 13,
     "metadata": {},
     "output_type": "execute_result"
    }
   ],
   "source": [
    "def bootstrap_sample(data, k):\n",
    "    \"\"\"\n",
    "    Performs bootstrap sampling on data to obtain k samples of size n.\n",
    "    \n",
    "    Arguments:\n",
    "        data - Dataset contained as a Pandas DataFrame \n",
    "        k - Number of randomly drawn samples\n",
    "    \n",
    "    Returns:\n",
    "        samples - List containing k Pandas DataFrames of size n each\n",
    "                  corresponding to each sample  \n",
    "    \"\"\"\n",
    "    samples = []\n",
    "    for i in range(k):\n",
    "        boot = data.sample(n=len(data), replace=True)\n",
    "        samples.append(boot)\n",
    "    return samples\n",
    "\n",
    "bootstrap_sample(mask_data, 1)[0]"
   ]
  },
  {
   "cell_type": "code",
   "execution_count": 14,
   "id": "e80ac530",
   "metadata": {
    "deletable": false,
    "editable": false
   },
   "outputs": [
    {
     "data": {
      "text/html": [
       "<p><strong><pre style='display: inline;'>q4a</pre></strong> passed!</p>"
      ],
      "text/plain": [
       "q4a results: All test cases passed!"
      ]
     },
     "execution_count": 14,
     "metadata": {},
     "output_type": "execute_result"
    }
   ],
   "source": [
    "grader.check(\"q4a\")"
   ]
  },
  {
   "cell_type": "markdown",
   "id": "d8a1c046",
   "metadata": {},
   "source": [
    "### Question 4b\n",
    "\n",
    "Using the function from the previous part, let's do the following:\n",
    "\n",
    "1. Generate 1000 bootstrapped samples from the original `mask_data` dataframe. \n",
    "2. Use Scikit-learn to fit a linear regression model (with an intercept term) to use the mask usage features to predict the `9/12/2021_cpc` response. \n",
    "3. Store each of the 1000 trained models in the Python list `models`.\n",
    "\n",
    "Note: You *should not* create any validation or testing sets in this subpart; you should create and fit a new linear model 1000 times; you should fit your model to the entire resampled dataframe.\n"
   ]
  },
  {
   "cell_type": "code",
   "execution_count": 15,
   "id": "d57e944b",
   "metadata": {
    "tags": []
   },
   "outputs": [],
   "source": [
    "np.random.seed(42)\n",
    "\n",
    "datasets = bootstrap_sample(mask_data, 1000)\n",
    "models = []\n",
    "for dataset in datasets:\n",
    "    X = dataset[['NEVER', 'RARELY', 'SOMETIMES', 'FREQUENTLY', 'ALWAYS']]\n",
    "    y = dataset['9/12/2021_cpc']\n",
    "    linmod = lm.LinearRegression(fit_intercept=True)\n",
    "    models.append(linmod.fit(X, y))\n",
    "\n",
    "# These take up a lot of memory, so we should remove them!\n",
    "del datasets"
   ]
  },
  {
   "cell_type": "code",
   "execution_count": 16,
   "id": "c84b94b6",
   "metadata": {
    "deletable": false,
    "editable": false
   },
   "outputs": [
    {
     "data": {
      "text/html": [
       "<p><strong><pre style='display: inline;'>q4b</pre></strong> passed!</p>"
      ],
      "text/plain": [
       "q4b results: All test cases passed!"
      ]
     },
     "execution_count": 16,
     "metadata": {},
     "output_type": "execute_result"
    }
   ],
   "source": [
    "grader.check(\"q4b\")"
   ]
  },
  {
   "cell_type": "markdown",
   "id": "ea91cb6a",
   "metadata": {},
   "source": [
    "### Question 4c\n",
    "\n",
    "Fill in the blanks below in the `confidence_interval` function to generate a $95\\%$ confidence interval for each of our parameters $\\theta_i$, including the intercept term $\\theta_0$. All of the helper code to extract coefficients from our trained models has been implemented for you already.\n",
    "\n",
    "**Note**: \n",
    "- For a refresh on confidence intervals, refer to this link from the [Data 8 textbook](https://inferentialthinking.com/chapters/13/3/Confidence_Intervals.html). \n",
    "- To get the $i$th column from a 2D-array, you can use `2D_array[:, i]`.\n"
   ]
  },
  {
   "cell_type": "code",
   "execution_count": 17,
   "id": "f76d01b6",
   "metadata": {
    "tags": []
   },
   "outputs": [
    {
     "data": {
      "text/markdown": [
       "#### Confidence Intervals:"
      ],
      "text/plain": [
       "<IPython.core.display.Markdown object>"
      ]
     },
     "metadata": {},
     "output_type": "display_data"
    },
    {
     "data": {
      "text/markdown": [
       "|parameter|lower|upper|\n",
       "----|----|----|\n",
       "|$\\theta_0$|-2.620072672904695|1.250787184226209|\n",
       "|$\\theta_1$|-1.0896828874135192|2.7983325852383625|\n",
       "|$\\theta_2$|-1.1461331540818134|2.744519025435909|\n",
       "|$\\theta_3$|-1.018294369222972|2.8436420433762413|\n",
       "|$\\theta_4$|-1.1582158941591831|2.7329392573407376|\n",
       "|$\\theta_5$|-1.1477854499077673|2.7195109052029283|"
      ],
      "text/plain": [
       "<IPython.core.display.Markdown object>"
      ]
     },
     "metadata": {},
     "output_type": "display_data"
    }
   ],
   "source": [
    "def extract_coefs(models, include_intercept = True):\n",
    "    \"\"\"\n",
    "    NOTE: This function has already been implemented. You do not need to modify this!\n",
    "    \n",
    "    Extracts coefficients of all the linear regression models in MODELS, and returns\n",
    "    it as a NumPy array with one model's coefficients as each row.\n",
    "    \n",
    "    Arguments:\n",
    "        models - Contains k sklearn LinearRegression models, each with p + 1 coefficients\n",
    "        include_intercept - Whether to include intercept in returned coefficients\n",
    "    \n",
    "    Returns:\n",
    "        coef_array - Coefficients of all k models, each with p + 1 coefficients (if intercept\n",
    "                     enabled, otherwise p). Returned object is k x (p + 1) NumPy array.\n",
    "    \"\"\"\n",
    "    coef_array = np.zeros(shape = (len(models), len(models[0].coef_) + 1))\n",
    "    for i, m in enumerate(models):\n",
    "        coef_array[i, 0] = m.intercept_\n",
    "        coef_array[i, 1:] = m.coef_\n",
    "    if include_intercept:\n",
    "        return coef_array\n",
    "    return coef_array[:, 1:]\n",
    "\n",
    "def confidence_interval(coefs):\n",
    "    \"\"\"\n",
    "    Calculates confidence intervals for each theta_i based on coefficients of \n",
    "    bootstrapped models. Returns output as a list of confidence intervals.\n",
    "    \n",
    "    Arguments:\n",
    "        coefs - Output of extract_coefs, a k x (p + 1) or k x p NumPy array containing\n",
    "                coefficients of bootstrapped models\n",
    "    \n",
    "    Returns:\n",
    "        cis - Confidence intervals of each parameter theta_i in the form of a \n",
    "              list like this: [(0.5, 0.75), (0.2, 0.4), ...]\n",
    "    \"\"\"\n",
    "    cis = []\n",
    "    \n",
    "    # FILL IN CODE BELOW\n",
    "    for i in range(6):\n",
    "        theta_i_values = coefs[:, i]\n",
    "        theta_i_lower_ci, theta_i_upper_ci = np.percentile(theta_i_values, 2.5), np.percentile(theta_i_values, 97.5)\n",
    "        cis.append((theta_i_lower_ci, theta_i_upper_ci))\n",
    "    \n",
    "    return cis\n",
    "\n",
    "# compute confidence intervals\n",
    "model_coefs = extract_coefs(models)\n",
    "cis = confidence_interval(model_coefs)\n",
    "\n",
    "# pretty print in a table\n",
    "display(Markdown('#### Confidence Intervals:'))\n",
    "md_list = [\"|parameter|lower|upper|\",\n",
    "           \"----|----|----|\"]\n",
    "md_list += [fr\"|$\\theta_{i}$|{lci}|{uci}|\" for i, (lci, uci) in enumerate(cis)]\n",
    "display(Markdown('\\n'.join(md_list)))"
   ]
  },
  {
   "cell_type": "code",
   "execution_count": 18,
   "id": "23f41445",
   "metadata": {
    "deletable": false,
    "editable": false
   },
   "outputs": [
    {
     "data": {
      "text/html": [
       "<p><strong><pre style='display: inline;'>q4c</pre></strong> passed!</p>"
      ],
      "text/plain": [
       "q4c results: All test cases passed!"
      ]
     },
     "execution_count": 18,
     "metadata": {},
     "output_type": "execute_result"
    }
   ],
   "source": [
    "grader.check(\"q4c\")"
   ]
  },
  {
   "cell_type": "markdown",
   "id": "ea28316d",
   "metadata": {},
   "source": [
    "<!-- BEGIN QUESTION -->\n",
    "\n",
    "### Question 4d\n",
    "\n",
    "Interpret the confidence intervals above for each of the $\\theta_i$, where $\\theta_0$ is the intercept term and the remaining $\\theta_i$'s are parameters corresponding to mask usage features. What does this indicate about our data and our model?\n",
    "\n",
    "Describe a reason why this could be happening.\n",
    "\n",
    "*Hint*: Take a look at the design matrix, heatmap, and response from Question 2!\n"
   ]
  },
  {
   "cell_type": "markdown",
   "id": "2a31be99",
   "metadata": {},
   "source": [
    "This indicates that our "
   ]
  },
  {
   "cell_type": "markdown",
   "id": "43241623",
   "metadata": {},
   "source": [
    "<!-- END QUESTION -->\n",
    "\n",
    "<br/><br/><br/>\n",
    "\n",
    "<hr style=\"border: 5px solid #003262;\" />\n",
    "<hr style=\"border: 1px solid #fdb515;\" />\n",
    "\n",
    "## Question 5: Performing Bias-Variance Analysis\n",
    "\n",
    "This question will guide you through performing an analysis that can estimate the bias and variance of our models, which can be helpful in modeling."
   ]
  },
  {
   "cell_type": "markdown",
   "id": "a51e67d3",
   "metadata": {},
   "source": [
    "X.iloc[[100]]### Question 5a\n",
    "\n",
    "We will use the same bootstrapped models contained in the Python list `models` to estimate our **model variance**. To do this, recall that the model variance on a data point is simply the variance of our predictions on that sample point. From the bias-variance decomposition in lecture, for a parametric model $\\hat{Y}(x) = f_{\\hat{\\theta}}(x)$:\n",
    "\n",
    "$$\\text{model variance} = \\mathrm{Var}(f_{\\hat{\\theta}}(x))$$\n",
    "\n",
    "To investigate the variance in our test predictions, we sample a particular data point $(x_i, y_i)$. Define the **model risk** for this point as the mean square error over all possible fitted models:\n",
    "\n",
    "$$\\text{model risk} = \\mathbb{E}\\left[\\left(y_i - f_{\\hat{\\theta}}(x_i)\\right)^2\\right]$$\n",
    "\n",
    "Note that in contrast to lecture, you are considering a particular observation of the random response variable $Y = y_i$. Therefore model risk is an expectation over the estimate $\\hat{\\theta}$, which is a function of the random sample you used to fit your model.\n",
    "\n",
    "Using the bootstrapped estimates `models`, approximate the **ratio of model variance to model risk** for the datapoint $i = 100$, i.e., $(x_{100}, y_{100})$. You can interpret this ratio as the the proportion of the expected square error on the data point \"captured\" by the model variance. Since you used the bootstrap to create 1000 models, you can generate 1000 predictions for the given $x_i$. Recall that `X` is the design matrix of mask features, and `y` is the `9/12/2021_cpc` response.\n",
    "\n",
    "Assign `prop_var` to the computed, approximate ratio:\n",
    "\n",
    "$$\n",
    "\\frac{\\text{model variance}}{\\text{model risk}}=\\frac{\\mathrm{Var}\\left(f_{\\hat{\\theta}}(x_{100})\\right)}{\\mathbb{E}\\left[\\left(y_{100} - f_{\\hat{\\theta}}(x_{100})\\right)^2\\right]}\n",
    "$$\n",
    "\n",
    "\n",
    "Hint: use list comprehension for creating your predictions."
   ]
  },
  {
   "cell_type": "code",
   "execution_count": 19,
   "id": "5576faea",
   "metadata": {
    "tags": []
   },
   "outputs": [
    {
     "data": {
      "text/plain": [
       "0.0018828730354058796"
      ]
     },
     "execution_count": 19,
     "metadata": {},
     "output_type": "execute_result"
    }
   ],
   "source": [
    "X_test_pt = X.iloc[[100]]\n",
    "y_test_pt = y.iloc[100]\n",
    "predictions = []\n",
    "predictions = [np.append(predictions, i.predict(X_test_pt)) for i in models]\n",
    "np.squeeze(predictions)\n",
    "error_squared = (2 * (rmse(y_test_pt, predictions)) ** 2)\n",
    "\n",
    "preds_df = pd.DataFrame({'predictions': predictions, 'error_squared': error_squared})\n",
    "prop_var = preds_df['predictions'].var() / preds_df['error_squared'].mean()\n",
    "\n",
    "prop_var"
   ]
  },
  {
   "cell_type": "code",
   "execution_count": 20,
   "id": "ef08c84c",
   "metadata": {
    "deletable": false,
    "editable": false
   },
   "outputs": [
    {
     "data": {
      "text/html": [
       "<p><strong><pre style='display: inline;'>q5a</pre></strong> passed!</p>"
      ],
      "text/plain": [
       "q5a results: All test cases passed!"
      ]
     },
     "execution_count": 20,
     "metadata": {},
     "output_type": "execute_result"
    }
   ],
   "source": [
    "grader.check(\"q5a\")"
   ]
  },
  {
   "cell_type": "markdown",
   "id": "aa74d6be",
   "metadata": {},
   "source": [
    "<!-- BEGIN QUESTION -->\n",
    "\n",
    "### Question 5b\n",
    "\n",
    "Comment on the ratio `prop_var`, which is the proportion of the expected square error on the data point captured by the model variance. Is the model variance the dominant term in the bias-variance decomposition? If not, what term(s) dominate the bias-variance decomposition?\n",
    "\n",
    "**Note**: The Bias-Variance decomposition from lecture:\n",
    "\n",
    "$$\n",
    "\\text{model risk} = \\sigma^2 + (\\text{model bias})^2 + \\text{model variance}\n",
    "$$\n",
    "\n",
    "where $\\sigma^2$ is the observation variance, or \"irreducible error\".\n"
   ]
  },
  {
   "cell_type": "markdown",
   "id": "032f16d8",
   "metadata": {},
   "source": [
    "Model variance is not the dominant term because the proportion is < 1. This means the numerator(variance) is lower than the denominator(model risk). In this case, the model risk is the dominant term, perhaps more specifically, the bias is larger."
   ]
  },
  {
   "cell_type": "markdown",
   "id": "ebdf4d9c",
   "metadata": {},
   "source": [
    "<!-- END QUESTION -->\n",
    "\n",
    "### Question 5c\n",
    "\n",
    "Now let's calculate the average variance and average mean square error across 250 randomly sampled $(x_i, y_i)$ points. In other words, estimate the following quantities across all $x_i$ and $y_i$ in `X_sample` and `y_sample`:\n",
    "\n",
    "$$\n",
    "\\frac{1}{250} \\sum_{i=1}^{250} \\mathrm{Var}\\left(f_{\\hat{\\theta}}(x_i)\\right)\n",
    "$$\n",
    "\n",
    "and\n",
    "\n",
    "$$\n",
    "\\frac{1}{250} \\sum_{i=1}^{250} \\mathbb{E}\\left[\\left(y_i - f_{\\hat{\\theta}}(x_i)\\right)^2\\right]\n",
    "$$\n",
    "\n",
    "Hint: You can **reuse** most of your code from 5a.\n"
   ]
  },
  {
   "cell_type": "code",
   "execution_count": null,
   "id": "2a196680",
   "metadata": {
    "tags": []
   },
   "outputs": [],
   "source": [
    "np.random.seed(42)\n",
    "\n",
    "X_sample = X.sample(250)         # generate 250 x_i\n",
    "y_sample = y.loc[X_sample.index] # ...and select the corresponding y_i\n",
    "variance = []\n",
    "var = np.var(predictions)\n",
    "variance.append(var)\n",
    "error_arr = []\n",
    "predictions = []\n",
    "for i in np.arange(X_sample.shape[0]):\n",
    "    predictions = [mod.predict(X_sample.iloc[[i]]) for mod in models]\n",
    "    predictions = np.squeeze(predictions)\n",
    "    error = np.square(y_sample.iloc[i] - np.mean(predictions))\n",
    "    error_arr.append(error)\n",
    "avg_var, avg_mse = np.mean(variance), np.mean(error_arr)\n",
    "avg_var, avg_mse"
   ]
  },
  {
   "cell_type": "code",
   "execution_count": null,
   "id": "8e661d40",
   "metadata": {
    "deletable": false,
    "editable": false
   },
   "outputs": [],
   "source": [
    "grader.check(\"q5c\")"
   ]
  },
  {
   "cell_type": "markdown",
   "id": "7cc775d8",
   "metadata": {},
   "source": [
    "<!-- BEGIN QUESTION -->\n",
    "\n",
    "### Question 5d\n",
    "\n",
    "Propose a solution to reducing the mean square error using the insights gained from the bias-variance decomposition above.\n",
    "\n",
    "Assume that the standard bias-variance decomposition used in lecture can be applied here.\n"
   ]
  },
  {
   "cell_type": "markdown",
   "id": "497d773b",
   "metadata": {},
   "source": [
    "We could get a larger sample size. We also could aim to get the error squared closer to zero to get the number of mse smaller."
   ]
  },
  {
   "cell_type": "markdown",
   "id": "9174b8ac",
   "metadata": {
    "jp-MarkdownHeadingCollapsed": true,
    "nbgrader": {
     "grade": false,
     "grade_id": "finish",
     "locked": true,
     "schema_version": 2,
     "solution": false
    },
    "tags": []
   },
   "source": [
    "<!-- END QUESTION -->\n",
    "\n",
    "## Congratulations!\n",
    "\n",
    "Congrats! You are finished with this homework assignment."
   ]
  },
  {
   "cell_type": "markdown",
   "id": "f37e3395",
   "metadata": {},
   "source": [
    "## Detailed Submission Instructions\n",
    "\n",
    "**There are two parts to this assignment.**\n",
    "1. Question 1 is a written problem and should be submitted as a separate PDF to the Written portal of Gradescope. Please see the top of this notebook for the question writeup.\n",
    "\n",
    "1. All other questions are submitted as part of this notebook. Please see the following cells to generate the zip file for the Coding portal of Gradescope."
   ]
  },
  {
   "cell_type": "markdown",
   "id": "38fed6d2",
   "metadata": {
    "deletable": false,
    "editable": false
   },
   "source": [
    "## Submission\n",
    "\n",
    "Make sure you have run all cells in your notebook in order before running the cell below, so that all images/graphs appear in the output. The cell below will generate a zip file for you to submit. **Please save before exporting!**"
   ]
  },
  {
   "cell_type": "code",
   "execution_count": null,
   "id": "1831cc4b",
   "metadata": {
    "deletable": false,
    "editable": false
   },
   "outputs": [],
   "source": [
    "# Save your notebook first, then run this cell to export your submission.\n",
    "grader.export(run_tests=True)"
   ]
  },
  {
   "cell_type": "markdown",
   "id": "5918c2b3",
   "metadata": {},
   "source": [
    " "
   ]
  }
 ],
 "metadata": {
  "kernelspec": {
   "display_name": "Python 3 (ipykernel)",
   "language": "python",
   "name": "python3"
  },
  "language_info": {
   "codemirror_mode": {
    "name": "ipython",
    "version": 3
   },
   "file_extension": ".py",
   "mimetype": "text/x-python",
   "name": "python",
   "nbconvert_exporter": "python",
   "pygments_lexer": "ipython3",
   "version": "3.9.0"
  },
  "otter": {
   "OK_FORMAT": true,
   "tests": {
    "q2a": {
     "name": "q2a",
     "points": 3,
     "suites": [
      {
       "cases": [
        {
         "code": ">>> np.isclose(covid_data['9/12/2021_cpc'].iloc[0], 0.16541098940244012)\nTrue",
         "hidden": false,
         "locked": false
        },
        {
         "code": ">>> np.isclose(covid_data['9/12/2021_cpc'].sum(), 397.68435739730006)\nTrue",
         "hidden": false,
         "locked": false
        }
       ],
       "scored": true,
       "setup": "",
       "teardown": "",
       "type": "doctest"
      }
     ]
    },
    "q2b": {
     "name": "q2b",
     "points": 1,
     "suites": [
      {
       "cases": [
        {
         "code": ">>> mask_data.shape == (3141, 6) or mask_data.shape == (3141, 7)\nTrue",
         "hidden": false,
         "locked": false
        }
       ],
       "scored": true,
       "setup": "",
       "teardown": "",
       "type": "doctest"
      }
     ]
    },
    "q3a": {
     "name": "q3a",
     "points": 5,
     "suites": [
      {
       "cases": [
        {
         "code": ">>> 0.01 <= train_rmse_cpc <= 0.05\nTrue",
         "hidden": false,
         "locked": false
        },
        {
         "code": ">>> 0.01 <= test_rmse_cpc <= 0.05\nTrue",
         "hidden": false,
         "locked": false
        }
       ],
       "scored": true,
       "setup": "",
       "teardown": "",
       "type": "doctest"
      }
     ]
    },
    "q4a": {
     "name": "q4a",
     "points": 5,
     "suites": [
      {
       "cases": [
        {
         "code": ">>> all([len(df_i) == len(mask_data) for df_i in bootstrap_sample(mask_data, 1)])\nTrue",
         "hidden": false,
         "locked": false
        },
        {
         "code": ">>> len(bootstrap_sample(mask_data, 3)) == 3\nTrue",
         "hidden": false,
         "locked": false
        },
        {
         "code": ">>> np.isclose(bootstrap_sample(mask_data, 1)[0]['NEVER'].mean(), 0.0799, atol = 8e-3)\nTrue",
         "hidden": false,
         "locked": false
        }
       ],
       "scored": true,
       "setup": "",
       "teardown": "",
       "type": "doctest"
      }
     ]
    },
    "q4b": {
     "name": "q4b",
     "points": 5,
     "suites": [
      {
       "cases": [
        {
         "code": ">>> len(models) == 1000\nTrue",
         "hidden": false,
         "locked": false
        },
        {
         "code": ">>> all([isinstance(model, lm.LinearRegression) for model in models])\nTrue",
         "hidden": false,
         "locked": false
        },
        {
         "code": ">>> all([len(model.coef_) == 5 and model.intercept_ != 0 for model in models])\nTrue",
         "hidden": false,
         "locked": false
        },
        {
         "code": ">>> all(models[0].coef_ != models[1].coef_)\nTrue",
         "hidden": false,
         "locked": false
        }
       ],
       "scored": true,
       "setup": "",
       "teardown": "",
       "type": "doctest"
      }
     ]
    },
    "q4c": {
     "name": "q4c",
     "points": 2,
     "suites": [
      {
       "cases": [
        {
         "code": ">>> len(cis) == 6 and all(len(ci) == 2 for ci in cis)\nTrue",
         "hidden": false,
         "locked": false
        },
        {
         "code": ">>> all([lci < 0 and uci > 0 for lci, uci in cis])\nTrue",
         "hidden": false,
         "locked": false
        }
       ],
       "scored": true,
       "setup": "",
       "teardown": "",
       "type": "doctest"
      }
     ]
    },
    "q5a": {
     "name": "q5a",
     "points": 3,
     "suites": [
      {
       "cases": [
        {
         "code": ">>> np.isclose(prop_var, 0.001318235885796682, atol = 1e-3)\nTrue",
         "hidden": false,
         "locked": false
        }
       ],
       "scored": true,
       "setup": "",
       "teardown": "",
       "type": "doctest"
      }
     ]
    },
    "q5c": {
     "name": "q5c",
     "points": 3,
     "suites": [
      {
       "cases": [
        {
         "code": ">>> avg_var <= 1e-5\nTrue",
         "hidden": false,
         "locked": false
        },
        {
         "code": ">>> avg_mse <= 5e-3\nTrue",
         "hidden": false,
         "locked": false
        }
       ],
       "scored": true,
       "setup": "",
       "teardown": "",
       "type": "doctest"
      }
     ]
    }
   }
  }
 },
 "nbformat": 4,
 "nbformat_minor": 5
}
