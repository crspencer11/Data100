{
 "cells": [
  {
   "cell_type": "code",
   "execution_count": 1,
   "metadata": {
    "deletable": false,
    "editable": false
   },
   "outputs": [],
   "source": [
    "# Initialize Otter\n",
    "import otter\n",
    "grader = otter.Notebook(\"hw03.ipynb\")"
   ]
  },
  {
   "cell_type": "markdown",
   "metadata": {
    "nbgrader": {
     "grade": false,
     "grade_id": "intro",
     "locked": true,
     "schema_version": 2,
     "solution": false
    }
   },
   "source": [
    "# Homework 3: Text Analysis Using Twitter\n",
    "\n",
    "## Cleaning and Exploring Twitter Data using REGEX\n",
    "## Due Date: Thursday, September 15 11:59 PM\n",
    "\n",
    "## Collaboration Policy\n",
    "\n",
    "Data science is a collaborative activity. While you may talk with others about the homework, we ask that you **write your solutions individually**. If you do discuss the assignments with others please **include their names** below."
   ]
  },
  {
   "cell_type": "markdown",
   "metadata": {},
   "source": [
    "**Collaborators**: *list collaborators here*"
   ]
  },
  {
   "cell_type": "markdown",
   "metadata": {},
   "source": [
    "<div class=\"alert alert-danger\">\n",
    "<b> Important: </b> Before starting on this homework, please go to data100.datahub.berkeley.edu/hub/home, click `Stop My Server` and then restart your server. This is necessary to implement some changes we have included on the datahub. You will only need to do this once for hw 3/lab 3 (so if you already did it for lab 3, no need to redo it).\n",
    "</div>"
   ]
  },
  {
   "cell_type": "markdown",
   "metadata": {},
   "source": [
    "## This Assignment\n",
    "\n",
    "Welcome to the third homework assignment of Data 100! In this assignment, we will be exploring tweets from several high profile Twitter users.  \n",
    "\n",
    "In this assignment you will gain practice with:\n",
    "* Conducting Data Cleaning and EDA on a text-based dataset.\n",
    "* Manipulating data in pandas with the datetime and string accessors.\n",
    "* Writing regular expressions and using pandas regex methods.\n",
    "* Performing sentiment analysis on social media using VADER.\n"
   ]
  },
  {
   "cell_type": "code",
   "execution_count": 2,
   "metadata": {
    "nbgrader": {
     "grade": false,
     "grade_id": "import",
     "locked": true,
     "schema_version": 2,
     "solution": false
    }
   },
   "outputs": [],
   "source": [
    "# Run this cell to set up your notebook\n",
    "import numpy as np\n",
    "import pandas as pd\n",
    "import matplotlib.pyplot as plt\n",
    "import seaborn as sns\n",
    "import re\n",
    "\n",
    "from ds100_utils import *\n",
    "\n",
    "# Ensure that Pandas shows at least 280 characters in columns, so we can see full tweets\n",
    "pd.set_option('max_colwidth', 280)\n",
    "plt.style.use('fivethirtyeight')\n",
    "sns.set()\n",
    "sns.set_context(\"talk\")\n",
    "\n",
    "def horiz_concat_df(dict_of_df, head=None):\n",
    "    \"\"\"\n",
    "    Horizontally concatenante multiple DataFrames for easier visualization. \n",
    "    Each DataFrame must have the same columns.\n",
    "    \"\"\"\n",
    "    df = pd.concat([df.reset_index(drop=True) for df in dict_of_df.values()], axis=1, keys=dict_of_df.keys())\n",
    "    if head is None:\n",
    "        return df\n",
    "    return df.head(head)"
   ]
  },
  {
   "cell_type": "markdown",
   "metadata": {},
   "source": [
    "### Score Breakdown\n",
    "\n",
    "Question | Points\n",
    "--- | ---\n",
    "1a | 1\n",
    "1b | 1\n",
    "1c | 3\n",
    "1d | 1\n",
    "2a | 2\n",
    "2b | 2\n",
    "2c | 2\n",
    "2d | 2\n",
    "2e | 2\n",
    "2f | 1\n",
    "3a | 1\n",
    "3b | 1\n",
    "3c | 1\n",
    "4a | 1\n",
    "4b | 1\n",
    "4ci | 1\n",
    "4cii | 1\n",
    "4d | 1\n",
    "4e | 2\n",
    "4f | 2\n",
    "4g | 2\n",
    "5a | 2\n",
    "5b | 2\n",
    "**Total** | **35**"
   ]
  },
  {
   "cell_type": "markdown",
   "metadata": {
    "nbgrader": {
     "grade": false,
     "grade_id": "q3",
     "locked": true,
     "schema_version": 2,
     "solution": false
    }
   },
   "source": [
    "<hr style=\"border: 5px solid #003262;\" />\n",
    "<hr style=\"border: 1px solid #fdb515;\" />\n",
    "\n",
    "## Question 1: Importing the Data\n",
    "\n",
    "\n",
    "The data for this assignment was obtained using the [Twitter APIs](https://developer.twitter.com/en/docs/twitter-api).  To ensure that everyone has the same data and to eliminate the need for every student to apply for a Twitter developer account, we have collected a sample of tweets from several high-profile public figures.  The data is stored in the folder `data`.  Run the following cell to list the contents of the directory:"
   ]
  },
  {
   "cell_type": "code",
   "execution_count": 3,
   "metadata": {},
   "outputs": [
    {
     "name": "stdout",
     "output_type": "stream",
     "text": [
      "AOC_recent_tweets.txt\n",
      "BernieSanders_recent_tweets.txt\n",
      "BillGates_recent_tweets.txt\n",
      "Cristiano_recent_tweets.txt\n",
      "EmmanuelMacron_recent_tweets.txt\n",
      "elonmusk_recent_tweets.txt\n"
     ]
    }
   ],
   "source": [
    "# just run this cell\n",
    "from os import listdir\n",
    "for f in listdir(\"data\"):\n",
    "    print(f)"
   ]
  },
  {
   "cell_type": "markdown",
   "metadata": {},
   "source": [
    "--- \n",
    "### Question 1a\n",
    "\n",
    "Let's examine the contents of one of these files.  Using the [`open` function](https://docs.python.org/3/library/functions.html#open) and [`read` operation](https://docs.python.org/3/tutorial/inputoutput.html#methods-of-file-objects) on a python file object, read the first 1000 **characters** in `data/BernieSanders_recent_tweets.txt` and store your result in the variable `q1a`.  Then display the result so you can read it.\n",
    "\n",
    "**Caution:** Viewing the contents of large files in a Jupyter notebook could crash your browser.  Be careful not to print the entire contents of the file.\n",
    "\n",
    "**Hint:** You might want to try to use `with`:\n",
    "\n",
    "```python\n",
    "with open(\"filename\", \"r\") as f:\n",
    "    f.read(2)\n",
    "```\n",
    "\n"
   ]
  },
  {
   "cell_type": "code",
   "execution_count": 4,
   "metadata": {
    "tags": []
   },
   "outputs": [
    {
     "data": {
      "text/plain": [
       "'[{\"created_at\": \"Sat Feb 06 22:43:03 +0000 2021\", \"id\": 1358184460794163202, \"id_str\": \"1358184460794163202\", \"full_text\": \"Why would we want to impeach and convict Donald Trump \\\\u2013 a president who is now out of office? Because it must be made clear that no president, now or in the future, can lead an insurrection against the government he or she is sworn to protect.\", \"truncated\": false, \"display_text_range\": [0, 243], \"entities\": {\"hashtags\": [], \"symbols\": [], \"user_mentions\": [], \"urls\": []}, \"source\": \"<a href=\\\\\"http://twitter.com/download/iphone\\\\\" rel=\\\\\"nofollow\\\\\">Twitter for iPhone</a>\", \"in_reply_to_status_id\": null, \"in_reply_to_status_id_str\": null, \"in_reply_to_user_id\": null, \"in_reply_to_user_id_str\": null, \"in_reply_to_screen_name\": null, \"user\": {\"id\": 216776631, \"id_str\": \"216776631\", \"name\": \"Bernie Sanders\", \"screen_name\": \"BernieSanders\", \"location\": \"Vermont\", \"description\": \"U.S. Senator for Vermont. Not me, us.\", \"url\": \"https://t.co/jpg8Sp1GhR\", \"entities\": {\"'"
      ]
     },
     "execution_count": 4,
     "metadata": {},
     "output_type": "execute_result"
    }
   ],
   "source": [
    "q1a = '' \n",
    "with open('data/BernieSanders_recent_tweets.txt', 'r') as bernie:\n",
    "    q1a = bernie.read(1000)\n",
    "q1a"
   ]
  },
  {
   "cell_type": "code",
   "execution_count": 5,
   "metadata": {
    "deletable": false,
    "editable": false
   },
   "outputs": [
    {
     "data": {
      "text/html": [
       "<p><strong><pre style='display: inline;'>q1a</pre></strong> passed!</p>"
      ],
      "text/plain": [
       "q1a results: All test cases passed!"
      ]
     },
     "execution_count": 5,
     "metadata": {},
     "output_type": "execute_result"
    }
   ],
   "source": [
    "grader.check(\"q1a\")"
   ]
  },
  {
   "cell_type": "markdown",
   "metadata": {},
   "source": [
    "--- \n",
    "### Question 1b\n",
    "\n",
    "What format is the data in? Answer this question by entering the letter corresponding to the right format in the variable `q1b` below.\n",
    "\n",
    "  **A.** CSV<br/>\n",
    "  **B.** HTML<br/>\n",
    "  **C.** JavaScript Object Notation (JSON)<br/>\n",
    "  **D.** Excel XML\n",
    "\n",
    "Answer in the following cell. Your answer should be a string, either `\"A\"`, `\"B\"`, `\"C\"`, or `\"D\"`.\n"
   ]
  },
  {
   "cell_type": "code",
   "execution_count": 6,
   "metadata": {
    "tags": []
   },
   "outputs": [],
   "source": [
    "q1b = \"C\""
   ]
  },
  {
   "cell_type": "code",
   "execution_count": 7,
   "metadata": {
    "deletable": false,
    "editable": false
   },
   "outputs": [
    {
     "data": {
      "text/html": [
       "<p><strong><pre style='display: inline;'>q1b</pre></strong> passed!</p>"
      ],
      "text/plain": [
       "q1b results: All test cases passed!"
      ]
     },
     "execution_count": 7,
     "metadata": {},
     "output_type": "execute_result"
    }
   ],
   "source": [
    "grader.check(\"q1b\")"
   ]
  },
  {
   "cell_type": "markdown",
   "metadata": {},
   "source": [
    "--- \n",
    "\n",
    "### Question 1c\n",
    "\n",
    "Pandas has built-in readers for many different file formats including the file format used here to store tweets.  To learn more about these, check out the documentation for [`pd.read_csv`](https://pandas.pydata.org/pandas-docs/stable/reference/api/pandas.read_csv.html), [`pd.read_html`](https://pandas.pydata.org/pandas-docs/stable/reference/api/pandas.read_html.html), [`pd.read_json`](https://pandas.pydata.org/docs/reference/api/pandas.read_json.html), and [`pd.read_excel`](https://pandas.pydata.org/pandas-docs/stable/reference/api/pandas.read_excel.html).  \n",
    "\n",
    "1. Use one of these functions to populate the `tweets` dictionary with the tweets for: `AOC`, `Cristiano`, and `elonmusk`. The keys of `tweets` should be the handles of the users, which we have provided in the cell below, and the values should be the DataFrames.\n",
    "2. Set the index of each DataFrame to correspond to the `id` of each tweet.  \n",
    "\n",
    "\n",
    "\n",
    "**Hint:** You might want to first try loading one of the DataFrames before trying to complete the entire question.\n"
   ]
  },
  {
   "cell_type": "code",
   "execution_count": 8,
   "metadata": {
    "tags": []
   },
   "outputs": [],
   "source": [
    "tweets = {\n",
    "    \"AOC\": pd.read_json('data/AOC_recent_tweets.txt'),\n",
    "    \"Cristiano\": pd.read_json('data/Cristiano_recent_tweets.txt'),\n",
    "    \"elonmusk\": pd.read_json('data/elonmusk_recent_tweets.txt'),\n",
    "}\n",
    "for df in tweets.values():\n",
    "    df.set_index('id', inplace = True)"
   ]
  },
  {
   "cell_type": "code",
   "execution_count": 9,
   "metadata": {
    "deletable": false,
    "editable": false
   },
   "outputs": [
    {
     "data": {
      "text/html": [
       "<p><strong><pre style='display: inline;'>q1c</pre></strong> passed!</p>"
      ],
      "text/plain": [
       "q1c results: All test cases passed!"
      ]
     },
     "execution_count": 9,
     "metadata": {},
     "output_type": "execute_result"
    }
   ],
   "source": [
    "grader.check(\"q1c\")"
   ]
  },
  {
   "cell_type": "markdown",
   "metadata": {},
   "source": [
    "If you did everything correctly, the following cells will show you the first 5 tweets for Elon Musk (and a lot of information about those tweets)."
   ]
  },
  {
   "cell_type": "code",
   "execution_count": 10,
   "metadata": {},
   "outputs": [
    {
     "data": {
      "text/html": [
       "<div>\n",
       "<style scoped>\n",
       "    .dataframe tbody tr th:only-of-type {\n",
       "        vertical-align: middle;\n",
       "    }\n",
       "\n",
       "    .dataframe tbody tr th {\n",
       "        vertical-align: top;\n",
       "    }\n",
       "\n",
       "    .dataframe thead th {\n",
       "        text-align: right;\n",
       "    }\n",
       "</style>\n",
       "<table border=\"1\" class=\"dataframe\">\n",
       "  <thead>\n",
       "    <tr style=\"text-align: right;\">\n",
       "      <th></th>\n",
       "      <th>created_at</th>\n",
       "      <th>id_str</th>\n",
       "      <th>full_text</th>\n",
       "      <th>truncated</th>\n",
       "      <th>display_text_range</th>\n",
       "      <th>entities</th>\n",
       "      <th>extended_entities</th>\n",
       "      <th>source</th>\n",
       "      <th>in_reply_to_status_id</th>\n",
       "      <th>in_reply_to_status_id_str</th>\n",
       "      <th>...</th>\n",
       "      <th>favorite_count</th>\n",
       "      <th>favorited</th>\n",
       "      <th>retweeted</th>\n",
       "      <th>possibly_sensitive</th>\n",
       "      <th>lang</th>\n",
       "      <th>retweeted_status</th>\n",
       "      <th>quoted_status_id</th>\n",
       "      <th>quoted_status_id_str</th>\n",
       "      <th>quoted_status_permalink</th>\n",
       "      <th>quoted_status</th>\n",
       "    </tr>\n",
       "    <tr>\n",
       "      <th>id</th>\n",
       "      <th></th>\n",
       "      <th></th>\n",
       "      <th></th>\n",
       "      <th></th>\n",
       "      <th></th>\n",
       "      <th></th>\n",
       "      <th></th>\n",
       "      <th></th>\n",
       "      <th></th>\n",
       "      <th></th>\n",
       "      <th></th>\n",
       "      <th></th>\n",
       "      <th></th>\n",
       "      <th></th>\n",
       "      <th></th>\n",
       "      <th></th>\n",
       "      <th></th>\n",
       "      <th></th>\n",
       "      <th></th>\n",
       "      <th></th>\n",
       "      <th></th>\n",
       "    </tr>\n",
       "  </thead>\n",
       "  <tbody>\n",
       "    <tr>\n",
       "      <th>1357991946082418690</th>\n",
       "      <td>2021-02-06 09:58:04+00:00</td>\n",
       "      <td>1357991946082418688</td>\n",
       "      <td>The Second Last Kingdom https://t.co/Je4EI88HmV</td>\n",
       "      <td>False</td>\n",
       "      <td>[0, 23]</td>\n",
       "      <td>{'hashtags': [], 'symbols': [], 'user_mentions': [], 'urls': [], 'media': [{'id': 1357991942471094275, 'id_str': '1357991942471094275', 'indices': [24, 47], 'media_url': 'http://pbs.twimg.com/media/EtiOegrVEAMCgZE.jpg', 'media_url_https': 'https://pbs.twimg.com/media/EtiOegrV...</td>\n",
       "      <td>{'media': [{'id': 1357991942471094275, 'id_str': '1357991942471094275', 'indices': [24, 47], 'media_url': 'http://pbs.twimg.com/media/EtiOegrVEAMCgZE.jpg', 'media_url_https': 'https://pbs.twimg.com/media/EtiOegrVEAMCgZE.jpg', 'url': 'https://t.co/Je4EI88HmV', 'display_url': '...</td>\n",
       "      <td>&lt;a href=\"http://twitter.com/download/iphone\" rel=\"nofollow\"&gt;Twitter for iPhone&lt;/a&gt;</td>\n",
       "      <td>NaN</td>\n",
       "      <td>NaN</td>\n",
       "      <td>...</td>\n",
       "      <td>352096</td>\n",
       "      <td>False</td>\n",
       "      <td>False</td>\n",
       "      <td>0.0</td>\n",
       "      <td>en</td>\n",
       "      <td>NaN</td>\n",
       "      <td>NaN</td>\n",
       "      <td>NaN</td>\n",
       "      <td>NaN</td>\n",
       "      <td>NaN</td>\n",
       "    </tr>\n",
       "    <tr>\n",
       "      <th>1357973565413367808</th>\n",
       "      <td>2021-02-06 08:45:02+00:00</td>\n",
       "      <td>1357973565413367808</td>\n",
       "      <td>@DumDin7 @Grimezsz Haven’t heard that name in years …</td>\n",
       "      <td>False</td>\n",
       "      <td>[19, 53]</td>\n",
       "      <td>{'hashtags': [], 'symbols': [], 'user_mentions': [{'screen_name': 'DumDin7', 'name': 'Dum Din', 'id': 1279896279733145601, 'id_str': '1279896279733145601', 'indices': [0, 8]}, {'screen_name': 'Grimezsz', 'name': '𝑪𝒍𝒂𝒊𝒓𝒆 𝒅𝒆 𝑳𝒖𝒏𝒆࿎', 'id': 276540738, 'id_str': '276540738', 'indi...</td>\n",
       "      <td>NaN</td>\n",
       "      <td>&lt;a href=\"http://twitter.com/download/iphone\" rel=\"nofollow\"&gt;Twitter for iPhone&lt;/a&gt;</td>\n",
       "      <td>1.357973e+18</td>\n",
       "      <td>1.357973e+18</td>\n",
       "      <td>...</td>\n",
       "      <td>2155</td>\n",
       "      <td>False</td>\n",
       "      <td>False</td>\n",
       "      <td>NaN</td>\n",
       "      <td>en</td>\n",
       "      <td>NaN</td>\n",
       "      <td>NaN</td>\n",
       "      <td>NaN</td>\n",
       "      <td>NaN</td>\n",
       "      <td>NaN</td>\n",
       "    </tr>\n",
       "    <tr>\n",
       "      <th>1357972904663687173</th>\n",
       "      <td>2021-02-06 08:42:25+00:00</td>\n",
       "      <td>1357972904663687168</td>\n",
       "      <td>@Grimezsz Dogecake</td>\n",
       "      <td>False</td>\n",
       "      <td>[10, 18]</td>\n",
       "      <td>{'hashtags': [], 'symbols': [], 'user_mentions': [{'screen_name': 'Grimezsz', 'name': '𝑪𝒍𝒂𝒊𝒓𝒆 𝒅𝒆 𝑳𝒖𝒏𝒆࿎', 'id': 276540738, 'id_str': '276540738', 'indices': [0, 9]}], 'urls': []}</td>\n",
       "      <td>NaN</td>\n",
       "      <td>&lt;a href=\"http://twitter.com/download/iphone\" rel=\"nofollow\"&gt;Twitter for iPhone&lt;/a&gt;</td>\n",
       "      <td>1.357835e+18</td>\n",
       "      <td>1.357835e+18</td>\n",
       "      <td>...</td>\n",
       "      <td>5373</td>\n",
       "      <td>False</td>\n",
       "      <td>False</td>\n",
       "      <td>NaN</td>\n",
       "      <td>en</td>\n",
       "      <td>NaN</td>\n",
       "      <td>NaN</td>\n",
       "      <td>NaN</td>\n",
       "      <td>NaN</td>\n",
       "      <td>NaN</td>\n",
       "    </tr>\n",
       "    <tr>\n",
       "      <th>1357970517165182979</th>\n",
       "      <td>2021-02-06 08:32:55+00:00</td>\n",
       "      <td>1357970517165182976</td>\n",
       "      <td>YOLT\\n\\nhttps://t.co/cnOf9yjpF1</td>\n",
       "      <td>False</td>\n",
       "      <td>[0, 29]</td>\n",
       "      <td>{'hashtags': [], 'symbols': [], 'user_mentions': [], 'urls': [{'url': 'https://t.co/cnOf9yjpF1', 'expanded_url': 'https://m.youtube.com/watch?v=05QJlF06F4s', 'display_url': 'm.youtube.com/watch?v=05QJlF…', 'indices': [6, 29]}]}</td>\n",
       "      <td>NaN</td>\n",
       "      <td>&lt;a href=\"http://twitter.com/download/iphone\" rel=\"nofollow\"&gt;Twitter for iPhone&lt;/a&gt;</td>\n",
       "      <td>NaN</td>\n",
       "      <td>NaN</td>\n",
       "      <td>...</td>\n",
       "      <td>62717</td>\n",
       "      <td>False</td>\n",
       "      <td>False</td>\n",
       "      <td>0.0</td>\n",
       "      <td>en</td>\n",
       "      <td>NaN</td>\n",
       "      <td>NaN</td>\n",
       "      <td>NaN</td>\n",
       "      <td>NaN</td>\n",
       "      <td>NaN</td>\n",
       "    </tr>\n",
       "    <tr>\n",
       "      <th>1357964347813687296</th>\n",
       "      <td>2021-02-06 08:08:24+00:00</td>\n",
       "      <td>1357964347813687296</td>\n",
       "      <td>@Kristennetten That’s Damian</td>\n",
       "      <td>False</td>\n",
       "      <td>[15, 28]</td>\n",
       "      <td>{'hashtags': [], 'symbols': [], 'user_mentions': [{'screen_name': 'Kristennetten', 'name': 'K10✨', 'id': 985686123123949568, 'id_str': '985686123123949568', 'indices': [0, 14]}], 'urls': []}</td>\n",
       "      <td>NaN</td>\n",
       "      <td>&lt;a href=\"http://twitter.com/download/iphone\" rel=\"nofollow\"&gt;Twitter for iPhone&lt;/a&gt;</td>\n",
       "      <td>1.357964e+18</td>\n",
       "      <td>1.357964e+18</td>\n",
       "      <td>...</td>\n",
       "      <td>5726</td>\n",
       "      <td>False</td>\n",
       "      <td>False</td>\n",
       "      <td>NaN</td>\n",
       "      <td>en</td>\n",
       "      <td>NaN</td>\n",
       "      <td>NaN</td>\n",
       "      <td>NaN</td>\n",
       "      <td>NaN</td>\n",
       "      <td>NaN</td>\n",
       "    </tr>\n",
       "  </tbody>\n",
       "</table>\n",
       "<p>5 rows × 30 columns</p>\n",
       "</div>"
      ],
      "text/plain": [
       "                                   created_at               id_str  \\\n",
       "id                                                                   \n",
       "1357991946082418690 2021-02-06 09:58:04+00:00  1357991946082418688   \n",
       "1357973565413367808 2021-02-06 08:45:02+00:00  1357973565413367808   \n",
       "1357972904663687173 2021-02-06 08:42:25+00:00  1357972904663687168   \n",
       "1357970517165182979 2021-02-06 08:32:55+00:00  1357970517165182976   \n",
       "1357964347813687296 2021-02-06 08:08:24+00:00  1357964347813687296   \n",
       "\n",
       "                                                                 full_text  \\\n",
       "id                                                                           \n",
       "1357991946082418690        The Second Last Kingdom https://t.co/Je4EI88HmV   \n",
       "1357973565413367808  @DumDin7 @Grimezsz Haven’t heard that name in years …   \n",
       "1357972904663687173                                     @Grimezsz Dogecake   \n",
       "1357970517165182979                        YOLT\\n\\nhttps://t.co/cnOf9yjpF1   \n",
       "1357964347813687296                           @Kristennetten That’s Damian   \n",
       "\n",
       "                     truncated display_text_range  \\\n",
       "id                                                  \n",
       "1357991946082418690      False            [0, 23]   \n",
       "1357973565413367808      False           [19, 53]   \n",
       "1357972904663687173      False           [10, 18]   \n",
       "1357970517165182979      False            [0, 29]   \n",
       "1357964347813687296      False           [15, 28]   \n",
       "\n",
       "                                                                                                                                                                                                                                                                                                    entities  \\\n",
       "id                                                                                                                                                                                                                                                                                                             \n",
       "1357991946082418690  {'hashtags': [], 'symbols': [], 'user_mentions': [], 'urls': [], 'media': [{'id': 1357991942471094275, 'id_str': '1357991942471094275', 'indices': [24, 47], 'media_url': 'http://pbs.twimg.com/media/EtiOegrVEAMCgZE.jpg', 'media_url_https': 'https://pbs.twimg.com/media/EtiOegrV...   \n",
       "1357973565413367808  {'hashtags': [], 'symbols': [], 'user_mentions': [{'screen_name': 'DumDin7', 'name': 'Dum Din', 'id': 1279896279733145601, 'id_str': '1279896279733145601', 'indices': [0, 8]}, {'screen_name': 'Grimezsz', 'name': '𝑪𝒍𝒂𝒊𝒓𝒆 𝒅𝒆 𝑳𝒖𝒏𝒆࿎', 'id': 276540738, 'id_str': '276540738', 'indi...   \n",
       "1357972904663687173                                                                                                        {'hashtags': [], 'symbols': [], 'user_mentions': [{'screen_name': 'Grimezsz', 'name': '𝑪𝒍𝒂𝒊𝒓𝒆 𝒅𝒆 𝑳𝒖𝒏𝒆࿎', 'id': 276540738, 'id_str': '276540738', 'indices': [0, 9]}], 'urls': []}   \n",
       "1357970517165182979                                                      {'hashtags': [], 'symbols': [], 'user_mentions': [], 'urls': [{'url': 'https://t.co/cnOf9yjpF1', 'expanded_url': 'https://m.youtube.com/watch?v=05QJlF06F4s', 'display_url': 'm.youtube.com/watch?v=05QJlF…', 'indices': [6, 29]}]}   \n",
       "1357964347813687296                                                                                           {'hashtags': [], 'symbols': [], 'user_mentions': [{'screen_name': 'Kristennetten', 'name': 'K10✨', 'id': 985686123123949568, 'id_str': '985686123123949568', 'indices': [0, 14]}], 'urls': []}   \n",
       "\n",
       "                                                                                                                                                                                                                                                                                           extended_entities  \\\n",
       "id                                                                                                                                                                                                                                                                                                             \n",
       "1357991946082418690  {'media': [{'id': 1357991942471094275, 'id_str': '1357991942471094275', 'indices': [24, 47], 'media_url': 'http://pbs.twimg.com/media/EtiOegrVEAMCgZE.jpg', 'media_url_https': 'https://pbs.twimg.com/media/EtiOegrVEAMCgZE.jpg', 'url': 'https://t.co/Je4EI88HmV', 'display_url': '...   \n",
       "1357973565413367808                                                                                                                                                                                                                                                                                      NaN   \n",
       "1357972904663687173                                                                                                                                                                                                                                                                                      NaN   \n",
       "1357970517165182979                                                                                                                                                                                                                                                                                      NaN   \n",
       "1357964347813687296                                                                                                                                                                                                                                                                                      NaN   \n",
       "\n",
       "                                                                                                 source  \\\n",
       "id                                                                                                        \n",
       "1357991946082418690  <a href=\"http://twitter.com/download/iphone\" rel=\"nofollow\">Twitter for iPhone</a>   \n",
       "1357973565413367808  <a href=\"http://twitter.com/download/iphone\" rel=\"nofollow\">Twitter for iPhone</a>   \n",
       "1357972904663687173  <a href=\"http://twitter.com/download/iphone\" rel=\"nofollow\">Twitter for iPhone</a>   \n",
       "1357970517165182979  <a href=\"http://twitter.com/download/iphone\" rel=\"nofollow\">Twitter for iPhone</a>   \n",
       "1357964347813687296  <a href=\"http://twitter.com/download/iphone\" rel=\"nofollow\">Twitter for iPhone</a>   \n",
       "\n",
       "                     in_reply_to_status_id  in_reply_to_status_id_str  ...  \\\n",
       "id                                                                     ...   \n",
       "1357991946082418690                    NaN                        NaN  ...   \n",
       "1357973565413367808           1.357973e+18               1.357973e+18  ...   \n",
       "1357972904663687173           1.357835e+18               1.357835e+18  ...   \n",
       "1357970517165182979                    NaN                        NaN  ...   \n",
       "1357964347813687296           1.357964e+18               1.357964e+18  ...   \n",
       "\n",
       "                     favorite_count  favorited retweeted possibly_sensitive  \\\n",
       "id                                                                            \n",
       "1357991946082418690          352096      False     False                0.0   \n",
       "1357973565413367808            2155      False     False                NaN   \n",
       "1357972904663687173            5373      False     False                NaN   \n",
       "1357970517165182979           62717      False     False                0.0   \n",
       "1357964347813687296            5726      False     False                NaN   \n",
       "\n",
       "                     lang  retweeted_status  quoted_status_id  \\\n",
       "id                                                              \n",
       "1357991946082418690    en               NaN               NaN   \n",
       "1357973565413367808    en               NaN               NaN   \n",
       "1357972904663687173    en               NaN               NaN   \n",
       "1357970517165182979    en               NaN               NaN   \n",
       "1357964347813687296    en               NaN               NaN   \n",
       "\n",
       "                     quoted_status_id_str  quoted_status_permalink  \\\n",
       "id                                                                   \n",
       "1357991946082418690                   NaN                      NaN   \n",
       "1357973565413367808                   NaN                      NaN   \n",
       "1357972904663687173                   NaN                      NaN   \n",
       "1357970517165182979                   NaN                      NaN   \n",
       "1357964347813687296                   NaN                      NaN   \n",
       "\n",
       "                     quoted_status  \n",
       "id                                  \n",
       "1357991946082418690            NaN  \n",
       "1357973565413367808            NaN  \n",
       "1357972904663687173            NaN  \n",
       "1357970517165182979            NaN  \n",
       "1357964347813687296            NaN  \n",
       "\n",
       "[5 rows x 30 columns]"
      ]
     },
     "execution_count": 10,
     "metadata": {},
     "output_type": "execute_result"
    }
   ],
   "source": [
    "# just run this cell\n",
    "tweets[\"elonmusk\"].head()"
   ]
  },
  {
   "cell_type": "markdown",
   "metadata": {},
   "source": [
    "<!-- BEGIN QUESTION -->\n",
    "\n",
    "---\n",
    "### Question 1d\n",
    "There are many ways we could choose to read tweets. Why might someone be interested in doing data analysis on tweets? Name a kind of person or institution which might be interested in this kind of analysis. Then, give two reasons why a data analysis of tweets might be interesting or useful for them. Answer in 2-3 sentences.\n"
   ]
  },
  {
   "cell_type": "markdown",
   "metadata": {},
   "source": [
    "**Doing data anlysis on tweets might be important for companies who want to research applicants and what they are posting on social media, in this case, Twitter. Data analysis might show the contents of what they are posting as well as aliases they may have connected to an email that belongs to them.**"
   ]
  },
  {
   "cell_type": "markdown",
   "metadata": {
    "nbgrader": {
     "grade": false,
     "grade_id": "q3b",
     "locked": true,
     "schema_version": 2,
     "solution": false
    }
   },
   "source": [
    "<!-- END QUESTION -->\n",
    "\n",
    "<br/><br/><br/>\n",
    "<br/><br/><br/>\n",
    "<hr style=\"border: 5px solid #003262;\" />\n",
    "<hr style=\"border: 1px solid #fdb515;\" />\n",
    "\n",
    "\n",
    "## Question 2:  Source Analysis\n",
    "\n",
    "\n",
    "In some cases, the Twitter feed of a public figure may be partially managed by a public relations firm. In these cases, the device used to post the tweet may help reveal whether it was the individual (e.g., from an iPhone) or a public relations firm (e.g., TweetDeck).  The tweets we have collected contain the source information but it is formatted strangely :("
   ]
  },
  {
   "cell_type": "code",
   "execution_count": 11,
   "metadata": {},
   "outputs": [
    {
     "data": {
      "text/html": [
       "<div>\n",
       "<style scoped>\n",
       "    .dataframe tbody tr th:only-of-type {\n",
       "        vertical-align: middle;\n",
       "    }\n",
       "\n",
       "    .dataframe tbody tr th {\n",
       "        vertical-align: top;\n",
       "    }\n",
       "\n",
       "    .dataframe thead th {\n",
       "        text-align: right;\n",
       "    }\n",
       "</style>\n",
       "<table border=\"1\" class=\"dataframe\">\n",
       "  <thead>\n",
       "    <tr style=\"text-align: right;\">\n",
       "      <th></th>\n",
       "      <th>source</th>\n",
       "    </tr>\n",
       "    <tr>\n",
       "      <th>id</th>\n",
       "      <th></th>\n",
       "    </tr>\n",
       "  </thead>\n",
       "  <tbody>\n",
       "    <tr>\n",
       "      <th>1358137564587319299</th>\n",
       "      <td>&lt;a href=\"http://twitter.com/download/iphone\" rel=\"nofollow\"&gt;Twitter for iPhone&lt;/a&gt;</td>\n",
       "    </tr>\n",
       "    <tr>\n",
       "      <th>1357379984399212545</th>\n",
       "      <td>&lt;a href=\"http://twitter.com/download/iphone\" rel=\"nofollow\"&gt;Twitter for iPhone&lt;/a&gt;</td>\n",
       "    </tr>\n",
       "    <tr>\n",
       "      <th>1356733030962987008</th>\n",
       "      <td>&lt;a href=\"http://twitter.com/download/iphone\" rel=\"nofollow\"&gt;Twitter for iPhone&lt;/a&gt;</td>\n",
       "    </tr>\n",
       "    <tr>\n",
       "      <th>1355924395064233986</th>\n",
       "      <td>&lt;a href=\"http://twitter.com/download/iphone\" rel=\"nofollow\"&gt;Twitter for iPhone&lt;/a&gt;</td>\n",
       "    </tr>\n",
       "    <tr>\n",
       "      <th>1355599316300292097</th>\n",
       "      <td>&lt;a href=\"http://twitter.com/download/iphone\" rel=\"nofollow\"&gt;Twitter for iPhone&lt;/a&gt;</td>\n",
       "    </tr>\n",
       "    <tr>\n",
       "      <th>...</th>\n",
       "      <td>...</td>\n",
       "    </tr>\n",
       "    <tr>\n",
       "      <th>32514882561638401</th>\n",
       "      <td>&lt;a href=\"http://www.whosay.com\" rel=\"nofollow\"&gt;WhoSay&lt;/a&gt;</td>\n",
       "    </tr>\n",
       "    <tr>\n",
       "      <th>32513604662071296</th>\n",
       "      <td>&lt;a href=\"http://www.whosay.com\" rel=\"nofollow\"&gt;WhoSay&lt;/a&gt;</td>\n",
       "    </tr>\n",
       "    <tr>\n",
       "      <th>32511823722840064</th>\n",
       "      <td>&lt;a href=\"http://www.whosay.com\" rel=\"nofollow\"&gt;WhoSay&lt;/a&gt;</td>\n",
       "    </tr>\n",
       "    <tr>\n",
       "      <th>32510294081146881</th>\n",
       "      <td>&lt;a href=\"http://www.whosay.com\" rel=\"nofollow\"&gt;WhoSay&lt;/a&gt;</td>\n",
       "    </tr>\n",
       "    <tr>\n",
       "      <th>32508748819857410</th>\n",
       "      <td>&lt;a href=\"http://www.whosay.com\" rel=\"nofollow\"&gt;WhoSay&lt;/a&gt;</td>\n",
       "    </tr>\n",
       "  </tbody>\n",
       "</table>\n",
       "<p>3198 rows × 1 columns</p>\n",
       "</div>"
      ],
      "text/plain": [
       "                                                                                                 source\n",
       "id                                                                                                     \n",
       "1358137564587319299  <a href=\"http://twitter.com/download/iphone\" rel=\"nofollow\">Twitter for iPhone</a>\n",
       "1357379984399212545  <a href=\"http://twitter.com/download/iphone\" rel=\"nofollow\">Twitter for iPhone</a>\n",
       "1356733030962987008  <a href=\"http://twitter.com/download/iphone\" rel=\"nofollow\">Twitter for iPhone</a>\n",
       "1355924395064233986  <a href=\"http://twitter.com/download/iphone\" rel=\"nofollow\">Twitter for iPhone</a>\n",
       "1355599316300292097  <a href=\"http://twitter.com/download/iphone\" rel=\"nofollow\">Twitter for iPhone</a>\n",
       "...                                                                                                 ...\n",
       "32514882561638401                             <a href=\"http://www.whosay.com\" rel=\"nofollow\">WhoSay</a>\n",
       "32513604662071296                             <a href=\"http://www.whosay.com\" rel=\"nofollow\">WhoSay</a>\n",
       "32511823722840064                             <a href=\"http://www.whosay.com\" rel=\"nofollow\">WhoSay</a>\n",
       "32510294081146881                             <a href=\"http://www.whosay.com\" rel=\"nofollow\">WhoSay</a>\n",
       "32508748819857410                             <a href=\"http://www.whosay.com\" rel=\"nofollow\">WhoSay</a>\n",
       "\n",
       "[3198 rows x 1 columns]"
      ]
     },
     "execution_count": 11,
     "metadata": {},
     "output_type": "execute_result"
    }
   ],
   "source": [
    "# just run this cell\n",
    "tweets[\"Cristiano\"][[\"source\"]]"
   ]
  },
  {
   "cell_type": "markdown",
   "metadata": {},
   "source": [
    "In this question we will use a regular expression to convert this messy HTML snippet into something more readable.  For example: `<a href=\"http://twitter.com/download/iphone\" rel=\"nofollow\">Twitter for iPhone</a>` should be `Twitter for iPhone`. \n"
   ]
  },
  {
   "cell_type": "markdown",
   "metadata": {},
   "source": [
    "--- \n",
    "### Question 2a\n",
    "\n",
    "We will first use the Python `re` library to cleanup the above test string.  In the cell below, write a regular expression that will match the **HTML tag** and assign it to the variable `q2a_pattern`. We then use the `re.sub` function to substitute anything that matches the pattern with an empty string `\"\"`.\n",
    "\n",
    "An HTML tag is defined as a `<` character followed by zero or more non-`>` characters, followed by a `>` character. That is, `<a>` and `</a>` are both considered _separate_ HTML tags.\n"
   ]
  },
  {
   "cell_type": "code",
   "execution_count": 12,
   "metadata": {
    "tags": []
   },
   "outputs": [
    {
     "data": {
      "text/plain": [
       "'Twitter for iPhone'"
      ]
     },
     "execution_count": 12,
     "metadata": {},
     "output_type": "execute_result"
    }
   ],
   "source": [
    "q2a_pattern = r\"<[^<]*>\"\n",
    "test_str = '<a href=\"http://twitter.com/download/iphone\" rel=\"nofollow\">Twitter for iPhone</a>'\n",
    "re.sub(q2a_pattern, \"\", test_str)"
   ]
  },
  {
   "cell_type": "code",
   "execution_count": 13,
   "metadata": {
    "deletable": false,
    "editable": false
   },
   "outputs": [
    {
     "data": {
      "text/html": [
       "<p><strong><pre style='display: inline;'>q2a</pre></strong> passed!</p>"
      ],
      "text/plain": [
       "q2a results: All test cases passed!"
      ]
     },
     "execution_count": 13,
     "metadata": {},
     "output_type": "execute_result"
    }
   ],
   "source": [
    "grader.check(\"q2a\")"
   ]
  },
  {
   "cell_type": "markdown",
   "metadata": {},
   "source": [
    "--- \n",
    "### Question 2b\n",
    "\n",
    "Rather than writing a regular expression to detect and remove the HTML tags we could instead write a regular expression to **capture** the device name between the angle brackets.  Here we will use [**capturing groups**](https://docs.python.org/3/howto/regex.html#grouping) by placing parenthesis around the part of the regular expression we want to return.  For example, to capture the `21` in the string `08/21/83` we could use the pattern `r\"08/(..)/83\"`.  \n",
    "\n",
    "\n",
    "**Hint:** The output of the following cell should be `['Twitter for iPhone']`.\n"
   ]
  },
  {
   "cell_type": "code",
   "execution_count": 14,
   "metadata": {
    "tags": []
   },
   "outputs": [
    {
     "data": {
      "text/plain": [
       "['Twitter for iPhone']"
      ]
     },
     "execution_count": 14,
     "metadata": {},
     "output_type": "execute_result"
    }
   ],
   "source": [
    "q2b_pattern = r\">(.*)<\"\n",
    "test_str = '<a href=\"http://twitter.com/download/iphone\" rel=\"nofollow\">Twitter for iPhone</a>'\n",
    "re.findall(q2b_pattern, test_str)"
   ]
  },
  {
   "cell_type": "code",
   "execution_count": 15,
   "metadata": {
    "deletable": false,
    "editable": false
   },
   "outputs": [
    {
     "data": {
      "text/html": [
       "<p><strong><pre style='display: inline;'>q2b</pre></strong> passed!</p>"
      ],
      "text/plain": [
       "q2b results: All test cases passed!"
      ]
     },
     "execution_count": 15,
     "metadata": {},
     "output_type": "execute_result"
    }
   ],
   "source": [
    "grader.check(\"q2b\")"
   ]
  },
  {
   "cell_type": "markdown",
   "metadata": {},
   "source": [
    "---\n",
    "### Question 2c\n",
    "\n",
    "Using either of the two regular expressions you just created and [`Series.str.replace`](https://pandas.pydata.org/docs/reference/api/pandas.Series.str.replace.html) or [`Series.str.extract`](https://pandas.pydata.org/docs/reference/api/pandas.Series.str.extract.html), add a new column called `\"device\"` to **all** of the DataFrames in `tweets` containing just the text describing the device (without the HTML tags).\n"
   ]
  },
  {
   "cell_type": "code",
   "execution_count": 16,
   "metadata": {
    "tags": []
   },
   "outputs": [
    {
     "data": {
      "text/plain": [
       "{'AOC':                                    created_at               id_str  \\\n",
       " id                                                                   \n",
       " 1358149122264563712 2021-02-06 20:22:38+00:00  1358149122264563712   \n",
       " 1358147616400408576 2021-02-06 20:16:39+00:00  1358147616400408576   \n",
       " 1358145332316667909 2021-02-06 20:07:35+00:00  1358145332316667904   \n",
       " 1358145218407759875 2021-02-06 20:07:07+00:00  1358145218407759872   \n",
       " 1358144207333036040 2021-02-06 20:03:06+00:00  1358144207333036032   \n",
       " ...                                       ...                  ...   \n",
       " 1181935928249606146 2019-10-09 14:14:19+00:00  1181935928249606144   \n",
       " 1181932554552827905 2019-10-09 14:00:54+00:00  1181932554552827904   \n",
       " 1181932460516478976 2019-10-09 14:00:32+00:00  1181932460516478976   \n",
       " 1181927615340453899 2019-10-09 13:41:17+00:00  1181927615340453888   \n",
       " 1181804625588051968 2019-10-09 05:32:34+00:00  1181804625588051968   \n",
       " \n",
       "                                                                                                                                                                                                                                                                                                    full_text  \\\n",
       " id                                                                                                                                                                                                                                                                                                             \n",
       " 1358149122264563712                                                                                                                                           RT @RepEscobar: Our country has the moral obligation and responsibility to reunite every single family separated at the southern border.\\n\\nT…   \n",
       " 1358147616400408576                                                                                                                                          RT @RoKhanna: What happens when we guarantee $15/hour?\\n\\n💰 31% of Black workers and 26% of Latinx workers get raises.\\n😷 A majority of essent…   \n",
       " 1358145332316667909                                                                                                                                                                                                                                                        (Source: https://t.co/3o5JEr6zpd)   \n",
       " 1358145218407759875                                                                                                     Joe Cunningham pledged to never take corporate PAC money, and he never did. Mace said she’ll cash every check she gets. Yet another way this is a downgrade. https://t.co/DytsQXKXgU   \n",
       " 1358144207333036040                                                        What’s even more gross is that Mace takes corporate PAC money.\\n\\nShe’s already funded by corporations. Now she’s choosing to swindle working people on top of it.\\n\\nPeak scam artistry. Caps for cash 💰 https://t.co/CcVxgDF6id   \n",
       " ...                                                                                                                                                                                                                                                                                                      ...   \n",
       " 1181935928249606146                                                                                                                                                                                                             Autocrats: “Jump!”\\nTrump: “How high?”\\n\\n- Trump admin foreign policy, 2019   \n",
       " 1181932554552827905                                                                                                                                             RT @HeidiNBC: NEW: Donald Trump's decision to remove troops from Northern Syria has put renewed focus on his business and personal relation…   \n",
       " 1181932460516478976  Trump decision isn’t about drawing down US military involvement at all. \\n\\nRemember that earlier this year, Trump VETOED Congress’ attempt to end US involvement in the Yemen War.\\n\\nHe has significant personal financial conflicts of interest in this situation, among other co...   \n",
       " 1181927615340453899  Federal govs are failing to act on the climate crisis.\\n\\nWe can’t wait for others to lead.\\n\\nThat’s why I’m in Copenhagen w/ C40 mayors, trade unions, youth climate strikers, business &amp; citizen reps from around the world to rally for a Global #GreenNewDeal. https://t.co...   \n",
       " 1181804625588051968                                                                                                                                             RT @LeanInOrg: Thank you @AOC for highlighting the #genderbias that women face *every day.* And for the record, not hiring or firing a woma…   \n",
       " \n",
       "                      truncated display_text_range  \\\n",
       " id                                                  \n",
       " 1358149122264563712      False           [0, 140]   \n",
       " 1358147616400408576      False           [0, 140]   \n",
       " 1358145332316667909      False            [0, 33]   \n",
       " 1358145218407759875      False           [0, 156]   \n",
       " 1358144207333036040      False           [0, 197]   \n",
       " ...                        ...                ...   \n",
       " 1181935928249606146      False            [0, 73]   \n",
       " 1181932554552827905      False           [0, 140]   \n",
       " 1181932460516478976      False           [0, 279]   \n",
       " 1181927615340453899      False           [0, 283]   \n",
       " 1181804625588051968      False           [0, 140]   \n",
       " \n",
       "                                                                                                                                                                                                                                                                                                     entities  \\\n",
       " id                                                                                                                                                                                                                                                                                                             \n",
       " 1358149122264563712                                                                           {'hashtags': [], 'symbols': [], 'user_mentions': [{'screen_name': 'RepEscobar', 'name': 'Rep. Veronica Escobar', 'id': 1075517806551154689, 'id_str': '1075517806551154689', 'indices': [3, 14]}], 'urls': []}   \n",
       " 1358147616400408576                                                                                                             {'hashtags': [], 'symbols': [], 'user_mentions': [{'screen_name': 'RoKhanna', 'name': 'Ro Khanna', 'id': 771152516, 'id_str': '771152516', 'indices': [3, 12]}], 'urls': []}   \n",
       " 1358145332316667909                {'hashtags': [], 'symbols': [], 'user_mentions': [], 'urls': [{'url': 'https://t.co/3o5JEr6zpd', 'expanded_url': 'https://www.thestate.com/news/politics-government/election/article246484780.html', 'display_url': 'thestate.com/news/politics-…', 'indices': [9, 32]}]}   \n",
       " 1358145218407759875  {'hashtags': [], 'symbols': [], 'user_mentions': [], 'urls': [], 'media': [{'id': 1358145216155426825, 'id_str': '1358145216155426825', 'indices': [157, 180], 'media_url': 'http://pbs.twimg.com/media/EtkZ4NpXIAknoPV.jpg', 'media_url_https': 'https://pbs.twimg.com/media/EtkZ4N...   \n",
       " 1358144207333036040                                         {'hashtags': [], 'symbols': [], 'user_mentions': [], 'urls': [{'url': 'https://t.co/CcVxgDF6id', 'expanded_url': 'https://twitter.com/ddale8/status/1358113234885234689', 'display_url': 'twitter.com/ddale8/status/…', 'indices': [198, 221]}]}   \n",
       " ...                                                                                                                                                                                                                                                                                                      ...   \n",
       " 1181935928249606146                                                                                                                                                                                                                         {'hashtags': [], 'symbols': [], 'user_mentions': [], 'urls': []}   \n",
       " 1181932554552827905                                                                                                        {'hashtags': [], 'symbols': [], 'user_mentions': [{'screen_name': 'HeidiNBC', 'name': 'Heidi Przybyla', 'id': 234186830, 'id_str': '234186830', 'indices': [3, 12]}], 'urls': []}   \n",
       " 1181932460516478976                                 {'hashtags': [], 'symbols': [], 'user_mentions': [], 'urls': [{'url': 'https://t.co/ODpoyZI83r', 'expanded_url': 'https://twitter.com/washingtonpost/status/1181922793451065345', 'display_url': 'twitter.com/washingtonpost…', 'indices': [280, 303]}]}   \n",
       " 1181927615340453899  {'hashtags': [{'text': 'GreenNewDeal', 'indices': [245, 258]}], 'symbols': [], 'user_mentions': [], 'urls': [{'url': 'https://t.co/uJjcrkjbTH', 'expanded_url': 'https://urldefense.proofpoint.com/v2/url?u=http-3A__bit.ly_global-2DGND&d=DwIFaQ&c=L93KkjKsAC98uTvC4KvQDdTDRzAeWDDR...   \n",
       " 1181804625588051968  {'hashtags': [{'text': 'genderbias', 'indices': [51, 62]}], 'symbols': [], 'user_mentions': [{'screen_name': 'LeanInOrg', 'name': 'Lean In', 'id': 743585142, 'id_str': '743585142', 'indices': [3, 13]}, {'screen_name': 'AOC', 'name': 'Alexandria Ocasio-Cortez', 'id': 138203134...   \n",
       " \n",
       "                                                                                                  source  \\\n",
       " id                                                                                                        \n",
       " 1358149122264563712  <a href=\"http://twitter.com/download/iphone\" rel=\"nofollow\">Twitter for iPhone</a>   \n",
       " 1358147616400408576  <a href=\"http://twitter.com/download/iphone\" rel=\"nofollow\">Twitter for iPhone</a>   \n",
       " 1358145332316667909  <a href=\"http://twitter.com/download/iphone\" rel=\"nofollow\">Twitter for iPhone</a>   \n",
       " 1358145218407759875  <a href=\"http://twitter.com/download/iphone\" rel=\"nofollow\">Twitter for iPhone</a>   \n",
       " 1358144207333036040  <a href=\"http://twitter.com/download/iphone\" rel=\"nofollow\">Twitter for iPhone</a>   \n",
       " ...                                                                                                 ...   \n",
       " 1181935928249606146  <a href=\"http://twitter.com/download/iphone\" rel=\"nofollow\">Twitter for iPhone</a>   \n",
       " 1181932554552827905  <a href=\"http://twitter.com/download/iphone\" rel=\"nofollow\">Twitter for iPhone</a>   \n",
       " 1181932460516478976  <a href=\"http://twitter.com/download/iphone\" rel=\"nofollow\">Twitter for iPhone</a>   \n",
       " 1181927615340453899  <a href=\"http://twitter.com/download/iphone\" rel=\"nofollow\">Twitter for iPhone</a>   \n",
       " 1181804625588051968  <a href=\"http://twitter.com/download/iphone\" rel=\"nofollow\">Twitter for iPhone</a>   \n",
       " \n",
       "                      in_reply_to_status_id  in_reply_to_status_id_str  \\\n",
       " id                                                                      \n",
       " 1358149122264563712                    NaN                        NaN   \n",
       " 1358147616400408576                    NaN                        NaN   \n",
       " 1358145332316667909           1.358145e+18               1.358145e+18   \n",
       " 1358145218407759875           1.358144e+18               1.358144e+18   \n",
       " 1358144207333036040                    NaN                        NaN   \n",
       " ...                                    ...                        ...   \n",
       " 1181935928249606146                    NaN                        NaN   \n",
       " 1181932554552827905                    NaN                        NaN   \n",
       " 1181932460516478976                    NaN                        NaN   \n",
       " 1181927615340453899                    NaN                        NaN   \n",
       " 1181804625588051968                    NaN                        NaN   \n",
       " \n",
       "                      in_reply_to_user_id  ...  favorited retweeted lang  \\\n",
       " id                                        ...                             \n",
       " 1358149122264563712                  NaN  ...      False     False   en   \n",
       " 1358147616400408576                  NaN  ...      False     False   en   \n",
       " 1358145332316667909          138203134.0  ...      False     False   en   \n",
       " 1358145218407759875          138203134.0  ...      False     False   en   \n",
       " 1358144207333036040                  NaN  ...      False     False   en   \n",
       " ...                                  ...  ...        ...       ...  ...   \n",
       " 1181935928249606146                  NaN  ...      False     False   en   \n",
       " 1181932554552827905                  NaN  ...      False     False   en   \n",
       " 1181932460516478976                  NaN  ...      False     False   en   \n",
       " 1181927615340453899                  NaN  ...      False     False   en   \n",
       " 1181804625588051968                  NaN  ...      False     False   en   \n",
       " \n",
       "                      possibly_sensitive  \\\n",
       " id                                        \n",
       " 1358149122264563712                 NaN   \n",
       " 1358147616400408576                 NaN   \n",
       " 1358145332316667909                 0.0   \n",
       " 1358145218407759875                 0.0   \n",
       " 1358144207333036040                 0.0   \n",
       " ...                                 ...   \n",
       " 1181935928249606146                 NaN   \n",
       " 1181932554552827905                 NaN   \n",
       " 1181932460516478976                 0.0   \n",
       " 1181927615340453899                 0.0   \n",
       " 1181804625588051968                 NaN   \n",
       " \n",
       "                                                                                                                                                                                                                                                                                            extended_entities  \\\n",
       " id                                                                                                                                                                                                                                                                                                             \n",
       " 1358149122264563712                                                                                                                                                                                                                                                                                      NaN   \n",
       " 1358147616400408576                                                                                                                                                                                                                                                                                      NaN   \n",
       " 1358145332316667909                                                                                                                                                                                                                                                                                      NaN   \n",
       " 1358145218407759875  {'media': [{'id': 1358145216155426825, 'id_str': '1358145216155426825', 'indices': [157, 180], 'media_url': 'http://pbs.twimg.com/media/EtkZ4NpXIAknoPV.jpg', 'media_url_https': 'https://pbs.twimg.com/media/EtkZ4NpXIAknoPV.jpg', 'url': 'https://t.co/DytsQXKXgU', 'display_url':...   \n",
       " 1358144207333036040                                                                                                                                                                                                                                                                                      NaN   \n",
       " ...                                                                                                                                                                                                                                                                                                      ...   \n",
       " 1181935928249606146                                                                                                                                                                                                                                                                                      NaN   \n",
       " 1181932554552827905                                                                                                                                                                                                                                                                                      NaN   \n",
       " 1181932460516478976                                                                                                                                                                                                                                                                                      NaN   \n",
       " 1181927615340453899                                                                                                                                                                                                                                                                                      NaN   \n",
       " 1181804625588051968                                                                                                                                                                                                                                                                                      NaN   \n",
       " \n",
       "                      quoted_status_id  quoted_status_id_str  \\\n",
       " id                                                            \n",
       " 1358149122264563712               NaN                   NaN   \n",
       " 1358147616400408576               NaN                   NaN   \n",
       " 1358145332316667909               NaN                   NaN   \n",
       " 1358145218407759875               NaN                   NaN   \n",
       " 1358144207333036040      1.358113e+18          1.358113e+18   \n",
       " ...                               ...                   ...   \n",
       " 1181935928249606146               NaN                   NaN   \n",
       " 1181932554552827905               NaN                   NaN   \n",
       " 1181932460516478976      1.181923e+18          1.181923e+18   \n",
       " 1181927615340453899               NaN                   NaN   \n",
       " 1181804625588051968      1.181696e+18          1.181696e+18   \n",
       " \n",
       "                                                                                                                                                        quoted_status_permalink  \\\n",
       " id                                                                                                                                                                               \n",
       " 1358149122264563712                                                                                                                                                        NaN   \n",
       " 1358147616400408576                                                                                                                                                        NaN   \n",
       " 1358145332316667909                                                                                                                                                        NaN   \n",
       " 1358145218407759875                                                                                                                                                        NaN   \n",
       " 1358144207333036040          {'url': 'https://t.co/CcVxgDF6id', 'expanded': 'https://twitter.com/ddale8/status/1358113234885234689', 'display': 'twitter.com/ddale8/status/…'}   \n",
       " ...                                                                                                                                                                        ...   \n",
       " 1181935928249606146                                                                                                                                                        NaN   \n",
       " 1181932554552827905                                                                                                                                                        NaN   \n",
       " 1181932460516478976  {'url': 'https://t.co/ODpoyZI83r', 'expanded': 'https://twitter.com/washingtonpost/status/1181922793451065345', 'display': 'twitter.com/washingtonpost…'}   \n",
       " 1181927615340453899                                                                                                                                                        NaN   \n",
       " 1181804625588051968             {'url': 'https://t.co/S9q3D4wGcb', 'expanded': 'https://twitter.com/AOC/status/1181695574803931136', 'display': 'twitter.com/AOC/status/118…'}   \n",
       " \n",
       "                                                                                                                                                                                                                                                                                                quoted_status  \\\n",
       " id                                                                                                                                                                                                                                                                                                             \n",
       " 1358149122264563712                                                                                                                                                                                                                                                                                      NaN   \n",
       " 1358147616400408576                                                                                                                                                                                                                                                                                      NaN   \n",
       " 1358145332316667909                                                                                                                                                                                                                                                                                      NaN   \n",
       " 1358145218407759875                                                                                                                                                                                                                                                                                      NaN   \n",
       " 1358144207333036040  {'created_at': 'Sat Feb 06 18:00:02 +0000 2021', 'id': 1358113234885234689, 'id_str': '1358113234885234689', 'full_text': 'Rep. Nancy Mace is now fundraising off of her false insinuation that Rep. Alexandria Ocasio-Cortez falsely said there were insurrectionists in their offi...   \n",
       " ...                                                                                                                                                                                                                                                                                                      ...   \n",
       " 1181935928249606146                                                                                                                                                                                                                                                                                      NaN   \n",
       " 1181932554552827905                                                                                                                                                                                                                                                                                      NaN   \n",
       " 1181932460516478976  {'created_at': 'Wed Oct 09 13:22:07 +0000 2019', 'id': 1181922793451065345, 'id_str': '1181922793451065345', 'full_text': 'Turkey's Erdogan announces start of military offensive in northern Syria after Trump's decision to withdraw U.S. troops https://t.co/PjbMduxLzt', 'trunca...   \n",
       " 1181927615340453899                                                                                                                                                                                                                                                                                      NaN   \n",
       " 1181804625588051968                                                                                                                                                                                                                                                                                      NaN   \n",
       " \n",
       "                                  device  \n",
       " id                                       \n",
       " 1358149122264563712  Twitter for iPhone  \n",
       " 1358147616400408576  Twitter for iPhone  \n",
       " 1358145332316667909  Twitter for iPhone  \n",
       " 1358145218407759875  Twitter for iPhone  \n",
       " 1358144207333036040  Twitter for iPhone  \n",
       " ...                                 ...  \n",
       " 1181935928249606146  Twitter for iPhone  \n",
       " 1181932554552827905  Twitter for iPhone  \n",
       " 1181932460516478976  Twitter for iPhone  \n",
       " 1181927615340453899  Twitter for iPhone  \n",
       " 1181804625588051968  Twitter for iPhone  \n",
       " \n",
       " [3247 rows x 31 columns],\n",
       " 'Cristiano':                                    created_at               id_str  \\\n",
       " id                                                                   \n",
       " 1358137564587319299 2021-02-06 19:36:43+00:00  1358137564587319296   \n",
       " 1357379984399212545 2021-02-04 17:26:21+00:00  1357379984399212544   \n",
       " 1356733030962987008 2021-02-02 22:35:36+00:00  1356733030962987008   \n",
       " 1355924395064233986 2021-01-31 17:02:22+00:00  1355924395064233984   \n",
       " 1355599316300292097 2021-01-30 19:30:37+00:00  1355599316300292096   \n",
       " ...                                       ...                  ...   \n",
       " 32514882561638401   2011-02-01 19:05:26+00:00    32514882561638400   \n",
       " 32513604662071296   2011-02-01 19:00:22+00:00    32513604662071296   \n",
       " 32511823722840064   2011-02-01 18:53:17+00:00    32511823722840064   \n",
       " 32510294081146881   2011-02-01 18:47:12+00:00    32510294081146880   \n",
       " 32508748819857410   2011-02-01 18:41:04+00:00    32508748819857408   \n",
       " \n",
       "                                                                                                                                                         full_text  \\\n",
       " id                                                                                                                                                                  \n",
       " 1358137564587319299    Happy to score and help the team against a tough opponent! 3 important points! \\nWell done lads 👏🏽💪🏽 #finoallafine https://t.co/bVHENpx2X6   \n",
       " 1357379984399212545                                                                                        Done ⚽️💪🏽\\nHave a good day!😉👊🏽 https://t.co/DN9lo4gMbS   \n",
       " 1356733030962987008                                     Grande vittoria di squadra! Abbiamo bisogno di questo spirito #finoallafine 🏳️🏴💪🏽 https://t.co/lNyV5hGE2n   \n",
       " 1355924395064233986                                                                                                  Home sweet home! ❤️😍 https://t.co/7MaSXDfTYm   \n",
       " 1355599316300292097                                                       Altri 3 punti importantissimi ! Avanti così 🏳️🏴💪🏽 #finoallafine https://t.co/l5HfUkfLcS   \n",
       " ...                                                                                                                                                           ...   \n",
       " 32514882561638401                                     I like it, yes - @thejocksays @Cristiano are you a fan of The Sopranos? Probably the greatest TV show ever!   \n",
       " 32513604662071296     You will get there. @elgc45 Just did awesome yoga session w/ Lino Miele and finished w/ 100 ab crunches, not quite @cristiano's 3000 a day.   \n",
       " 32511823722840064               Thank you. It's unfortunate, but must focus on next match. @dytrogen @Cristiano what went wrong here? am sorry about the match...   \n",
       " 32510294081146881                      Thank you for your positivity. @realchenchen @Cristiano hope you had a good rest after the game. cheers for the next game!   \n",
       " 32508748819857410    Yes I am. It's been an honor. @Yellow_Pine Are u officially Captain of your national team Portugal? Keep on becoming one of the best player.   \n",
       " \n",
       "                      truncated display_text_range  \\\n",
       " id                                                  \n",
       " 1358137564587319299      False           [0, 113]   \n",
       " 1357379984399212545      False            [0, 29]   \n",
       " 1356733030962987008      False            [0, 81]   \n",
       " 1355924395064233986      False            [0, 20]   \n",
       " 1355599316300292097      False            [0, 63]   \n",
       " ...                        ...                ...   \n",
       " 32514882561638401        False           [0, 107]   \n",
       " 32513604662071296        False           [0, 139]   \n",
       " 32511823722840064        False           [0, 129]   \n",
       " 32510294081146881        False           [0, 122]   \n",
       " 32508748819857410        False           [0, 140]   \n",
       " \n",
       "                                                                                                                                                                                                                                                                                                     entities  \\\n",
       " id                                                                                                                                                                                                                                                                                                             \n",
       " 1358137564587319299  {'hashtags': [{'text': 'finoallafine', 'indices': [100, 113]}], 'symbols': [], 'user_mentions': [], 'urls': [], 'media': [{'id': 1358137559772246023, 'id_str': '1358137559772246023', 'indices': [114, 137], 'media_url': 'http://pbs.twimg.com/media/EtkS6jZXMAcdl-P.jpg', 'media_...   \n",
       " 1357379984399212545  {'hashtags': [], 'symbols': [], 'user_mentions': [], 'urls': [], 'media': [{'id': 1357379979147964421, 'id_str': '1357379979147964421', 'indices': [30, 53], 'media_url': 'http://pbs.twimg.com/media/EtZh5jpXcAUg0BM.jpg', 'media_url_https': 'https://pbs.twimg.com/media/EtZh5jpX...   \n",
       " 1356733030962987008  {'hashtags': [{'text': 'finoallafine', 'indices': [62, 75]}], 'symbols': [], 'user_mentions': [], 'urls': [], 'media': [{'id': 1356733026261225473, 'id_str': '1356733026261225473', 'indices': [82, 105], 'media_url': 'http://pbs.twimg.com/media/EtQVf8VXUAE7nJj.jpg', 'media_url...   \n",
       " 1355924395064233986  {'hashtags': [], 'symbols': [], 'user_mentions': [], 'urls': [], 'media': [{'id': 1355924390752505857, 'id_str': '1355924390752505857', 'indices': [21, 44], 'media_url': 'http://pbs.twimg.com/media/EtE2DKUXUAE0tyN.jpg', 'media_url_https': 'https://pbs.twimg.com/media/EtE2DKUX...   \n",
       " 1355599316300292097  {'hashtags': [{'text': 'finoallafine', 'indices': [50, 63]}], 'symbols': [], 'user_mentions': [], 'urls': [], 'media': [{'id': 1355599311493607430, 'id_str': '1355599311493607430', 'indices': [64, 87], 'media_url': 'http://pbs.twimg.com/media/EtAOZDtXMAYYJSv.jpg', 'media_url_...   \n",
       " ...                                                                                                                                                                                                                                                                                                      ...   \n",
       " 32514882561638401    {'hashtags': [], 'symbols': [], 'user_mentions': [{'screen_name': 'thejocksays', 'name': 'Eazy E', 'id': 212025813, 'id_str': '212025813', 'indices': [17, 29]}, {'screen_name': 'Cristiano', 'name': 'Cristiano Ronaldo', 'id': 155659213, 'id_str': '155659213', 'indices': [30, 4...   \n",
       " 32513604662071296                                                                                                   {'hashtags': [], 'symbols': [], 'user_mentions': [{'screen_name': 'Cristiano', 'name': 'Cristiano Ronaldo', 'id': 155659213, 'id_str': '155659213', 'indices': [115, 125]}], 'urls': []}   \n",
       " 32511823722840064                                                                                                     {'hashtags': [], 'symbols': [], 'user_mentions': [{'screen_name': 'Cristiano', 'name': 'Cristiano Ronaldo', 'id': 155659213, 'id_str': '155659213', 'indices': [69, 79]}], 'urls': []}   \n",
       " 32510294081146881    {'hashtags': [], 'symbols': [], 'user_mentions': [{'screen_name': 'realchenchen', 'name': 'chenchen', 'id': 161115537, 'id_str': '161115537', 'indices': [31, 44]}, {'screen_name': 'Cristiano', 'name': 'Cristiano Ronaldo', 'id': 155659213, 'id_str': '155659213', 'indices': [45...   \n",
       " 32508748819857410                                                                                                   {'hashtags': [], 'symbols': [], 'user_mentions': [{'screen_name': 'Yellow_Pine', 'name': 'Innocentia Tseole', 'id': 212327600, 'id_str': '212327600', 'indices': [30, 42]}], 'urls': []}   \n",
       " \n",
       "                                                                                                                                                                                                                                                                                            extended_entities  \\\n",
       " id                                                                                                                                                                                                                                                                                                             \n",
       " 1358137564587319299  {'media': [{'id': 1358137559772246023, 'id_str': '1358137559772246023', 'indices': [114, 137], 'media_url': 'http://pbs.twimg.com/media/EtkS6jZXMAcdl-P.jpg', 'media_url_https': 'https://pbs.twimg.com/media/EtkS6jZXMAcdl-P.jpg', 'url': 'https://t.co/bVHENpx2X6', 'display_url':...   \n",
       " 1357379984399212545  {'media': [{'id': 1357379979147964421, 'id_str': '1357379979147964421', 'indices': [30, 53], 'media_url': 'http://pbs.twimg.com/media/EtZh5jpXcAUg0BM.jpg', 'media_url_https': 'https://pbs.twimg.com/media/EtZh5jpXcAUg0BM.jpg', 'url': 'https://t.co/DN9lo4gMbS', 'display_url': '...   \n",
       " 1356733030962987008  {'media': [{'id': 1356733026261225473, 'id_str': '1356733026261225473', 'indices': [82, 105], 'media_url': 'http://pbs.twimg.com/media/EtQVf8VXUAE7nJj.jpg', 'media_url_https': 'https://pbs.twimg.com/media/EtQVf8VXUAE7nJj.jpg', 'url': 'https://t.co/lNyV5hGE2n', 'display_url': ...   \n",
       " 1355924395064233986  {'media': [{'id': 1355924390752505857, 'id_str': '1355924390752505857', 'indices': [21, 44], 'media_url': 'http://pbs.twimg.com/media/EtE2DKUXUAE0tyN.jpg', 'media_url_https': 'https://pbs.twimg.com/media/EtE2DKUXUAE0tyN.jpg', 'url': 'https://t.co/7MaSXDfTYm', 'display_url': '...   \n",
       " 1355599316300292097  {'media': [{'id': 1355599311493607430, 'id_str': '1355599311493607430', 'indices': [64, 87], 'media_url': 'http://pbs.twimg.com/media/EtAOZDtXMAYYJSv.jpg', 'media_url_https': 'https://pbs.twimg.com/media/EtAOZDtXMAYYJSv.jpg', 'url': 'https://t.co/l5HfUkfLcS', 'display_url': '...   \n",
       " ...                                                                                                                                                                                                                                                                                                      ...   \n",
       " 32514882561638401                                                                                                                                                                                                                                                                                        NaN   \n",
       " 32513604662071296                                                                                                                                                                                                                                                                                        NaN   \n",
       " 32511823722840064                                                                                                                                                                                                                                                                                        NaN   \n",
       " 32510294081146881                                                                                                                                                                                                                                                                                        NaN   \n",
       " 32508748819857410                                                                                                                                                                                                                                                                                        NaN   \n",
       " \n",
       "                                                                                                  source  \\\n",
       " id                                                                                                        \n",
       " 1358137564587319299  <a href=\"http://twitter.com/download/iphone\" rel=\"nofollow\">Twitter for iPhone</a>   \n",
       " 1357379984399212545  <a href=\"http://twitter.com/download/iphone\" rel=\"nofollow\">Twitter for iPhone</a>   \n",
       " 1356733030962987008  <a href=\"http://twitter.com/download/iphone\" rel=\"nofollow\">Twitter for iPhone</a>   \n",
       " 1355924395064233986  <a href=\"http://twitter.com/download/iphone\" rel=\"nofollow\">Twitter for iPhone</a>   \n",
       " 1355599316300292097  <a href=\"http://twitter.com/download/iphone\" rel=\"nofollow\">Twitter for iPhone</a>   \n",
       " ...                                                                                                 ...   \n",
       " 32514882561638401                             <a href=\"http://www.whosay.com\" rel=\"nofollow\">WhoSay</a>   \n",
       " 32513604662071296                             <a href=\"http://www.whosay.com\" rel=\"nofollow\">WhoSay</a>   \n",
       " 32511823722840064                             <a href=\"http://www.whosay.com\" rel=\"nofollow\">WhoSay</a>   \n",
       " 32510294081146881                             <a href=\"http://www.whosay.com\" rel=\"nofollow\">WhoSay</a>   \n",
       " 32508748819857410                             <a href=\"http://www.whosay.com\" rel=\"nofollow\">WhoSay</a>   \n",
       " \n",
       "                      in_reply_to_status_id  in_reply_to_status_id_str  ...  \\\n",
       " id                                                                     ...   \n",
       " 1358137564587319299                    NaN                        NaN  ...   \n",
       " 1357379984399212545                    NaN                        NaN  ...   \n",
       " 1356733030962987008                    NaN                        NaN  ...   \n",
       " 1355924395064233986                    NaN                        NaN  ...   \n",
       " 1355599316300292097                    NaN                        NaN  ...   \n",
       " ...                                    ...                        ...  ...   \n",
       " 32514882561638401                      NaN                        NaN  ...   \n",
       " 32513604662071296                      NaN                        NaN  ...   \n",
       " 32511823722840064                      NaN                        NaN  ...   \n",
       " 32510294081146881                      NaN                        NaN  ...   \n",
       " 32508748819857410                      NaN                        NaN  ...   \n",
       " \n",
       "                      favorited  retweeted possibly_sensitive lang  \\\n",
       " id                                                                  \n",
       " 1358137564587319299      False      False                0.0   en   \n",
       " 1357379984399212545      False      False                0.0   en   \n",
       " 1356733030962987008      False      False                0.0   it   \n",
       " 1355924395064233986      False      False                0.0   en   \n",
       " 1355599316300292097      False      False                0.0   it   \n",
       " ...                        ...        ...                ...  ...   \n",
       " 32514882561638401        False      False                NaN   en   \n",
       " 32513604662071296        False      False                NaN   en   \n",
       " 32511823722840064        False      False                NaN   en   \n",
       " 32510294081146881        False      False                NaN   en   \n",
       " 32508748819857410        False      False                NaN   en   \n",
       " \n",
       "                      quoted_status_id  quoted_status_id_str  \\\n",
       " id                                                            \n",
       " 1358137564587319299               NaN                   NaN   \n",
       " 1357379984399212545               NaN                   NaN   \n",
       " 1356733030962987008               NaN                   NaN   \n",
       " 1355924395064233986               NaN                   NaN   \n",
       " 1355599316300292097               NaN                   NaN   \n",
       " ...                               ...                   ...   \n",
       " 32514882561638401                 NaN                   NaN   \n",
       " 32513604662071296                 NaN                   NaN   \n",
       " 32511823722840064                 NaN                   NaN   \n",
       " 32510294081146881                 NaN                   NaN   \n",
       " 32508748819857410                 NaN                   NaN   \n",
       " \n",
       "                     quoted_status_permalink  quoted_status  retweeted_status  \\\n",
       " id                                                                             \n",
       " 1358137564587319299                     NaN            NaN               NaN   \n",
       " 1357379984399212545                     NaN            NaN               NaN   \n",
       " 1356733030962987008                     NaN            NaN               NaN   \n",
       " 1355924395064233986                     NaN            NaN               NaN   \n",
       " 1355599316300292097                     NaN            NaN               NaN   \n",
       " ...                                     ...            ...               ...   \n",
       " 32514882561638401                       NaN            NaN               NaN   \n",
       " 32513604662071296                       NaN            NaN               NaN   \n",
       " 32511823722840064                       NaN            NaN               NaN   \n",
       " 32510294081146881                       NaN            NaN               NaN   \n",
       " 32508748819857410                       NaN            NaN               NaN   \n",
       " \n",
       "                                  device  \n",
       " id                                       \n",
       " 1358137564587319299  Twitter for iPhone  \n",
       " 1357379984399212545  Twitter for iPhone  \n",
       " 1356733030962987008  Twitter for iPhone  \n",
       " 1355924395064233986  Twitter for iPhone  \n",
       " 1355599316300292097  Twitter for iPhone  \n",
       " ...                                 ...  \n",
       " 32514882561638401                WhoSay  \n",
       " 32513604662071296                WhoSay  \n",
       " 32511823722840064                WhoSay  \n",
       " 32510294081146881                WhoSay  \n",
       " 32508748819857410                WhoSay  \n",
       " \n",
       " [3198 rows x 31 columns],\n",
       " 'elonmusk':                                    created_at               id_str  \\\n",
       " id                                                                   \n",
       " 1357991946082418690 2021-02-06 09:58:04+00:00  1357991946082418688   \n",
       " 1357973565413367808 2021-02-06 08:45:02+00:00  1357973565413367808   \n",
       " 1357972904663687173 2021-02-06 08:42:25+00:00  1357972904663687168   \n",
       " 1357970517165182979 2021-02-06 08:32:55+00:00  1357970517165182976   \n",
       " 1357964347813687296 2021-02-06 08:08:24+00:00  1357964347813687296   \n",
       " ...                                       ...                  ...   \n",
       " 1242900612897005571 2020-03-25 19:46:12+00:00  1242900612897005568   \n",
       " 1242899515268648962 2020-03-25 19:41:51+00:00  1242899515268648960   \n",
       " 1242893395338674176 2020-03-25 19:17:31+00:00  1242893395338674176   \n",
       " 1242881868426612736 2020-03-25 18:31:43+00:00  1242881868426612736   \n",
       " 1242881125049085956 2020-03-25 18:28:46+00:00  1242881125049085952   \n",
       " \n",
       "                                                                                                                                                                                                                                    full_text  \\\n",
       " id                                                                                                                                                                                                                                             \n",
       " 1357991946082418690                                                                                                                                                                          The Second Last Kingdom https://t.co/Je4EI88HmV   \n",
       " 1357973565413367808                                                                                                                                                                    @DumDin7 @Grimezsz Haven’t heard that name in years …   \n",
       " 1357972904663687173                                                                                                                                                                                                       @Grimezsz Dogecake   \n",
       " 1357970517165182979                                                                                                                                                                                          YOLT\\n\\nhttps://t.co/cnOf9yjpF1   \n",
       " 1357964347813687296                                                                                                                                                                                             @Kristennetten That’s Damian   \n",
       " ...                                                                                                                                                                                                                                      ...   \n",
       " 1242900612897005571                                                      @flcnhvy @Tesla Giga New York will reopen for ventilator production as soon as humanly possible. We will do anything in our power to help the citizens of New York.   \n",
       " 1242899515268648962  @enscand @PPathole @flcnhvy @Tesla Something weird happened at CDC yesterday. They changed the graph to include “estimated illness onset date”. This is a significantly less rigorous standard. https://t.co/Dz2Nio5ddi   \n",
       " 1242893395338674176                   @PPathole @flcnhvy @Tesla C19 testing in the US over the past week has grown much faster than C19 positive cases. I think we may have passed the inflection point for US cases (excluding NY) already.   \n",
       " 1242881868426612736                                                                                                                                            @PPathole @flcnhvy @Tesla Yes. Is there more? Should be a lot of data by now.   \n",
       " 1242881125049085956                                                                                                                    @flcnhvy @Tesla Making good progress. We will do whatever is needed to help in these difficult times.   \n",
       " \n",
       "                      truncated display_text_range  \\\n",
       " id                                                  \n",
       " 1357991946082418690      False            [0, 23]   \n",
       " 1357973565413367808      False           [19, 53]   \n",
       " 1357972904663687173      False           [10, 18]   \n",
       " 1357970517165182979      False            [0, 29]   \n",
       " 1357964347813687296      False           [15, 28]   \n",
       " ...                        ...                ...   \n",
       " 1242900612897005571      False          [16, 163]   \n",
       " 1242899515268648962      False          [35, 191]   \n",
       " 1242893395338674176      False          [26, 198]   \n",
       " 1242881868426612736      False           [26, 77]   \n",
       " 1242881125049085956      False          [16, 101]   \n",
       " \n",
       "                                                                                                                                                                                                                                                                                                     entities  \\\n",
       " id                                                                                                                                                                                                                                                                                                             \n",
       " 1357991946082418690  {'hashtags': [], 'symbols': [], 'user_mentions': [], 'urls': [], 'media': [{'id': 1357991942471094275, 'id_str': '1357991942471094275', 'indices': [24, 47], 'media_url': 'http://pbs.twimg.com/media/EtiOegrVEAMCgZE.jpg', 'media_url_https': 'https://pbs.twimg.com/media/EtiOegrV...   \n",
       " 1357973565413367808  {'hashtags': [], 'symbols': [], 'user_mentions': [{'screen_name': 'DumDin7', 'name': 'Dum Din', 'id': 1279896279733145601, 'id_str': '1279896279733145601', 'indices': [0, 8]}, {'screen_name': 'Grimezsz', 'name': '𝑪𝒍𝒂𝒊𝒓𝒆 𝒅𝒆 𝑳𝒖𝒏𝒆࿎', 'id': 276540738, 'id_str': '276540738', 'indi...   \n",
       " 1357972904663687173                                                                                                        {'hashtags': [], 'symbols': [], 'user_mentions': [{'screen_name': 'Grimezsz', 'name': '𝑪𝒍𝒂𝒊𝒓𝒆 𝒅𝒆 𝑳𝒖𝒏𝒆࿎', 'id': 276540738, 'id_str': '276540738', 'indices': [0, 9]}], 'urls': []}   \n",
       " 1357970517165182979                                                      {'hashtags': [], 'symbols': [], 'user_mentions': [], 'urls': [{'url': 'https://t.co/cnOf9yjpF1', 'expanded_url': 'https://m.youtube.com/watch?v=05QJlF06F4s', 'display_url': 'm.youtube.com/watch?v=05QJlF…', 'indices': [6, 29]}]}   \n",
       " 1357964347813687296                                                                                           {'hashtags': [], 'symbols': [], 'user_mentions': [{'screen_name': 'Kristennetten', 'name': 'K10✨', 'id': 985686123123949568, 'id_str': '985686123123949568', 'indices': [0, 14]}], 'urls': []}   \n",
       " ...                                                                                                                                                                                                                                                                                                      ...   \n",
       " 1242900612897005571  {'hashtags': [], 'symbols': [], 'user_mentions': [{'screen_name': 'flcnhvy', 'name': 'Viv 🐉', 'id': 1060180551544528897, 'id_str': '1060180551544528897', 'indices': [0, 8]}, {'screen_name': 'Tesla', 'name': 'Tesla', 'id': 13298072, 'id_str': '13298072', 'indices': [9, 15]}], ...   \n",
       " 1242899515268648962  {'hashtags': [], 'symbols': [], 'user_mentions': [{'screen_name': 'enscand', 'name': 'Nathan Scandella', 'id': 3190128704, 'id_str': '3190128704', 'indices': [0, 8]}, {'screen_name': 'PPathole', 'name': 'Pranay Pathole', 'id': 1291945442, 'id_str': '1291945442', 'indices': [9...   \n",
       " 1242893395338674176  {'hashtags': [], 'symbols': [], 'user_mentions': [{'screen_name': 'PPathole', 'name': 'Pranay Pathole', 'id': 1291945442, 'id_str': '1291945442', 'indices': [0, 9]}, {'screen_name': 'flcnhvy', 'name': 'Viv 🐉', 'id': 1060180551544528897, 'id_str': '1060180551544528897', 'indic...   \n",
       " 1242881868426612736  {'hashtags': [], 'symbols': [], 'user_mentions': [{'screen_name': 'PPathole', 'name': 'Pranay Pathole', 'id': 1291945442, 'id_str': '1291945442', 'indices': [0, 9]}, {'screen_name': 'flcnhvy', 'name': 'Viv 🐉', 'id': 1060180551544528897, 'id_str': '1060180551544528897', 'indic...   \n",
       " 1242881125049085956  {'hashtags': [], 'symbols': [], 'user_mentions': [{'screen_name': 'flcnhvy', 'name': 'Viv 🐉', 'id': 1060180551544528897, 'id_str': '1060180551544528897', 'indices': [0, 8]}, {'screen_name': 'Tesla', 'name': 'Tesla', 'id': 13298072, 'id_str': '13298072', 'indices': [9, 15]}], ...   \n",
       " \n",
       "                                                                                                                                                                                                                                                                                            extended_entities  \\\n",
       " id                                                                                                                                                                                                                                                                                                             \n",
       " 1357991946082418690  {'media': [{'id': 1357991942471094275, 'id_str': '1357991942471094275', 'indices': [24, 47], 'media_url': 'http://pbs.twimg.com/media/EtiOegrVEAMCgZE.jpg', 'media_url_https': 'https://pbs.twimg.com/media/EtiOegrVEAMCgZE.jpg', 'url': 'https://t.co/Je4EI88HmV', 'display_url': '...   \n",
       " 1357973565413367808                                                                                                                                                                                                                                                                                      NaN   \n",
       " 1357972904663687173                                                                                                                                                                                                                                                                                      NaN   \n",
       " 1357970517165182979                                                                                                                                                                                                                                                                                      NaN   \n",
       " 1357964347813687296                                                                                                                                                                                                                                                                                      NaN   \n",
       " ...                                                                                                                                                                                                                                                                                                      ...   \n",
       " 1242900612897005571                                                                                                                                                                                                                                                                                      NaN   \n",
       " 1242899515268648962  {'media': [{'id': 1242899508071104515, 'id_str': '1242899508071104515', 'indices': [192, 215], 'media_url': 'http://pbs.twimg.com/media/ET-qhHYWAAMgJYP.jpg', 'media_url_https': 'https://pbs.twimg.com/media/ET-qhHYWAAMgJYP.jpg', 'url': 'https://t.co/Dz2Nio5ddi', 'display_url':...   \n",
       " 1242893395338674176                                                                                                                                                                                                                                                                                      NaN   \n",
       " 1242881868426612736                                                                                                                                                                                                                                                                                      NaN   \n",
       " 1242881125049085956                                                                                                                                                                                                                                                                                      NaN   \n",
       " \n",
       "                                                                                                  source  \\\n",
       " id                                                                                                        \n",
       " 1357991946082418690  <a href=\"http://twitter.com/download/iphone\" rel=\"nofollow\">Twitter for iPhone</a>   \n",
       " 1357973565413367808  <a href=\"http://twitter.com/download/iphone\" rel=\"nofollow\">Twitter for iPhone</a>   \n",
       " 1357972904663687173  <a href=\"http://twitter.com/download/iphone\" rel=\"nofollow\">Twitter for iPhone</a>   \n",
       " 1357970517165182979  <a href=\"http://twitter.com/download/iphone\" rel=\"nofollow\">Twitter for iPhone</a>   \n",
       " 1357964347813687296  <a href=\"http://twitter.com/download/iphone\" rel=\"nofollow\">Twitter for iPhone</a>   \n",
       " ...                                                                                                 ...   \n",
       " 1242900612897005571  <a href=\"http://twitter.com/download/iphone\" rel=\"nofollow\">Twitter for iPhone</a>   \n",
       " 1242899515268648962  <a href=\"http://twitter.com/download/iphone\" rel=\"nofollow\">Twitter for iPhone</a>   \n",
       " 1242893395338674176  <a href=\"http://twitter.com/download/iphone\" rel=\"nofollow\">Twitter for iPhone</a>   \n",
       " 1242881868426612736  <a href=\"http://twitter.com/download/iphone\" rel=\"nofollow\">Twitter for iPhone</a>   \n",
       " 1242881125049085956  <a href=\"http://twitter.com/download/iphone\" rel=\"nofollow\">Twitter for iPhone</a>   \n",
       " \n",
       "                      in_reply_to_status_id  in_reply_to_status_id_str  ...  \\\n",
       " id                                                                     ...   \n",
       " 1357991946082418690                    NaN                        NaN  ...   \n",
       " 1357973565413367808           1.357973e+18               1.357973e+18  ...   \n",
       " 1357972904663687173           1.357835e+18               1.357835e+18  ...   \n",
       " 1357970517165182979                    NaN                        NaN  ...   \n",
       " 1357964347813687296           1.357964e+18               1.357964e+18  ...   \n",
       " ...                                    ...                        ...  ...   \n",
       " 1242900612897005571           1.242881e+18               1.242881e+18  ...   \n",
       " 1242899515268648962           1.242897e+18               1.242897e+18  ...   \n",
       " 1242893395338674176           1.242886e+18               1.242886e+18  ...   \n",
       " 1242881868426612736           1.242881e+18               1.242881e+18  ...   \n",
       " 1242881125049085956           1.242873e+18               1.242873e+18  ...   \n",
       " \n",
       "                      favorited  retweeted possibly_sensitive lang  \\\n",
       " id                                                                  \n",
       " 1357991946082418690      False      False                0.0   en   \n",
       " 1357973565413367808      False      False                NaN   en   \n",
       " 1357972904663687173      False      False                NaN   en   \n",
       " 1357970517165182979      False      False                0.0   en   \n",
       " 1357964347813687296      False      False                NaN   en   \n",
       " ...                        ...        ...                ...  ...   \n",
       " 1242900612897005571      False      False                NaN   en   \n",
       " 1242899515268648962      False      False                0.0   en   \n",
       " 1242893395338674176      False      False                NaN   en   \n",
       " 1242881868426612736      False      False                NaN   en   \n",
       " 1242881125049085956      False      False                NaN   en   \n",
       " \n",
       "                      retweeted_status  quoted_status_id  quoted_status_id_str  \\\n",
       " id                                                                              \n",
       " 1357991946082418690               NaN               NaN                   NaN   \n",
       " 1357973565413367808               NaN               NaN                   NaN   \n",
       " 1357972904663687173               NaN               NaN                   NaN   \n",
       " 1357970517165182979               NaN               NaN                   NaN   \n",
       " 1357964347813687296               NaN               NaN                   NaN   \n",
       " ...                               ...               ...                   ...   \n",
       " 1242900612897005571               NaN               NaN                   NaN   \n",
       " 1242899515268648962               NaN               NaN                   NaN   \n",
       " 1242893395338674176               NaN               NaN                   NaN   \n",
       " 1242881868426612736               NaN               NaN                   NaN   \n",
       " 1242881125049085956               NaN               NaN                   NaN   \n",
       " \n",
       "                      quoted_status_permalink  quoted_status  \\\n",
       " id                                                            \n",
       " 1357991946082418690                      NaN            NaN   \n",
       " 1357973565413367808                      NaN            NaN   \n",
       " 1357972904663687173                      NaN            NaN   \n",
       " 1357970517165182979                      NaN            NaN   \n",
       " 1357964347813687296                      NaN            NaN   \n",
       " ...                                      ...            ...   \n",
       " 1242900612897005571                      NaN            NaN   \n",
       " 1242899515268648962                      NaN            NaN   \n",
       " 1242893395338674176                      NaN            NaN   \n",
       " 1242881868426612736                      NaN            NaN   \n",
       " 1242881125049085956                      NaN            NaN   \n",
       " \n",
       "                                  device  \n",
       " id                                       \n",
       " 1357991946082418690  Twitter for iPhone  \n",
       " 1357973565413367808  Twitter for iPhone  \n",
       " 1357972904663687173  Twitter for iPhone  \n",
       " 1357970517165182979  Twitter for iPhone  \n",
       " 1357964347813687296  Twitter for iPhone  \n",
       " ...                                 ...  \n",
       " 1242900612897005571  Twitter for iPhone  \n",
       " 1242899515268648962  Twitter for iPhone  \n",
       " 1242893395338674176  Twitter for iPhone  \n",
       " 1242881868426612736  Twitter for iPhone  \n",
       " 1242881125049085956  Twitter for iPhone  \n",
       " \n",
       " [3239 rows x 31 columns]}"
      ]
     },
     "execution_count": 16,
     "metadata": {},
     "output_type": "execute_result"
    }
   ],
   "source": [
    "for df in tweets.values():\n",
    "    df['device'] = df['source'].str.extract(q2b_pattern)\n",
    "tweets"
   ]
  },
  {
   "cell_type": "code",
   "execution_count": 17,
   "metadata": {
    "deletable": false,
    "editable": false
   },
   "outputs": [
    {
     "data": {
      "text/html": [
       "<p><strong><pre style='display: inline;'>q2c</pre></strong> passed!</p>"
      ],
      "text/plain": [
       "q2c results: All test cases passed!"
      ]
     },
     "execution_count": 17,
     "metadata": {},
     "output_type": "execute_result"
    }
   ],
   "source": [
    "grader.check(\"q2c\")"
   ]
  },
  {
   "cell_type": "markdown",
   "metadata": {},
   "source": [
    "---\n",
    "### Question 2d\n",
    "\n",
    "To examine the most frequently used devices by each individual, implement the `most_freq` function that takes in a `Series` and returns a new `Series` containing the `k` most commonly occurring entries in the first series, where the values are the counts of the entries and the indices are the entries themselves.\n",
    "\n",
    "For example: \n",
    "```python\n",
    "most_freq(pd.Series([\"A\", \"B\", \"A\", \"C\", \"B\", \"A\"]), k=2)\n",
    "```\n",
    "would return:\n",
    "```\n",
    "A    3\n",
    "B    2\n",
    "dtype: int64\n",
    "```\n",
    "\n",
    "\n",
    "\n",
    "\n",
    "**Hint**: Consider using `value_counts`, `sort_values`, `head`, and/or `nlargest` (for the last one, read the documentation [here](https://pandas.pydata.org/pandas-docs/stable/reference/api/pandas.Series.nlargest.html?highlight=nlargest)).\n",
    " Think of what might be the most efficient implementation."
   ]
  },
  {
   "cell_type": "code",
   "execution_count": 18,
   "metadata": {
    "tags": []
   },
   "outputs": [
    {
     "data": {
      "text/plain": [
       "Twitter for iPhone     1183\n",
       "Twitter Web Client      959\n",
       "WhoSay                  453\n",
       "MobioINsider.com        144\n",
       "Twitter for Android     108\n",
       "Name: device, dtype: int64"
      ]
     },
     "execution_count": 18,
     "metadata": {},
     "output_type": "execute_result"
    }
   ],
   "source": [
    "def most_freq(series, k = 5):\n",
    "    return series.value_counts().nlargest()\n",
    "\n",
    "most_freq(tweets[\"Cristiano\"]['device'])"
   ]
  },
  {
   "cell_type": "code",
   "execution_count": 19,
   "metadata": {
    "deletable": false,
    "editable": false
   },
   "outputs": [
    {
     "data": {
      "text/html": [
       "<p><strong><pre style='display: inline;'>q2d</pre></strong> passed!</p>"
      ],
      "text/plain": [
       "q2d results: All test cases passed!"
      ]
     },
     "execution_count": 19,
     "metadata": {},
     "output_type": "execute_result"
    }
   ],
   "source": [
    "grader.check(\"q2d\")"
   ]
  },
  {
   "cell_type": "markdown",
   "metadata": {
    "nbgrader": {
     "grade": false,
     "grade_id": "q4b",
     "locked": true,
     "schema_version": 2,
     "solution": false
    }
   },
   "source": [
    "Run the following two cells to compute a table and plot describing the top 5 most commonly used devices for each user."
   ]
  },
  {
   "cell_type": "code",
   "execution_count": 20,
   "metadata": {},
   "outputs": [
    {
     "data": {
      "text/html": [
       "<div>\n",
       "<style scoped>\n",
       "    .dataframe tbody tr th:only-of-type {\n",
       "        vertical-align: middle;\n",
       "    }\n",
       "\n",
       "    .dataframe tbody tr th {\n",
       "        vertical-align: top;\n",
       "    }\n",
       "\n",
       "    .dataframe thead th {\n",
       "        text-align: right;\n",
       "    }\n",
       "</style>\n",
       "<table border=\"1\" class=\"dataframe\">\n",
       "  <thead>\n",
       "    <tr style=\"text-align: right;\">\n",
       "      <th></th>\n",
       "      <th>Twitter for iPhone</th>\n",
       "      <th>Twitter Media Studio</th>\n",
       "      <th>Twitter Web Client</th>\n",
       "      <th>WhoSay</th>\n",
       "      <th>MobioINsider.com</th>\n",
       "      <th>Twitter for Android</th>\n",
       "      <th>Twitter Web App</th>\n",
       "    </tr>\n",
       "  </thead>\n",
       "  <tbody>\n",
       "    <tr>\n",
       "      <th>AOC</th>\n",
       "      <td>3245.0</td>\n",
       "      <td>2.0</td>\n",
       "      <td>0.0</td>\n",
       "      <td>0.0</td>\n",
       "      <td>0.0</td>\n",
       "      <td>0.0</td>\n",
       "      <td>0.0</td>\n",
       "    </tr>\n",
       "    <tr>\n",
       "      <th>Cristiano</th>\n",
       "      <td>1183.0</td>\n",
       "      <td>0.0</td>\n",
       "      <td>959.0</td>\n",
       "      <td>453.0</td>\n",
       "      <td>144.0</td>\n",
       "      <td>108.0</td>\n",
       "      <td>0.0</td>\n",
       "    </tr>\n",
       "    <tr>\n",
       "      <th>elonmusk</th>\n",
       "      <td>3202.0</td>\n",
       "      <td>0.0</td>\n",
       "      <td>0.0</td>\n",
       "      <td>0.0</td>\n",
       "      <td>0.0</td>\n",
       "      <td>0.0</td>\n",
       "      <td>37.0</td>\n",
       "    </tr>\n",
       "  </tbody>\n",
       "</table>\n",
       "</div>"
      ],
      "text/plain": [
       "           Twitter for iPhone  Twitter Media Studio  Twitter Web Client  \\\n",
       "AOC                    3245.0                   2.0                 0.0   \n",
       "Cristiano              1183.0                   0.0               959.0   \n",
       "elonmusk               3202.0                   0.0                 0.0   \n",
       "\n",
       "           WhoSay  MobioINsider.com  Twitter for Android  Twitter Web App  \n",
       "AOC           0.0               0.0                  0.0              0.0  \n",
       "Cristiano   453.0             144.0                108.0              0.0  \n",
       "elonmusk      0.0               0.0                  0.0             37.0  "
      ]
     },
     "execution_count": 20,
     "metadata": {},
     "output_type": "execute_result"
    }
   ],
   "source": [
    "# just run this cell\n",
    "device_counts = pd.DataFrame(\n",
    "    [most_freq(tweets[name]['device']).rename(name)\n",
    "     for name in tweets]\n",
    ").fillna(0)\n",
    "device_counts"
   ]
  },
  {
   "cell_type": "code",
   "execution_count": 21,
   "metadata": {},
   "outputs": [
    {
     "data": {
      "image/png": "[encoded data removed]",
      "text/plain": [
       "<Figure size 1500x500 with 1 Axes>"
      ]
     },
     "metadata": {},
     "output_type": "display_data"
    }
   ],
   "source": [
    "# just run this cell\n",
    "make_bar_plot(device_counts.T, title=\"Count of Tweets by Source\",\n",
    "               xlabel=\"Source\", ylabel=\"Count\")\n",
    "plt.xticks(rotation=45)\n",
    "plt.legend(title=\"Handle\");"
   ]
  },
  {
   "cell_type": "markdown",
   "metadata": {},
   "source": [
    "<!-- BEGIN QUESTION -->\n",
    "\n",
    "---\n",
    "### Question 2e\n",
    "\n",
    "What might we want to investigate further?  Write a few sentences below."
   ]
  },
  {
   "cell_type": "markdown",
   "metadata": {},
   "source": [
    "**We might want to investigate why Elon and AOC almost strictly use the iPhone Twitter app. Are they always on the go? Also, what these other entities are? Maybe platforms for Twitter, such as WhoSay is only in certain countries. Christiano is Portuguese, so maybe it is popular there, but not in America.**"
   ]
  },
  {
   "cell_type": "markdown",
   "metadata": {},
   "source": [
    "<!-- END QUESTION -->\n",
    "\n",
    "<!-- BEGIN QUESTION -->\n",
    "\n",
    "---\n",
    "### Question 2f\n",
    "\n",
    "We just looked at the top 5 most commonly used devices for each user. However, we used the number of tweets as a measure, when it might be better to compare these distributions by comparing _proportions_ of tweets. Why might proportions of tweets be better measures than numbers of tweets?\n"
   ]
  },
  {
   "cell_type": "markdown",
   "metadata": {},
   "source": [
    "**Proportions might be better than number of tweets because there may**"
   ]
  },
  {
   "cell_type": "markdown",
   "metadata": {
    "nbgrader": {
     "grade": false,
     "grade_id": "q4a",
     "locked": true,
     "schema_version": 2,
     "solution": false
    }
   },
   "source": [
    "<!-- END QUESTION -->\n",
    "\n",
    "<br/><br/><br/>\n",
    "<br/><br/><br/>\n",
    "<hr style=\"border: 5px solid #003262;\" />\n",
    "<hr style=\"border: 1px solid #fdb515;\" />\n",
    "\n",
    "\n",
    "## Question 3: When?\n",
    "\n",
    "Now that we've explored the sources of each of the tweets, we will perform some time series analysis. A look into the temporal aspect of the data could reveal insights about how a user spends their day, when they eat and sleep, etc. In this question, we will focus on the time at which each tweet was posted.\n"
   ]
  },
  {
   "cell_type": "markdown",
   "metadata": {},
   "source": [
    "---\n",
    "### Question 3a\n",
    "\n",
    "Complete the following function `add_hour` that takes in a tweets dataframe `df`, and two column names `time_col` and `result_col`. Your function should use the timestamps in the `time_col` column to store in a new column `result_col` the computed  hour of the day as a floating point number according to the formula:\n",
    "\n",
    "$$\n",
    "\\text{hour} + \\frac{\\text{minute}}{60} + \\frac{\\text{second}}{60^{2}}\n",
    "$$\n",
    "\n",
    "**Note:** The below code calls your `add_hour` function and updates each tweets dataframe by using the `created_at` timestamp column to calculate and store the `hour` column.\n",
    "\n",
    "**Hint:** See the following link for an example of working with timestamps using the [`dt` accessors](https://pandas.pydata.org/pandas-docs/stable/user_guide/basics.html#dt-accessor). \n"
   ]
  },
  {
   "cell_type": "code",
   "execution_count": 22,
   "metadata": {
    "nbgrader": {
     "grade": false,
     "grade_id": "q4b-answer",
     "locked": false,
     "schema_version": 2,
     "solution": true
    },
    "tags": [
     "student"
    ]
   },
   "outputs": [
    {
     "data": {
      "text/plain": [
       "id\n",
       "1358149122264563712    20.377222\n",
       "1358147616400408576    20.277500\n",
       "1358145332316667909    20.126389\n",
       "1358145218407759875    20.118611\n",
       "1358144207333036040    20.051667\n",
       "Name: hour, dtype: float64"
      ]
     },
     "execution_count": 22,
     "metadata": {},
     "output_type": "execute_result"
    }
   ],
   "source": [
    "def add_hour(df, time_col, result_col):\n",
    "    df[result_col] = (df[time_col].dt.hour) + (df[time_col].dt.minute / 60) + (df[time_col].dt.second / (60 ** 2))\n",
    "    return df\n",
    "\n",
    "# do not modify the below code\n",
    "tweets = {handle: add_hour(df, \"created_at\", \"hour\") for handle, df in tweets.items()}\n",
    "tweets[\"AOC\"][\"hour\"].head()"
   ]
  },
  {
   "cell_type": "code",
   "execution_count": 23,
   "metadata": {
    "deletable": false,
    "editable": false
   },
   "outputs": [
    {
     "data": {
      "text/html": [
       "<p><strong><pre style='display: inline;'>q3a</pre></strong> passed!</p>"
      ],
      "text/plain": [
       "q3a results: All test cases passed!"
      ]
     },
     "execution_count": 23,
     "metadata": {},
     "output_type": "execute_result"
    }
   ],
   "source": [
    "grader.check(\"q3a\")"
   ]
  },
  {
   "cell_type": "markdown",
   "metadata": {
    "nbgrader": {
     "grade": false,
     "grade_id": "q4c",
     "locked": true,
     "schema_version": 2,
     "solution": false
    }
   },
   "source": [
    "With our new `hour` column, let's take a look at the distribution of tweets for each user by time of day. The following cell helps create a density plot on the number of tweets based on the hour they are posted. \n",
    "\n",
    "The function `bin_df` takes in a dataframe, an array of bins, and a column name; it bins the the values in the specified column, returning a dataframe with the bin lower bound and the number of elements in the bin. This function uses [`pd.cut`](https://pandas.pydata.org/pandas-docs/stable/reference/api/pandas.cut.html), a pandas [utility](https://pandas.pydata.org/pandas-docs/stable/reference/api/pandas.cut.html) for binning numerical values that you may find helpful in the distant future.\n",
    "\n",
    "Run the cell and answer the following question about the plot."
   ]
  },
  {
   "cell_type": "code",
   "execution_count": 24,
   "metadata": {},
   "outputs": [
    {
     "data": {
      "image/png": "[encoded data removed]",
      "text/plain": [
       "<Figure size 1000x600 with 1 Axes>"
      ]
     },
     "metadata": {},
     "output_type": "display_data"
    }
   ],
   "source": [
    "# just run this cell\n",
    "def bin_df(df, bins, colname):\n",
    "    binned = pd.cut(df[colname], bins).value_counts().sort_index()\n",
    "    return pd.DataFrame({\"counts\": binned, \"bin\": bins[:-1]})\n",
    "\n",
    "hour_bins = np.arange(0, 24.5, .5)\n",
    "binned_hours = {handle: bin_df(df, hour_bins, \"hour\") for handle, df in tweets.items()}\n",
    "\n",
    "make_line_plot(binned_hours, \"bin\", \"counts\", title=\"Distribution of Tweets by Time of Day\",\n",
    "               xlabel=\"Hour\", ylabel=\"Number of Tweets\")"
   ]
  },
  {
   "cell_type": "markdown",
   "metadata": {},
   "source": [
    "<!-- BEGIN QUESTION -->\n",
    "\n",
    "---\n",
    "### Question 3b\n",
    "Compare Cristiano's distribution with those of AOC and Elon Musk. In particular, compare the distributions before and after Hour 6. What differences did you notice? What might be a possible cause of that? Do the data plotted above seem reasonable?"
   ]
  },
  {
   "cell_type": "markdown",
   "metadata": {},
   "source": [
    "**Christiano's number of tweets begins a reversal and shoots up while AOC and Elon see a decrease. This is probably due to Christiano living in a different country where the time zone is very differet. He is active when, in America, it might be late at night or early morning. The data seems reasonable because after about 10 hours, AOC and Elon become more active once again and Christiano begins to slow down.**"
   ]
  },
  {
   "cell_type": "markdown",
   "metadata": {},
   "source": [
    "<!-- END QUESTION -->\n",
    "\n",
    "---\n",
    "### Question 3c\n",
    "\n",
    "To account for different locations of each user in our analysis, we will next adjust the `created_at` timestamp for each tweet to the respective timezone of each user. Complete the following function `convert_timezone` that takes in a tweets dataframe `df` and a timezone `new_tz` and adds a new column `converted_time` that has the adjusted `created_at` timestamp for each tweet. The timezone for each user is provided in `timezones`.\n",
    "\n",
    "**Hint:** Again, please see the following link for an example of working with [`dt` accessors](https://pandas.pydata.org/pandas-docs/stable/user_guide/basics.html#dt-accessor).\n"
   ]
  },
  {
   "cell_type": "code",
   "execution_count": 25,
   "metadata": {
    "nbgrader": {
     "grade": false,
     "grade_id": "convert-to-est",
     "locked": true,
     "schema_version": 2,
     "solution": false
    },
    "tags": []
   },
   "outputs": [],
   "source": [
    "def convert_timezone(df, new_tz):\n",
    "    df['converted_time'] = df['created_at'].dt.tz_convert(new_tz)\n",
    "    return df\n",
    "\n",
    "timezones = {\"AOC\": \"EST\", \"Cristiano\": \"Europe/Lisbon\", \"elonmusk\": \"America/Los_Angeles\"}\n",
    "\n",
    "tweets = {handle: convert_timezone(df, tz) for (handle, df), tz in zip(tweets.items(), timezones.values())}"
   ]
  },
  {
   "cell_type": "code",
   "execution_count": 26,
   "metadata": {
    "deletable": false,
    "editable": false
   },
   "outputs": [
    {
     "data": {
      "text/html": [
       "<p><strong><pre style='display: inline;'>q3c</pre></strong> passed!</p>"
      ],
      "text/plain": [
       "q3c results: All test cases passed!"
      ]
     },
     "execution_count": 26,
     "metadata": {},
     "output_type": "execute_result"
    }
   ],
   "source": [
    "grader.check(\"q3c\")"
   ]
  },
  {
   "cell_type": "markdown",
   "metadata": {
    "nbgrader": {
     "grade": false,
     "grade_id": "q4c",
     "locked": true,
     "schema_version": 2,
     "solution": false
    }
   },
   "source": [
    "With our adjusted timestamps for each user based on their timezone, let's take a look again at the distribution of tweets by time of day."
   ]
  },
  {
   "cell_type": "code",
   "execution_count": 27,
   "metadata": {},
   "outputs": [
    {
     "data": {
      "image/png": "[encoded data removed]",
      "text/plain": [
       "<Figure size 1000x600 with 1 Axes>"
      ]
     },
     "metadata": {},
     "output_type": "display_data"
    }
   ],
   "source": [
    "# just run this cell\n",
    "tweets = {handle: add_hour(df, \"converted_time\", \"converted_hour\") for handle, df in tweets.items()}\n",
    "binned_hours = {handle: bin_df(df, hour_bins, \"converted_hour\") for handle, df in tweets.items()}\n",
    "\n",
    "make_line_plot(binned_hours, \"bin\", \"counts\", title=\"Distribution of Tweets by Time of Day (timezone-corrected)\",\n",
    "               xlabel=\"Hour\", ylabel=\"Number of Tweets\")"
   ]
  },
  {
   "cell_type": "markdown",
   "metadata": {
    "nbgrader": {
     "grade": false,
     "grade_id": "q4a",
     "locked": true,
     "schema_version": 2,
     "solution": false
    }
   },
   "source": [
    "<br/><br/><br/>\n",
    "<br/><br/><br/>\n",
    "<hr style=\"border: 5px solid #003262;\" />\n",
    "<hr style=\"border: 1px solid #fdb515;\" />\n",
    "\n",
    "\n",
    "## Question 4: Sentiment\n",
    "\n",
    "\n",
    "In the past few questions, we have explored the sources of the tweets and when they are posted. Although on their own, they might not seem particularly intricate, combined with the power of regular expressions, they could actually help us infer a lot about the users. In this section, we will continue building on our past analysis and specifically look at the sentiment of each tweet -- this would lead us to a much more direct and detailed understanding of how the users view certain subjects and people. \n"
   ]
  },
  {
   "cell_type": "markdown",
   "metadata": {
    "nbgrader": {
     "grade": false,
     "grade_id": "q6-header",
     "locked": true,
     "schema_version": 2,
     "solution": false
    }
   },
   "source": [
    "<br/>\n",
    "How do we actually measure the sentiment of each tweet? In our case, we can use the words in the text of a tweet for our calculation! For example, the word \"love\" within the sentence \"I love America!\" has a positive sentiment, whereas the word \"hate\" within the sentence \"I hate taxes!\" has a negative sentiment. In addition, some words have stronger positive / negative sentiment than others: \"I love America.\" is more positive than \"I like America.\"\n",
    "\n",
    "We will use the [VADER (Valence Aware Dictionary and sEntiment Reasoner)](https://github.com/cjhutto/vaderSentiment) lexicon to analyze the sentiment of AOC's tweets. VADER is a lexicon and rule-based sentiment analysis tool that is specifically attuned to sentiments expressed in social media which is great for our usage.\n",
    "\n",
    "The VADER lexicon gives the sentiment of individual words. Run the following cell to show the first few rows of the lexicon:"
   ]
  },
  {
   "cell_type": "code",
   "execution_count": 28,
   "metadata": {
    "nbgrader": {
     "grade": false,
     "grade_id": "head-vader",
     "locked": true,
     "schema_version": 2,
     "solution": false
    }
   },
   "outputs": [
    {
     "name": "stdout",
     "output_type": "stream",
     "text": [
      "$:\t-1.5\t0.80623\t[-1, -1, -1, -1, -3, -1, -3, -1, -2, -1]\n",
      "%)\t-0.4\t1.0198\t[-1, 0, -1, 0, 0, -2, -1, 2, -1, 0]\n",
      "%-)\t-1.5\t1.43178\t[-2, 0, -2, -2, -1, 2, -2, -3, -2, -3]\n",
      "&-:\t-0.4\t1.42829\t[-3, -1, 0, 0, -1, -1, -1, 2, -1, 2]\n",
      "&:\t-0.7\t0.64031\t[0, -1, -1, -1, 1, -1, -1, -1, -1, -1]\n",
      "( '}{' )\t1.6\t0.66332\t[1, 2, 2, 1, 1, 2, 2, 1, 3, 1]\n",
      "(%\t-0.9\t0.9434\t[0, 0, 1, -1, -1, -1, -2, -2, -1, -2]\n",
      "('-:\t2.2\t1.16619\t[4, 1, 4, 3, 1, 2, 3, 1, 2, 1]\n",
      "(':\t2.3\t0.9\t[1, 3, 3, 2, 2, 4, 2, 3, 1, 2]\n",
      "((-:\t2.1\t0.53852\t[2, 2, 2, 1, 2, 3, 2, 2, 3, 2]\n",
      "\n"
     ]
    }
   ],
   "source": [
    "# just run this cell\n",
    "print(''.join(open(\"vader_lexicon.txt\").readlines()[:10]))"
   ]
  },
  {
   "cell_type": "markdown",
   "metadata": {},
   "source": [
    "As you can see, the lexicon contains emojis too! Each row contains a word and the *polarity* of that word, measuring how positive or negative the word is."
   ]
  },
  {
   "cell_type": "markdown",
   "metadata": {
    "nbgrader": {
     "grade": false,
     "grade_id": "q6a-header",
     "locked": true,
     "schema_version": 2,
     "solution": false
    }
   },
   "source": [
    "### VADER Sentiment Analysis\n",
    "\n",
    "[VADER](https://github.com/cjhutto/vaderSentiment#introduction) is a tool that can quantitatively describe the polarity or \"sentiment\" of a word.\n",
    "\n",
    "VADER doesn't \"read\" sentences, but works by parsing sentences into words, assigning a preset generalized score from their testing sets to each word separately. \n",
    "\n",
    "VADER relies on humans to stabilize its scoring. The creators use Amazon Mechanical Turk, a crowdsourcing survey platform, to train its model. Its training data consists of a small corpus of tweets, New York Times editorials and news articles, Rotten Tomatoes reviews, and Amazon product reviews, tokenized using the natural language toolkit (NLTK). Each word in each dataset was reviewed and rated by at least 20 trained individuals who had signed up to work on these tasks through Mechanical Turk. "
   ]
  },
  {
   "cell_type": "markdown",
   "metadata": {},
   "source": [
    "<!-- BEGIN QUESTION -->\n",
    "\n",
    "---\n",
    "### Question 4a\n",
    "Please score the sentiment of one of the following words, using your own personal interpretation. No code is required for this question!\n",
    "\n",
    "- police\n",
    "- order\n",
    "- Democrat\n",
    "- Republican\n",
    "- gun\n",
    "- dog\n",
    "- technology 0.5\n",
    "- TikTok\n",
    "- security\n",
    "- face-mask\n",
    "- science\n",
    "- climate change\n",
    "- vaccine\n",
    "\n",
    "What score did you give it and why? Can you think of a situation in which this word would carry the opposite sentiment to the one you’ve just assigned?\n"
   ]
  },
  {
   "cell_type": "markdown",
   "metadata": {},
   "source": [
    "**I gave the work police a 0.5 , which is a positive sentiment. This was because technology has a lot of great benefits; however, many consider technology to now be detrimental to humans and their lifestyles with the advent of machine learning and novel artificial intelligence. This would be a case where the sentiment could be the opposite and more negative.**"
   ]
  },
  {
   "cell_type": "markdown",
   "metadata": {},
   "source": [
    "<!-- END QUESTION -->\n",
    "\n",
    "**Optional (ungraded):** Are there circumstances (e.g. certain kinds of language or data) when you might not want to use VADER? What features of human speech might VADER misrepresent or fail to capture?"
   ]
  },
  {
   "cell_type": "markdown",
   "metadata": {},
   "source": [
    "---\n",
    "### Question 4b\n",
    "\n",
    "Let's first load in the data containing all the sentiments. Read `vader_lexicon.txt` into a dataframe called `sent`. The index of the dataframe should be the words in the lexicon and should be named `token`. `sent` should have one column named `polarity`, storing the polarity of each word.\n",
    "\n",
    "**Hint:** The `pd.read_csv` function may help here. Since the file is tab-separated, be sure to set `sep='\\t'` in your call to `pd.read_csv`. The first token will be `$:`.\n"
   ]
  },
  {
   "cell_type": "code",
   "execution_count": 29,
   "metadata": {
    "tags": []
   },
   "outputs": [
    {
     "data": {
      "text/html": [
       "<div>\n",
       "<style scoped>\n",
       "    .dataframe tbody tr th:only-of-type {\n",
       "        vertical-align: middle;\n",
       "    }\n",
       "\n",
       "    .dataframe tbody tr th {\n",
       "        vertical-align: top;\n",
       "    }\n",
       "\n",
       "    .dataframe thead th {\n",
       "        text-align: right;\n",
       "    }\n",
       "</style>\n",
       "<table border=\"1\" class=\"dataframe\">\n",
       "  <thead>\n",
       "    <tr style=\"text-align: right;\">\n",
       "      <th></th>\n",
       "      <th>polarity</th>\n",
       "    </tr>\n",
       "    <tr>\n",
       "      <th>token</th>\n",
       "      <th></th>\n",
       "    </tr>\n",
       "  </thead>\n",
       "  <tbody>\n",
       "    <tr>\n",
       "      <th>$:</th>\n",
       "      <td>-1.5</td>\n",
       "    </tr>\n",
       "    <tr>\n",
       "      <th>%)</th>\n",
       "      <td>-0.4</td>\n",
       "    </tr>\n",
       "    <tr>\n",
       "      <th>%-)</th>\n",
       "      <td>-1.5</td>\n",
       "    </tr>\n",
       "    <tr>\n",
       "      <th>&amp;-:</th>\n",
       "      <td>-0.4</td>\n",
       "    </tr>\n",
       "    <tr>\n",
       "      <th>&amp;:</th>\n",
       "      <td>-0.7</td>\n",
       "    </tr>\n",
       "  </tbody>\n",
       "</table>\n",
       "</div>"
      ],
      "text/plain": [
       "       polarity\n",
       "token          \n",
       "$:         -1.5\n",
       "%)         -0.4\n",
       "%-)        -1.5\n",
       "&-:        -0.4\n",
       "&:         -0.7"
      ]
     },
     "execution_count": 29,
     "metadata": {},
     "output_type": "execute_result"
    }
   ],
   "source": [
    "sent = pd.read_csv('vader_lexicon.txt', sep='\\t', names = ['token', 'polarity', 'compound_score', 'arr_of_scores'])\n",
    "sent = sent.loc[:, ['polarity', 'token']].set_index('token')\n",
    "sent.head()"
   ]
  },
  {
   "cell_type": "code",
   "execution_count": 30,
   "metadata": {
    "deletable": false,
    "editable": false
   },
   "outputs": [
    {
     "data": {
      "text/html": [
       "<p><strong><pre style='display: inline;'>q4b</pre></strong> passed!</p>"
      ],
      "text/plain": [
       "q4b results: All test cases passed!"
      ]
     },
     "execution_count": 30,
     "metadata": {},
     "output_type": "execute_result"
    }
   ],
   "source": [
    "grader.check(\"q4b\")"
   ]
  },
  {
   "cell_type": "markdown",
   "metadata": {
    "nbgrader": {
     "grade": false,
     "grade_id": "q6b-header",
     "locked": true,
     "schema_version": 2,
     "solution": false
    }
   },
   "source": [
    "---\n",
    "### Question 4c\n",
    "\n",
    "Before further analysis, we will need some more tools that can help us extract the necessary information and clean our data.\n",
    "\n",
    "Complete the following regular expressions that will help us match part of a tweet that we either (i) want to remove or (ii) are interested in learning more about."
   ]
  },
  {
   "cell_type": "markdown",
   "metadata": {},
   "source": [
    "#### Question 4c Part (i)\n",
    "Assign a regular expression to a new variable `punct_re` that captures all of the punctuations within a tweet. We consider punctuation to be any non-word, non-whitespace character.\n",
    "\n",
    "**Note**: A word character is any character that is alphanumeric or an underscore. A whitespace character is any character that is a space, a tab, a new line, or a carriage return.\n"
   ]
  },
  {
   "cell_type": "code",
   "execution_count": 31,
   "metadata": {
    "tags": []
   },
   "outputs": [
    {
     "data": {
      "text/plain": [
       "'RT  RepEscobar  Our country has the moral obligation and responsibility to reunite every single family separated at the southern border   T '"
      ]
     },
     "execution_count": 31,
     "metadata": {},
     "output_type": "execute_result"
    }
   ],
   "source": [
    "punct_re = r'[\\W\\s]'\n",
    "\n",
    "re.sub(punct_re, \" \", tweets[\"AOC\"].iloc[0][\"full_text\"])"
   ]
  },
  {
   "cell_type": "code",
   "execution_count": 32,
   "metadata": {
    "deletable": false,
    "editable": false
   },
   "outputs": [
    {
     "data": {
      "text/html": [
       "<p><strong><pre style='display: inline;'>q4ci</pre></strong> passed!</p>"
      ],
      "text/plain": [
       "q4ci results: All test cases passed!"
      ]
     },
     "execution_count": 32,
     "metadata": {},
     "output_type": "execute_result"
    }
   ],
   "source": [
    "grader.check(\"q4ci\")"
   ]
  },
  {
   "cell_type": "markdown",
   "metadata": {},
   "source": [
    "#### Question 4c Part (ii)\n",
    "Assign a regular expression to a new variable `mentions_re` that matches any mention in a tweet. Your regular expression should use a capturing group to extract the user's username in a mention.\n",
    "\n",
    "**Hint**: a user mention within a tweet always starts with the `@` symbol and is followed by a series of word characters (with no space in between). For more explanations on what a word character is, check out the **Note** section in Part 1.\n"
   ]
  },
  {
   "cell_type": "code",
   "execution_count": 33,
   "metadata": {
    "tags": []
   },
   "outputs": [
    {
     "data": {
      "text/plain": [
       "['RepEscobar']"
      ]
     },
     "execution_count": 33,
     "metadata": {},
     "output_type": "execute_result"
    }
   ],
   "source": [
    "mentions_re = r'@(\\S\\w+)'\n",
    "\n",
    "re.findall(mentions_re, tweets[\"AOC\"].iloc[0][\"full_text\"])"
   ]
  },
  {
   "cell_type": "code",
   "execution_count": 34,
   "metadata": {
    "deletable": false,
    "editable": false
   },
   "outputs": [
    {
     "data": {
      "text/html": [
       "<p><strong><pre style='display: inline;'>q4cii</pre></strong> passed!</p>"
      ],
      "text/plain": [
       "q4cii results: All test cases passed!"
      ]
     },
     "execution_count": 34,
     "metadata": {},
     "output_type": "execute_result"
    }
   ],
   "source": [
    "grader.check(\"q4cii\")"
   ]
  },
  {
   "cell_type": "markdown",
   "metadata": {},
   "source": [
    "<br/>\n",
    "\n",
    "### Tweet Sentiments and User Mentions\n",
    "\n",
    "As you have seen in the previous part of this question, there are actually a lot of interesting components that we can extract out of a tweet for further analysis! For the rest of this question though, we will focus on one particular case: the sentiment of each tweet in relation to the users mentioned within it. \n",
    "\n",
    "To calculate the sentiments for a sentence, we will follow this procedure:\n",
    "\n",
    "1. Remove the punctuation from each tweet so we can analyze the words.\n",
    "2. For each tweet, find the sentiment of each word.\n",
    "3. Calculate the sentiment of each tweet by taking the sum of the sentiments of its words."
   ]
  },
  {
   "cell_type": "markdown",
   "metadata": {},
   "source": [
    "---\n",
    "### Question 4d\n",
    "\n",
    "Let's use our `punct_re` regular expression from the previous part to clean up the text a bit more! The goal here is to remove all of the punctuations to ensure words can be properly matched with those from VADER to actually calculate the full sentiment score.\n",
    "\n",
    "Complete the following function `sanitize_texts` that takes in a table `df` and adds a new column `clean_text` by converting all characters in its original `full_text` column to lower case and replace all instances of punctuations with a space character.\n"
   ]
  },
  {
   "cell_type": "code",
   "execution_count": 35,
   "metadata": {
    "tags": []
   },
   "outputs": [
    {
     "data": {
      "text/plain": [
       "id\n",
       "1358149122264563712                                                                                     rt  repescobar  our country has the moral obligation and responsibility to reunite every single family separated at the southern border   t \n",
       "1358147616400408576                                                                                     rt  rokhanna  what happens when we guarantee  15 hour     31  of black workers and 26  of latinx workers get raises    a majority of essent \n",
       "1358145332316667909                                                                                                                                                                                                 source  https   t co 3o5jer6zpd \n",
       "1358145218407759875                                             joe cunningham pledged to never take corporate pac money  and he never did  mace said she ll cash every check she gets  yet another way this is a downgrade  https   t co dytsqxkxgu\n",
       "1358144207333036040    what s even more gross is that mace takes corporate pac money   she s already funded by corporations  now she s choosing to swindle working people on top of it   peak scam artistry  caps for cash   https   t co ccvxgdf6id\n",
       "Name: clean_text, dtype: object"
      ]
     },
     "execution_count": 35,
     "metadata": {},
     "output_type": "execute_result"
    }
   ],
   "source": [
    "def sanitize_texts(df):\n",
    "    df[\"clean_text\"] = df['full_text'].str.lower() \\\n",
    "                                      .replace(punct_re, str(' ') , regex = True)\n",
    "    return df\n",
    "\n",
    "tweets = {handle: sanitize_texts(df) for handle, df in tweets.items()}\n",
    "tweets[\"AOC\"][\"clean_text\"].head()"
   ]
  },
  {
   "cell_type": "code",
   "execution_count": 36,
   "metadata": {
    "deletable": false,
    "editable": false
   },
   "outputs": [
    {
     "data": {
      "text/html": [
       "<p><strong><pre style='display: inline;'>q4d</pre></strong> passed!</p>"
      ],
      "text/plain": [
       "q4d results: All test cases passed!"
      ]
     },
     "execution_count": 36,
     "metadata": {},
     "output_type": "execute_result"
    }
   ],
   "source": [
    "grader.check(\"q4d\")"
   ]
  },
  {
   "cell_type": "markdown",
   "metadata": {},
   "source": [
    "---\n",
    "### Question 4e\n",
    "With the texts sanitized, we can now extract all the user mentions from tweets. \n",
    "\n",
    "Complete the following function `extract_mentions` that takes in the **`full_text`** (not `clean_text`!) column from a tweets dataframe  and uses `mentions_re` to extract all the mentions in a dataframe. The returned dataframe is:\n",
    "* single-indexed by the IDs of the tweets\n",
    "* has one row for each mention\n",
    "* has one column named `mentions`, which contains each mention in all lower-cased characters\n",
    "\n",
    "\n",
    "**Hint**: There are several ways to approach this problem. Here is documentation for potentially useful functions: `str.extractall` ([link](https://pandas.pydata.org/pandas-docs/stable/reference/api/pandas.Series.str.extractall.html?highlight=extractall)) and `str.findall` ([link](https://pandas.pydata.org/pandas-docs/stable/reference/api/pandas.Series.str.findall.html)), `dropna` ([link](https://pandas.pydata.org/pandas-docs/stable/reference/api/pandas.Series.dropna.html?highlight=dropna#pandas.Series.dropna)), and `explode` ([link](https://pandas.pydata.org/pandas-docs/stable/reference/api/pandas.Series.explode.html?highlight=series%20explode)).\n"
   ]
  },
  {
   "cell_type": "code",
   "execution_count": 37,
   "metadata": {
    "tags": []
   },
   "outputs": [
    {
     "data": {
      "text/html": [
       "<div>\n",
       "<style scoped>\n",
       "    .dataframe tbody tr th:only-of-type {\n",
       "        vertical-align: middle;\n",
       "    }\n",
       "\n",
       "    .dataframe tbody tr th {\n",
       "        vertical-align: top;\n",
       "    }\n",
       "\n",
       "    .dataframe thead th {\n",
       "        text-align: right;\n",
       "    }\n",
       "</style>\n",
       "<table border=\"1\" class=\"dataframe\">\n",
       "  <thead>\n",
       "    <tr style=\"text-align: right;\">\n",
       "      <th></th>\n",
       "      <th>mentions</th>\n",
       "    </tr>\n",
       "  </thead>\n",
       "  <tbody>\n",
       "    <tr>\n",
       "      <th>0</th>\n",
       "      <td>repescobar</td>\n",
       "    </tr>\n",
       "    <tr>\n",
       "      <th>1</th>\n",
       "      <td>rokhanna</td>\n",
       "    </tr>\n",
       "    <tr>\n",
       "      <th>2</th>\n",
       "      <td>NaN</td>\n",
       "    </tr>\n",
       "    <tr>\n",
       "      <th>3</th>\n",
       "      <td>NaN</td>\n",
       "    </tr>\n",
       "    <tr>\n",
       "      <th>4</th>\n",
       "      <td>NaN</td>\n",
       "    </tr>\n",
       "  </tbody>\n",
       "</table>\n",
       "</div>"
      ],
      "text/plain": [
       "     mentions\n",
       "0  repescobar\n",
       "1    rokhanna\n",
       "2         NaN\n",
       "3         NaN\n",
       "4         NaN"
      ]
     },
     "metadata": {},
     "output_type": "display_data"
    },
    {
     "data": {
      "text/html": [
       "<div>\n",
       "<style scoped>\n",
       "    .dataframe tbody tr th:only-of-type {\n",
       "        vertical-align: middle;\n",
       "    }\n",
       "\n",
       "    .dataframe tbody tr th {\n",
       "        vertical-align: top;\n",
       "    }\n",
       "\n",
       "    .dataframe thead tr th {\n",
       "        text-align: left;\n",
       "    }\n",
       "</style>\n",
       "<table border=\"1\" class=\"dataframe\">\n",
       "  <thead>\n",
       "    <tr>\n",
       "      <th></th>\n",
       "      <th>AOC</th>\n",
       "      <th>Cristiano</th>\n",
       "      <th>elonmusk</th>\n",
       "    </tr>\n",
       "    <tr>\n",
       "      <th></th>\n",
       "      <th>mentions</th>\n",
       "      <th>mentions</th>\n",
       "      <th>mentions</th>\n",
       "    </tr>\n",
       "  </thead>\n",
       "  <tbody>\n",
       "    <tr>\n",
       "      <th>0</th>\n",
       "      <td>repescobar</td>\n",
       "      <td>NaN</td>\n",
       "      <td>NaN</td>\n",
       "    </tr>\n",
       "    <tr>\n",
       "      <th>1</th>\n",
       "      <td>rokhanna</td>\n",
       "      <td>NaN</td>\n",
       "      <td>dumdin7</td>\n",
       "    </tr>\n",
       "    <tr>\n",
       "      <th>2</th>\n",
       "      <td>NaN</td>\n",
       "      <td>NaN</td>\n",
       "      <td>grimezsz</td>\n",
       "    </tr>\n",
       "    <tr>\n",
       "      <th>3</th>\n",
       "      <td>NaN</td>\n",
       "      <td>NaN</td>\n",
       "      <td>NaN</td>\n",
       "    </tr>\n",
       "    <tr>\n",
       "      <th>4</th>\n",
       "      <td>NaN</td>\n",
       "      <td>NaN</td>\n",
       "      <td>kristennetten</td>\n",
       "    </tr>\n",
       "  </tbody>\n",
       "</table>\n",
       "</div>"
      ],
      "text/plain": [
       "          AOC Cristiano       elonmusk\n",
       "     mentions  mentions       mentions\n",
       "0  repescobar       NaN            NaN\n",
       "1    rokhanna       NaN        dumdin7\n",
       "2         NaN       NaN       grimezsz\n",
       "3         NaN       NaN            NaN\n",
       "4         NaN       NaN  kristennetten"
      ]
     },
     "execution_count": 37,
     "metadata": {},
     "output_type": "execute_result"
    }
   ],
   "source": [
    "def extract_mentions(full_texts):\n",
    "    full_texts = full_texts.str.lower()\n",
    "    mentions = full_texts.str.extract(mentions_re)\n",
    "    mentions = mentions.rename({0 : 'mentions'}, axis = 1).reset_index()\n",
    "    return mentions[[\"mentions\"]]\n",
    "\n",
    "# uncomment this line to help you debug\n",
    "display(extract_mentions(tweets[\"AOC\"][\"full_text\"]).head())\n",
    "\n",
    "# do not modify the below code\n",
    "mentions = {handle: extract_mentions(df[\"full_text\"]) for handle, df in tweets.items()}\n",
    "horiz_concat_df(mentions).head()"
   ]
  },
  {
   "cell_type": "code",
   "execution_count": 38,
   "metadata": {
    "deletable": false,
    "editable": false
   },
   "outputs": [
    {
     "data": {
      "text/html": [
       "<p><strong><pre style='display: inline;'>q4e</pre></strong> passed!</p>"
      ],
      "text/plain": [
       "q4e results: All test cases passed!"
      ]
     },
     "execution_count": 38,
     "metadata": {},
     "output_type": "execute_result"
    }
   ],
   "source": [
    "grader.check(\"q4e\")"
   ]
  },
  {
   "cell_type": "markdown",
   "metadata": {
    "nbgrader": {
     "grade": false,
     "grade_id": "q6d-header",
     "locked": true,
     "schema_version": 2,
     "solution": false
    }
   },
   "source": [
    "<br/>\n",
    "\n",
    "### Tidying Up the Data\n",
    "\n",
    "Now, let's convert the tweets into what's called a [*tidy format*](https://cran.r-project.org/web/packages/tidyr/vignettes/tidy-data.html) to make the sentiments easier to calculate. The `to_tidy_format` function implemented for you uses the `clean_text` column of each tweets dataframe to create a tidy table, which is:\n",
    "\n",
    "* single-indexed by the IDs of the tweets, for every word in the tweet.\n",
    "* has one column named `word`, which contains the individual words of each tweet.\n",
    "\n",
    "Run the following cell to convert the table into the tidy format. Take a look at the first 5 rows from the \"tidied\" tweets dataframe for AOC and see if you can find out how the structure has changed.\n",
    "\n",
    "**Note**: Although there is no work needed on your part, we have referenced a few more advanced pandas methods you might have not seen before -- you should definitely look them up in the documentation when you have a chance, as they are quite powerful in restructuring a dataframe into a useful intermediate state!"
   ]
  },
  {
   "cell_type": "code",
   "execution_count": 39,
   "metadata": {
    "nbgrader": {
     "grade": false,
     "grade_id": "q6d-answer",
     "locked": false,
     "schema_version": 2,
     "solution": true
    },
    "tags": [
     "student"
    ]
   },
   "outputs": [
    {
     "data": {
      "text/html": [
       "<div>\n",
       "<style scoped>\n",
       "    .dataframe tbody tr th:only-of-type {\n",
       "        vertical-align: middle;\n",
       "    }\n",
       "\n",
       "    .dataframe tbody tr th {\n",
       "        vertical-align: top;\n",
       "    }\n",
       "\n",
       "    .dataframe thead th {\n",
       "        text-align: right;\n",
       "    }\n",
       "</style>\n",
       "<table border=\"1\" class=\"dataframe\">\n",
       "  <thead>\n",
       "    <tr style=\"text-align: right;\">\n",
       "      <th></th>\n",
       "      <th>word</th>\n",
       "    </tr>\n",
       "    <tr>\n",
       "      <th>id</th>\n",
       "      <th></th>\n",
       "    </tr>\n",
       "  </thead>\n",
       "  <tbody>\n",
       "    <tr>\n",
       "      <th>1358149122264563712</th>\n",
       "      <td>rt</td>\n",
       "    </tr>\n",
       "    <tr>\n",
       "      <th>1358149122264563712</th>\n",
       "      <td>repescobar</td>\n",
       "    </tr>\n",
       "    <tr>\n",
       "      <th>1358149122264563712</th>\n",
       "      <td>our</td>\n",
       "    </tr>\n",
       "    <tr>\n",
       "      <th>1358149122264563712</th>\n",
       "      <td>country</td>\n",
       "    </tr>\n",
       "    <tr>\n",
       "      <th>1358149122264563712</th>\n",
       "      <td>has</td>\n",
       "    </tr>\n",
       "  </tbody>\n",
       "</table>\n",
       "</div>"
      ],
      "text/plain": [
       "                           word\n",
       "id                             \n",
       "1358149122264563712          rt\n",
       "1358149122264563712  repescobar\n",
       "1358149122264563712         our\n",
       "1358149122264563712     country\n",
       "1358149122264563712         has"
      ]
     },
     "execution_count": 39,
     "metadata": {},
     "output_type": "execute_result"
    }
   ],
   "source": [
    "# just run this cell\n",
    "def to_tidy_format(df):\n",
    "    tidy = (\n",
    "        df[\"clean_text\"]\n",
    "        .str.split()\n",
    "        .explode()\n",
    "        .to_frame()\n",
    "        .rename(columns={\"clean_text\": \"word\"})\n",
    "    )\n",
    "    return tidy\n",
    "\n",
    "tidy_tweets = {handle: to_tidy_format(df) for handle, df in tweets.items()}\n",
    "tidy_tweets[\"AOC\"].head()"
   ]
  },
  {
   "cell_type": "markdown",
   "metadata": {
    "nbgrader": {
     "grade": false,
     "grade_id": "q6e-header",
     "locked": true,
     "schema_version": 2,
     "solution": false
    }
   },
   "source": [
    "### Adding in the Polarity Score\n",
    "\n",
    "Now that we have this table in the tidy format, it becomes much easier to find the sentiment of each tweet: we can join the table with the lexicon table. \n",
    "\n",
    "The following `add_polarity` function adds a new `polarity` column to the `df` table. The `polarity` column contains the sum of the sentiment polarity of each word in the text of the tweet.\n",
    "\n",
    "**Note**: Again, though there is no work needed on your part, it is important for you to go through how we set up this method and actually understand what each method is doing. In particular, see how we deal with missing data."
   ]
  },
  {
   "cell_type": "code",
   "execution_count": 40,
   "metadata": {
    "nbgrader": {
     "grade": false,
     "grade_id": "q6e",
     "locked": false,
     "schema_version": 2,
     "solution": true
    },
    "tags": [
     "student"
    ]
   },
   "outputs": [
    {
     "data": {
      "text/html": [
       "<div>\n",
       "<style scoped>\n",
       "    .dataframe tbody tr th:only-of-type {\n",
       "        vertical-align: middle;\n",
       "    }\n",
       "\n",
       "    .dataframe tbody tr th {\n",
       "        vertical-align: top;\n",
       "    }\n",
       "\n",
       "    .dataframe thead th {\n",
       "        text-align: right;\n",
       "    }\n",
       "</style>\n",
       "<table border=\"1\" class=\"dataframe\">\n",
       "  <thead>\n",
       "    <tr style=\"text-align: right;\">\n",
       "      <th></th>\n",
       "      <th>clean_text</th>\n",
       "      <th>polarity</th>\n",
       "    </tr>\n",
       "    <tr>\n",
       "      <th>id</th>\n",
       "      <th></th>\n",
       "      <th></th>\n",
       "    </tr>\n",
       "  </thead>\n",
       "  <tbody>\n",
       "    <tr>\n",
       "      <th>1358149122264563712</th>\n",
       "      <td>rt  repescobar  our country has the moral obligation and responsibility to reunite every single family separated at the southern border   t</td>\n",
       "      <td>0.0</td>\n",
       "    </tr>\n",
       "    <tr>\n",
       "      <th>1358147616400408576</th>\n",
       "      <td>rt  rokhanna  what happens when we guarantee  15 hour     31  of black workers and 26  of latinx workers get raises    a majority of essent</td>\n",
       "      <td>1.0</td>\n",
       "    </tr>\n",
       "    <tr>\n",
       "      <th>1358145332316667909</th>\n",
       "      <td>source  https   t co 3o5jer6zpd</td>\n",
       "      <td>0.0</td>\n",
       "    </tr>\n",
       "    <tr>\n",
       "      <th>1358145218407759875</th>\n",
       "      <td>joe cunningham pledged to never take corporate pac money  and he never did  mace said she ll cash every check she gets  yet another way this is a downgrade  https   t co dytsqxkxgu</td>\n",
       "      <td>0.0</td>\n",
       "    </tr>\n",
       "    <tr>\n",
       "      <th>1358144207333036040</th>\n",
       "      <td>what s even more gross is that mace takes corporate pac money   she s already funded by corporations  now she s choosing to swindle working people on top of it   peak scam artistry  caps for cash   https   t co ccvxgdf6id</td>\n",
       "      <td>-6.4</td>\n",
       "    </tr>\n",
       "  </tbody>\n",
       "</table>\n",
       "</div>"
      ],
      "text/plain": [
       "                                                                                                                                                                                                                                        clean_text  \\\n",
       "id                                                                                                                                                                                                                                                   \n",
       "1358149122264563712                                                                                   rt  repescobar  our country has the moral obligation and responsibility to reunite every single family separated at the southern border   t    \n",
       "1358147616400408576                                                                                   rt  rokhanna  what happens when we guarantee  15 hour     31  of black workers and 26  of latinx workers get raises    a majority of essent    \n",
       "1358145332316667909                                                                                                                                                                                               source  https   t co 3o5jer6zpd    \n",
       "1358145218407759875                                           joe cunningham pledged to never take corporate pac money  and he never did  mace said she ll cash every check she gets  yet another way this is a downgrade  https   t co dytsqxkxgu   \n",
       "1358144207333036040  what s even more gross is that mace takes corporate pac money   she s already funded by corporations  now she s choosing to swindle working people on top of it   peak scam artistry  caps for cash   https   t co ccvxgdf6id   \n",
       "\n",
       "                     polarity  \n",
       "id                             \n",
       "1358149122264563712       0.0  \n",
       "1358147616400408576       1.0  \n",
       "1358145332316667909       0.0  \n",
       "1358145218407759875       0.0  \n",
       "1358144207333036040      -6.4  "
      ]
     },
     "execution_count": 40,
     "metadata": {},
     "output_type": "execute_result"
    }
   ],
   "source": [
    "# just run this cell\n",
    "def add_polarity(df, tidy_df):\n",
    "    df[\"polarity\"] = (\n",
    "        tidy_df\n",
    "        .merge(sent, how='left', left_on='word', right_index=True)\n",
    "        .reset_index()\n",
    "        .loc[:, ['id', 'polarity']]\n",
    "        .fillna(0)\n",
    "        .groupby('id')\n",
    "        .sum()\n",
    "    )\n",
    "    return df\n",
    "\n",
    "tweets = {handle: add_polarity(df, tidy_df) for (handle, df), tidy_df in \\\n",
    "          zip(tweets.items(), tidy_tweets.values())}\n",
    "tweets[\"AOC\"][[\"clean_text\", \"polarity\"]].head()"
   ]
  },
  {
   "cell_type": "markdown",
   "metadata": {},
   "source": [
    "---\n",
    "### Question 4f\n",
    "Finally, with our polarity column in place, we can finally explore how the sentiment of each tweet relates to the user(s) mentioned in it. \n",
    "\n",
    "Complete the following function `mention_polarity` that takes in a mentions dataframe `mentions` and the original tweets dataframe `df` and returns a series where the mentioned users are the index and the corresponding mean sentiment scores of the tweets mentioning them are the values.\n",
    "\n",
    "**Hint**: You should consider joining tables together in this question.\n"
   ]
  },
  {
   "cell_type": "code",
   "execution_count": 41,
   "metadata": {},
   "outputs": [
    {
     "name": "stderr",
     "output_type": "stream",
     "text": [
      "/srv/conda/envs/notebook/lib/python3.9/site-packages/pandas/core/indexes/base.py:6982: FutureWarning: In a future version, the Index constructor will not infer numeric dtypes when passed object-dtype sequences (matching Series behavior)\n",
      "  return Index(sequences[0], name=names)\n"
     ]
    },
    {
     "data": {
      "text/plain": [
       "Series([], Name: polarity, dtype: float64)"
      ]
     },
     "execution_count": 41,
     "metadata": {},
     "output_type": "execute_result"
    }
   ],
   "source": [
    "def mention_polarity(df, mention_df):\n",
    "    join = df.join(mention_df, on = 'id', how = 'left').set_index('mentions')\n",
    "    grouped = join.groupby('mentions')['polarity'].mean()\n",
    "    return grouped\n",
    "\n",
    "aoc_mention_polarity = mention_polarity(tweets[\"AOC\"],mentions[\"AOC\"]).sort_values(ascending = False)\n",
    "aoc_mention_polarity"
   ]
  },
  {
   "cell_type": "code",
   "execution_count": 42,
   "metadata": {
    "deletable": false,
    "editable": false
   },
   "outputs": [
    {
     "data": {
      "text/html": [
       "<p><strong style='color: red;'><pre style='display: inline;'>q4f</pre> results:</strong></p><p><strong><pre style='display: inline;'>q4f - 1</pre> result:</strong></p><pre>    Trying:\n",
       "        set(aoc_mention_polarity.index) == set(mentions[\"AOC\"][\"mentions\"])\n",
       "    Expecting:\n",
       "        True\n",
       "    **********************************************************************\n",
       "    Line 1, in q4f 0\n",
       "    Failed example:\n",
       "        set(aoc_mention_polarity.index) == set(mentions[\"AOC\"][\"mentions\"])\n",
       "    Expected:\n",
       "        True\n",
       "    Got:\n",
       "        False\n",
       "</pre><p><strong><pre style='display: inline;'>q4f - 2</pre> result:</strong></p><pre>    Trying:\n",
       "        0 <= aoc_mention_polarity.mean() <= 1\n",
       "    Expecting:\n",
       "        True\n",
       "    **********************************************************************\n",
       "    Line 1, in q4f 1\n",
       "    Failed example:\n",
       "        0 <= aoc_mention_polarity.mean() <= 1\n",
       "    Expected:\n",
       "        True\n",
       "    Got:\n",
       "        False\n",
       "</pre>"
      ],
      "text/plain": [
       "q4f results:\n",
       "    q4f - 1 result:\n",
       "        Trying:\n",
       "            set(aoc_mention_polarity.index) == set(mentions[\"AOC\"][\"mentions\"])\n",
       "        Expecting:\n",
       "            True\n",
       "        **********************************************************************\n",
       "        Line 1, in q4f 0\n",
       "        Failed example:\n",
       "            set(aoc_mention_polarity.index) == set(mentions[\"AOC\"][\"mentions\"])\n",
       "        Expected:\n",
       "            True\n",
       "        Got:\n",
       "            False\n",
       "\n",
       "    q4f - 2 result:\n",
       "        Trying:\n",
       "            0 <= aoc_mention_polarity.mean() <= 1\n",
       "        Expecting:\n",
       "            True\n",
       "        **********************************************************************\n",
       "        Line 1, in q4f 1\n",
       "        Failed example:\n",
       "            0 <= aoc_mention_polarity.mean() <= 1\n",
       "        Expected:\n",
       "            True\n",
       "        Got:\n",
       "            False"
      ]
     },
     "execution_count": 42,
     "metadata": {},
     "output_type": "execute_result"
    }
   ],
   "source": [
    "grader.check(\"q4f\")"
   ]
  },
  {
   "cell_type": "markdown",
   "metadata": {},
   "source": [
    "<!-- BEGIN QUESTION -->\n",
    "\n",
    "---\n",
    "### Question 4g\n",
    "\n",
    "When grouping by mentions and aggregating the polarity of the tweets, what aggregation function should we use? What might be one drawback of using the mean?\n"
   ]
  },
  {
   "cell_type": "markdown",
   "metadata": {},
   "source": [
    "**One drawback of using mean is that it is more innaccurate with smaller sample sizes. Instead, I would try using another estimator of the average, the median.**"
   ]
  },
  {
   "cell_type": "markdown",
   "metadata": {
    "nbgrader": {
     "grade": false,
     "grade_id": "q4a",
     "locked": true,
     "schema_version": 2,
     "solution": false
    }
   },
   "source": [
    "<!-- END QUESTION -->\n",
    "\n",
    "<br/><br/><br/>\n",
    "<br/><br/><br/>\n",
    "<hr style=\"border: 5px solid #003262;\" />\n",
    "<hr style=\"border: 1px solid #fdb515;\" />\n",
    "\n",
    "\n",
    "## Question 5: You Do EDA!\n",
    "\n",
    "Congratulations! You have finished all of the preliminary analysis on AOC, Cristiano, and Elon Musk's recent tweets. \n",
    "\n",
    "As you might have recognized, there is still far more to explore within the data and build upon what we have uncovered so far. In this open-ended question, we want you to come up with a new perspective that can expand upon our analysis of the sentiment of each tweet. \n",
    "\n",
    "For this question, you will perform some text analysis on our `tweets` dataset. Your analysis should have two parts:\n",
    "\n",
    "1. a piece of code that manipulates `tweets` in some way and produces informative output (e.g. a dataframe, series, or plot)\n",
    "2. a short (4-5 sentence) description of the findings of your analysis: what were you looking for? What did you find? How did you go about answering your question?\n",
    "\n",
    "Your work should involve text analysis in some way, whether that's using regular expressions or some other form.\n",
    "\n",
    "To aid you in creating plots, we provide the plotting helper functions in the table below. These are same helpers we have used throughout this notebook, and all accept dictionaries with a similar structure to `tweets`. That being said, if you know how to make plots, please do so! Very soon in this class, you'll learn how to use the matplotlib and seaborn libraries that we use to write these the helpers.\n",
    "\n",
    "| Helper | Description |\n",
    "|--------|-------------|\n",
    "| `make_bar_plot` | Plot side-by-side bar plots of data like [`plt.bar`](https://matplotlib.org/3.1.1/api/_as_gen/matplotlib.pyplot.bar.html) |\n",
    "| `make_histogram` | Plot overlaid histograms of data like [`plt.hist`](https://matplotlib.org/api/_as_gen/matplotlib.pyplot.hist.html) |\n",
    "| `make_line_plot` | Plot overlaid line plots of data like [`plt.plot`](https://matplotlib.org/3.3.3/api/_as_gen/matplotlib.pyplot.plot.html) |\n",
    "| `make_scatter_plot` | Plot overlaid scatter plots of data like [`plt.scatter`](https://matplotlib.org/3.3.3/api/_as_gen/matplotlib.pyplot.scatter.html) |\n",
    "\n",
    "Each of the provided helpers is in `ds100_utils.py` and has a comprehensive docstring. You can read the docstring by calling `help` on the plotting function:"
   ]
  },
  {
   "cell_type": "code",
   "execution_count": null,
   "metadata": {},
   "outputs": [],
   "source": [
    "help(make_line_plot)"
   ]
  },
  {
   "cell_type": "markdown",
   "metadata": {},
   "source": [
    "To assist you in getting started, here are a few ideas for this you can analyze for this question:\n",
    "\n",
    "- dig deeper into when devices were used\n",
    "- how sentiment varies with time of tweet\n",
    "- expand on regexes from 4b to perform additional analysis (e.g. hashtags)\n",
    "- examine sentiment of tweets over time\n",
    "\n",
    "In general, try to combine the analyses from earlier questions or create new analysis based on the scaffolding we have provided.\n",
    "\n",
    "This question is worth 4 points and will be graded based on this rubric:\n",
    "\n",
    "| | 2 points | 1 point | 0 points |\n",
    "|-----|-----|-----|-----|\n",
    "| **Code** | Produces a mostly informative plot or pandas output that addresses the question posed in the student's description and uses at least one of the following pandas DataFrame/Series methods: `groupby`, `agg`, `merge`, `pivot_table`, `str`, `apply` | Attempts to produce a plot or manipulate data but the output is unrelated to the proposed question, or doesn't utilize at least one of the listed methods | No attempt at writing code |\n",
    "| **Description** | Describes the analysis question and procedure comprehensively and summarizes results correctly | Attempts to describe analysis and results but description of results is incorrect or analysis of results is disconnected from the student’s original question | No attempt at writing a description |"
   ]
  },
  {
   "cell_type": "markdown",
   "metadata": {},
   "source": [
    "<!-- BEGIN QUESTION -->\n",
    "\n",
    "---\n",
    "### Question 5a\n",
    "\n",
    "Use this space to put your EDA code.\n"
   ]
  },
  {
   "cell_type": "code",
   "execution_count": 100,
   "metadata": {
    "tags": []
   },
   "outputs": [
    {
     "data": {
      "image/png": "[encoded data removed]",
      "text/plain": [
       "<Figure size 1500x500 with 1 Axes>"
      ]
     },
     "metadata": {},
     "output_type": "display_data"
    }
   ],
   "source": [
    "# perform your text analysis here\n",
    "def num_polar(series, k = 5):\n",
    "    return series.value_counts().nlargest()\n",
    "\n",
    "num_polar(tweets[\"AOC\"]['polarity'])\n",
    "\n",
    "polar = pd.DataFrame(\n",
    "    [num_polar(tweets[name]['polarity']).rename(name)\n",
    "     for name in tweets]\n",
    ").fillna(0)\n",
    "# polar = polar.groupby('name').mean()\n",
    "polar\n",
    "\n",
    "make_bar_plot(polar.T, title=\"Distribution of Polarity of Tweets\",\n",
    "               xlabel=\"polarity score\", ylabel=\"count\")\n",
    "plt.xticks(rotation=15)\n",
    "plt.legend(title=\"User\");"
   ]
  },
  {
   "cell_type": "markdown",
   "metadata": {},
   "source": [
    "<!-- END QUESTION -->\n",
    "\n",
    "<!-- BEGIN QUESTION -->\n",
    "\n",
    "---\n",
    "### Question 5b\n",
    "\n",
    "Use this space to put your EDA description.\n"
   ]
  },
  {
   "cell_type": "markdown",
   "metadata": {},
   "source": [
    "**I decided to find the amount of tweets each of these 3 users made for each polarity score. As shown by the bar graph, each score has an amount of tweets made by the individual in that score. It seems Elon Musk has maybe made the most polarizing amount of tweets with AOC being last. This is a bit surprising because AOC is a political figure, so I assumed her tweets would carry more weight in this category.**"
   ]
  },
  {
   "cell_type": "markdown",
   "metadata": {},
   "source": [
    "<!-- END QUESTION -->\n",
    "\n"
   ]
  },
  {
   "cell_type": "code",
   "execution_count": 101,
   "metadata": {},
   "outputs": [],
   "source": [
    "# uncomment the next two cells and run them to make sure these two packages are installed, comment out before submission"
   ]
  },
  {
   "cell_type": "code",
   "execution_count": 102,
   "metadata": {},
   "outputs": [],
   "source": [
    "# pip install pdfkit "
   ]
  },
  {
   "cell_type": "code",
   "execution_count": 103,
   "metadata": {},
   "outputs": [],
   "source": [
    "# pip install PyPDF2"
   ]
  },
  {
   "cell_type": "markdown",
   "metadata": {},
   "source": [
    "## Congratulations! You have finished Homework 3!"
   ]
  },
  {
   "cell_type": "markdown",
   "metadata": {
    "deletable": false,
    "editable": false
   },
   "source": [
    "## Submission\n",
    "\n",
    "Make sure you have run all cells in your notebook in order before running the cell below, so that all images/graphs appear in the output. The cell below will generate a zip file for you to submit. **Please save before exporting!**"
   ]
  },
  {
   "cell_type": "code",
   "execution_count": 104,
   "metadata": {
    "deletable": false,
    "editable": false
   },
   "outputs": [
    {
     "ename": "KeyboardInterrupt",
     "evalue": "",
     "output_type": "error",
     "traceback": [
      "\u001b[0;31m---------------------------------------------------------------------------\u001b[0m",
      "\u001b[0;31mKeyboardInterrupt\u001b[0m                         Traceback (most recent call last)",
      "\u001b[0;32m/tmp/ipykernel_360/3547471874.py\u001b[0m in \u001b[0;36m<module>\u001b[0;34m\u001b[0m\n\u001b[1;32m      1\u001b[0m \u001b[0;31m# Save your notebook first, then run this cell to export your submission.\u001b[0m\u001b[0;34m\u001b[0m\u001b[0;34m\u001b[0m\u001b[0;34m\u001b[0m\u001b[0m\n\u001b[0;32m----> 2\u001b[0;31m \u001b[0mgrader\u001b[0m\u001b[0;34m.\u001b[0m\u001b[0mexport\u001b[0m\u001b[0;34m(\u001b[0m\u001b[0mrun_tests\u001b[0m\u001b[0;34m=\u001b[0m\u001b[0;32mTrue\u001b[0m\u001b[0;34m)\u001b[0m\u001b[0;34m\u001b[0m\u001b[0;34m\u001b[0m\u001b[0m\n\u001b[0m",
      "\u001b[0;32m/srv/conda/envs/notebook/lib/python3.9/site-packages/otter/check/utils.py\u001b[0m in \u001b[0;36mgrading_mode_disabled\u001b[0;34m(wrapped, self, args, kwargs)\u001b[0m\n\u001b[1;32m    149\u001b[0m     \u001b[0;32mif\u001b[0m \u001b[0mtype\u001b[0m\u001b[0;34m(\u001b[0m\u001b[0mself\u001b[0m\u001b[0;34m)\u001b[0m\u001b[0;34m.\u001b[0m\u001b[0m_grading_mode\u001b[0m\u001b[0;34m:\u001b[0m\u001b[0;34m\u001b[0m\u001b[0;34m\u001b[0m\u001b[0m\n\u001b[1;32m    150\u001b[0m         \u001b[0;32mreturn\u001b[0m\u001b[0;34m\u001b[0m\u001b[0;34m\u001b[0m\u001b[0m\n\u001b[0;32m--> 151\u001b[0;31m     \u001b[0;32mreturn\u001b[0m \u001b[0mwrapped\u001b[0m\u001b[0;34m(\u001b[0m\u001b[0;34m*\u001b[0m\u001b[0margs\u001b[0m\u001b[0;34m,\u001b[0m \u001b[0;34m**\u001b[0m\u001b[0mkwargs\u001b[0m\u001b[0;34m)\u001b[0m\u001b[0;34m\u001b[0m\u001b[0;34m\u001b[0m\u001b[0m\n\u001b[0m\u001b[1;32m    152\u001b[0m \u001b[0;34m\u001b[0m\u001b[0m\n\u001b[1;32m    153\u001b[0m \u001b[0;34m\u001b[0m\u001b[0m\n",
      "\u001b[0;32m/srv/conda/envs/notebook/lib/python3.9/site-packages/otter/check/utils.py\u001b[0m in \u001b[0;36mincompatible\u001b[0;34m(wrapped, self, args, kwargs)\u001b[0m\n\u001b[1;32m    136\u001b[0m             \u001b[0;32melse\u001b[0m\u001b[0;34m:\u001b[0m\u001b[0;34m\u001b[0m\u001b[0;34m\u001b[0m\u001b[0m\n\u001b[1;32m    137\u001b[0m                 \u001b[0;32mreturn\u001b[0m\u001b[0;34m\u001b[0m\u001b[0;34m\u001b[0m\u001b[0m\n\u001b[0;32m--> 138\u001b[0;31m         \u001b[0;32mreturn\u001b[0m \u001b[0mwrapped\u001b[0m\u001b[0;34m(\u001b[0m\u001b[0;34m*\u001b[0m\u001b[0margs\u001b[0m\u001b[0;34m,\u001b[0m \u001b[0;34m**\u001b[0m\u001b[0mkwargs\u001b[0m\u001b[0;34m)\u001b[0m\u001b[0;34m\u001b[0m\u001b[0;34m\u001b[0m\u001b[0m\n\u001b[0m\u001b[1;32m    139\u001b[0m \u001b[0;34m\u001b[0m\u001b[0m\n\u001b[1;32m    140\u001b[0m     \u001b[0;32mreturn\u001b[0m \u001b[0mincompatible\u001b[0m\u001b[0;34m\u001b[0m\u001b[0;34m\u001b[0m\u001b[0m\n",
      "\u001b[0;32m/srv/conda/envs/notebook/lib/python3.9/site-packages/otter/check/utils.py\u001b[0m in \u001b[0;36mevent_logger\u001b[0;34m(wrapped, self, args, kwargs)\u001b[0m\n\u001b[1;32m    180\u001b[0m \u001b[0;34m\u001b[0m\u001b[0m\n\u001b[1;32m    181\u001b[0m             \u001b[0;32melse\u001b[0m\u001b[0;34m:\u001b[0m\u001b[0;34m\u001b[0m\u001b[0;34m\u001b[0m\u001b[0m\n\u001b[0;32m--> 182\u001b[0;31m                 \u001b[0mresults\u001b[0m \u001b[0;34m=\u001b[0m \u001b[0mwrapped\u001b[0m\u001b[0;34m(\u001b[0m\u001b[0;34m*\u001b[0m\u001b[0margs\u001b[0m\u001b[0;34m,\u001b[0m \u001b[0;34m**\u001b[0m\u001b[0mkwargs\u001b[0m\u001b[0;34m)\u001b[0m\u001b[0;34m\u001b[0m\u001b[0;34m\u001b[0m\u001b[0m\n\u001b[0m\u001b[1;32m    183\u001b[0m                 \u001b[0mshelve_env\u001b[0m \u001b[0;34m=\u001b[0m \u001b[0;34m{\u001b[0m\u001b[0;34m}\u001b[0m\u001b[0;34m\u001b[0m\u001b[0;34m\u001b[0m\u001b[0m\n\u001b[1;32m    184\u001b[0m                 \u001b[0mquestion\u001b[0m \u001b[0;34m=\u001b[0m \u001b[0;32mNone\u001b[0m\u001b[0;34m\u001b[0m\u001b[0;34m\u001b[0m\u001b[0m\n",
      "\u001b[0;32m/srv/conda/envs/notebook/lib/python3.9/site-packages/otter/check/notebook.py\u001b[0m in \u001b[0;36mexport\u001b[0;34m(self, nb_path, export_path, pdf, filtering, pagebreaks, files, display_link, force_save, run_tests)\u001b[0m\n\u001b[1;32m    378\u001b[0m \u001b[0;34m\u001b[0m\u001b[0m\n\u001b[1;32m    379\u001b[0m         \u001b[0;32mif\u001b[0m \u001b[0mpdf\u001b[0m\u001b[0;34m:\u001b[0m\u001b[0;34m\u001b[0m\u001b[0;34m\u001b[0m\u001b[0m\n\u001b[0;32m--> 380\u001b[0;31m             \u001b[0mpdf_path\u001b[0m \u001b[0;34m=\u001b[0m \u001b[0mexport_notebook\u001b[0m\u001b[0;34m(\u001b[0m\u001b[0mnb_path\u001b[0m\u001b[0;34m,\u001b[0m \u001b[0mfiltering\u001b[0m\u001b[0;34m=\u001b[0m\u001b[0mfiltering\u001b[0m\u001b[0;34m,\u001b[0m \u001b[0mpagebreaks\u001b[0m\u001b[0;34m=\u001b[0m\u001b[0mpagebreaks\u001b[0m\u001b[0;34m)\u001b[0m\u001b[0;34m\u001b[0m\u001b[0;34m\u001b[0m\u001b[0m\n\u001b[0m\u001b[1;32m    381\u001b[0m             \u001b[0;32mif\u001b[0m \u001b[0mos\u001b[0m\u001b[0;34m.\u001b[0m\u001b[0mpath\u001b[0m\u001b[0;34m.\u001b[0m\u001b[0misfile\u001b[0m\u001b[0;34m(\u001b[0m\u001b[0mpdf_path\u001b[0m\u001b[0;34m)\u001b[0m\u001b[0;34m:\u001b[0m\u001b[0;34m\u001b[0m\u001b[0;34m\u001b[0m\u001b[0m\n\u001b[1;32m    382\u001b[0m                 \u001b[0mzf\u001b[0m\u001b[0;34m.\u001b[0m\u001b[0mwrite\u001b[0m\u001b[0;34m(\u001b[0m\u001b[0mpdf_path\u001b[0m\u001b[0;34m)\u001b[0m\u001b[0;34m\u001b[0m\u001b[0;34m\u001b[0m\u001b[0m\n",
      "\u001b[0;32m/srv/conda/envs/notebook/lib/python3.9/site-packages/otter/export/__init__.py\u001b[0m in \u001b[0;36mexport_notebook\u001b[0;34m(nb_path, dest, exporter_type, **kwargs)\u001b[0m\n\u001b[1;32m     40\u001b[0m \u001b[0;34m\u001b[0m\u001b[0m\n\u001b[1;32m     41\u001b[0m     \u001b[0mExporter\u001b[0m \u001b[0;34m=\u001b[0m \u001b[0mget_exporter\u001b[0m\u001b[0;34m(\u001b[0m\u001b[0mexporter_type\u001b[0m\u001b[0;34m=\u001b[0m\u001b[0mexporter_type\u001b[0m\u001b[0;34m)\u001b[0m\u001b[0;34m\u001b[0m\u001b[0;34m\u001b[0m\u001b[0m\n\u001b[0;32m---> 42\u001b[0;31m     \u001b[0mExporter\u001b[0m\u001b[0;34m.\u001b[0m\u001b[0mconvert_notebook\u001b[0m\u001b[0;34m(\u001b[0m\u001b[0mnb_path\u001b[0m\u001b[0;34m,\u001b[0m \u001b[0mpdf_name\u001b[0m\u001b[0;34m,\u001b[0m \u001b[0;34m**\u001b[0m\u001b[0mkwargs\u001b[0m\u001b[0;34m)\u001b[0m\u001b[0;34m\u001b[0m\u001b[0;34m\u001b[0m\u001b[0m\n\u001b[0m\u001b[1;32m     43\u001b[0m \u001b[0;34m\u001b[0m\u001b[0m\n\u001b[1;32m     44\u001b[0m     \u001b[0;32mreturn\u001b[0m \u001b[0mpdf_name\u001b[0m\u001b[0;34m\u001b[0m\u001b[0;34m\u001b[0m\u001b[0m\n",
      "\u001b[0;32m/srv/conda/envs/notebook/lib/python3.9/site-packages/otter/export/exporters/via_latex.py\u001b[0m in \u001b[0;36mconvert_notebook\u001b[0;34m(cls, nb_path, dest, xecjk, no_xecjk, **kwargs)\u001b[0m\n\u001b[1;32m     66\u001b[0m                     \u001b[0moutput_file\u001b[0m\u001b[0;34m.\u001b[0m\u001b[0mwrite\u001b[0m\u001b[0;34m(\u001b[0m\u001b[0mlatex_output\u001b[0m\u001b[0;34m[\u001b[0m\u001b[0;36m0\u001b[0m\u001b[0;34m]\u001b[0m\u001b[0;34m)\u001b[0m\u001b[0;34m\u001b[0m\u001b[0;34m\u001b[0m\u001b[0m\n\u001b[1;32m     67\u001b[0m \u001b[0;34m\u001b[0m\u001b[0m\n\u001b[0;32m---> 68\u001b[0;31m             \u001b[0mpdf_output\u001b[0m \u001b[0;34m=\u001b[0m \u001b[0mnbconvert\u001b[0m\u001b[0;34m.\u001b[0m\u001b[0mexport\u001b[0m\u001b[0;34m(\u001b[0m\u001b[0mpdf_exporter\u001b[0m\u001b[0;34m,\u001b[0m \u001b[0mnb\u001b[0m\u001b[0;34m)\u001b[0m\u001b[0;34m\u001b[0m\u001b[0;34m\u001b[0m\u001b[0m\n\u001b[0m\u001b[1;32m     69\u001b[0m             \u001b[0;32mwith\u001b[0m \u001b[0mopen\u001b[0m\u001b[0;34m(\u001b[0m\u001b[0mdest\u001b[0m\u001b[0;34m,\u001b[0m \u001b[0;34m\"wb\"\u001b[0m\u001b[0;34m)\u001b[0m \u001b[0;32mas\u001b[0m \u001b[0moutput_file\u001b[0m\u001b[0;34m:\u001b[0m\u001b[0;34m\u001b[0m\u001b[0;34m\u001b[0m\u001b[0m\n\u001b[1;32m     70\u001b[0m                 \u001b[0moutput_file\u001b[0m\u001b[0;34m.\u001b[0m\u001b[0mwrite\u001b[0m\u001b[0;34m(\u001b[0m\u001b[0mpdf_output\u001b[0m\u001b[0;34m[\u001b[0m\u001b[0;36m0\u001b[0m\u001b[0;34m]\u001b[0m\u001b[0;34m)\u001b[0m\u001b[0;34m\u001b[0m\u001b[0;34m\u001b[0m\u001b[0m\n",
      "\u001b[0;32m/srv/conda/envs/notebook/lib/python3.9/site-packages/nbconvert/exporters/base.py\u001b[0m in \u001b[0;36mexport\u001b[0;34m(exporter, nb, **kw)\u001b[0m\n\u001b[1;32m     80\u001b[0m     \u001b[0;31m# Try to convert the notebook using the appropriate conversion function.\u001b[0m\u001b[0;34m\u001b[0m\u001b[0;34m\u001b[0m\u001b[0;34m\u001b[0m\u001b[0m\n\u001b[1;32m     81\u001b[0m     \u001b[0;32mif\u001b[0m \u001b[0misinstance\u001b[0m\u001b[0;34m(\u001b[0m\u001b[0mnb\u001b[0m\u001b[0;34m,\u001b[0m \u001b[0mNotebookNode\u001b[0m\u001b[0;34m)\u001b[0m\u001b[0;34m:\u001b[0m\u001b[0;34m\u001b[0m\u001b[0;34m\u001b[0m\u001b[0m\n\u001b[0;32m---> 82\u001b[0;31m         \u001b[0moutput\u001b[0m\u001b[0;34m,\u001b[0m \u001b[0mresources\u001b[0m \u001b[0;34m=\u001b[0m \u001b[0mexporter_instance\u001b[0m\u001b[0;34m.\u001b[0m\u001b[0mfrom_notebook_node\u001b[0m\u001b[0;34m(\u001b[0m\u001b[0mnb\u001b[0m\u001b[0;34m,\u001b[0m \u001b[0mresources\u001b[0m\u001b[0;34m)\u001b[0m\u001b[0;34m\u001b[0m\u001b[0;34m\u001b[0m\u001b[0m\n\u001b[0m\u001b[1;32m     83\u001b[0m     \u001b[0;32melif\u001b[0m \u001b[0misinstance\u001b[0m\u001b[0;34m(\u001b[0m\u001b[0mnb\u001b[0m\u001b[0;34m,\u001b[0m \u001b[0;34m(\u001b[0m\u001b[0mstr\u001b[0m\u001b[0;34m,\u001b[0m\u001b[0;34m)\u001b[0m\u001b[0;34m)\u001b[0m\u001b[0;34m:\u001b[0m\u001b[0;34m\u001b[0m\u001b[0;34m\u001b[0m\u001b[0m\n\u001b[1;32m     84\u001b[0m         \u001b[0moutput\u001b[0m\u001b[0;34m,\u001b[0m \u001b[0mresources\u001b[0m \u001b[0;34m=\u001b[0m \u001b[0mexporter_instance\u001b[0m\u001b[0;34m.\u001b[0m\u001b[0mfrom_filename\u001b[0m\u001b[0;34m(\u001b[0m\u001b[0mnb\u001b[0m\u001b[0;34m,\u001b[0m \u001b[0mresources\u001b[0m\u001b[0;34m)\u001b[0m\u001b[0;34m\u001b[0m\u001b[0;34m\u001b[0m\u001b[0m\n",
      "\u001b[0;32m/srv/conda/envs/notebook/lib/python3.9/site-packages/nbconvert/exporters/pdf.py\u001b[0m in \u001b[0;36mfrom_notebook_node\u001b[0;34m(self, nb, resources, **kw)\u001b[0m\n\u001b[1;32m    179\u001b[0m \u001b[0;34m\u001b[0m\u001b[0m\n\u001b[1;32m    180\u001b[0m     \u001b[0;32mdef\u001b[0m \u001b[0mfrom_notebook_node\u001b[0m\u001b[0;34m(\u001b[0m\u001b[0mself\u001b[0m\u001b[0;34m,\u001b[0m \u001b[0mnb\u001b[0m\u001b[0;34m,\u001b[0m \u001b[0mresources\u001b[0m\u001b[0;34m=\u001b[0m\u001b[0;32mNone\u001b[0m\u001b[0;34m,\u001b[0m \u001b[0;34m**\u001b[0m\u001b[0mkw\u001b[0m\u001b[0;34m)\u001b[0m\u001b[0;34m:\u001b[0m\u001b[0;34m\u001b[0m\u001b[0;34m\u001b[0m\u001b[0m\n\u001b[0;32m--> 181\u001b[0;31m         \u001b[0mlatex\u001b[0m\u001b[0;34m,\u001b[0m \u001b[0mresources\u001b[0m \u001b[0;34m=\u001b[0m \u001b[0msuper\u001b[0m\u001b[0;34m(\u001b[0m\u001b[0;34m)\u001b[0m\u001b[0;34m.\u001b[0m\u001b[0mfrom_notebook_node\u001b[0m\u001b[0;34m(\u001b[0m\u001b[0mnb\u001b[0m\u001b[0;34m,\u001b[0m \u001b[0mresources\u001b[0m\u001b[0;34m=\u001b[0m\u001b[0mresources\u001b[0m\u001b[0;34m,\u001b[0m \u001b[0;34m**\u001b[0m\u001b[0mkw\u001b[0m\u001b[0;34m)\u001b[0m\u001b[0;34m\u001b[0m\u001b[0;34m\u001b[0m\u001b[0m\n\u001b[0m\u001b[1;32m    182\u001b[0m         \u001b[0;31m# set texinputs directory, so that local files will be found\u001b[0m\u001b[0;34m\u001b[0m\u001b[0;34m\u001b[0m\u001b[0;34m\u001b[0m\u001b[0m\n\u001b[1;32m    183\u001b[0m         \u001b[0;32mif\u001b[0m \u001b[0mresources\u001b[0m \u001b[0;32mand\u001b[0m \u001b[0mresources\u001b[0m\u001b[0;34m.\u001b[0m\u001b[0mget\u001b[0m\u001b[0;34m(\u001b[0m\u001b[0;34m\"metadata\"\u001b[0m\u001b[0;34m,\u001b[0m \u001b[0;34m{\u001b[0m\u001b[0;34m}\u001b[0m\u001b[0;34m)\u001b[0m\u001b[0;34m.\u001b[0m\u001b[0mget\u001b[0m\u001b[0;34m(\u001b[0m\u001b[0;34m\"path\"\u001b[0m\u001b[0;34m)\u001b[0m\u001b[0;34m:\u001b[0m\u001b[0;34m\u001b[0m\u001b[0;34m\u001b[0m\u001b[0m\n",
      "\u001b[0;32m/srv/conda/envs/notebook/lib/python3.9/site-packages/nbconvert/exporters/latex.py\u001b[0m in \u001b[0;36mfrom_notebook_node\u001b[0;34m(self, nb, resources, **kw)\u001b[0m\n\u001b[1;32m     72\u001b[0m         \u001b[0mself\u001b[0m\u001b[0;34m.\u001b[0m\u001b[0mregister_filter\u001b[0m\u001b[0;34m(\u001b[0m\u001b[0;34m\"highlight_code\"\u001b[0m\u001b[0;34m,\u001b[0m \u001b[0mhighlight_code\u001b[0m\u001b[0;34m)\u001b[0m\u001b[0;34m\u001b[0m\u001b[0;34m\u001b[0m\u001b[0m\n\u001b[1;32m     73\u001b[0m \u001b[0;34m\u001b[0m\u001b[0m\n\u001b[0;32m---> 74\u001b[0;31m         \u001b[0;32mreturn\u001b[0m \u001b[0msuper\u001b[0m\u001b[0;34m(\u001b[0m\u001b[0;34m)\u001b[0m\u001b[0;34m.\u001b[0m\u001b[0mfrom_notebook_node\u001b[0m\u001b[0;34m(\u001b[0m\u001b[0mnb\u001b[0m\u001b[0;34m,\u001b[0m \u001b[0mresources\u001b[0m\u001b[0;34m,\u001b[0m \u001b[0;34m**\u001b[0m\u001b[0mkw\u001b[0m\u001b[0;34m)\u001b[0m\u001b[0;34m\u001b[0m\u001b[0;34m\u001b[0m\u001b[0m\n\u001b[0m\u001b[1;32m     75\u001b[0m \u001b[0;34m\u001b[0m\u001b[0m\n\u001b[1;32m     76\u001b[0m     \u001b[0;32mdef\u001b[0m \u001b[0m_create_environment\u001b[0m\u001b[0;34m(\u001b[0m\u001b[0mself\u001b[0m\u001b[0;34m)\u001b[0m\u001b[0;34m:\u001b[0m\u001b[0;34m\u001b[0m\u001b[0;34m\u001b[0m\u001b[0m\n",
      "\u001b[0;32m/srv/conda/envs/notebook/lib/python3.9/site-packages/nbconvert/exporters/templateexporter.py\u001b[0m in \u001b[0;36mfrom_notebook_node\u001b[0;34m(self, nb, resources, **kw)\u001b[0m\n\u001b[1;32m    395\u001b[0m             \u001b[0mpreprocessors\u001b[0m \u001b[0;32mand\u001b[0m \u001b[0mfilters\u001b[0m\u001b[0;34m.\u001b[0m\u001b[0;34m\u001b[0m\u001b[0;34m\u001b[0m\u001b[0m\n\u001b[1;32m    396\u001b[0m         \"\"\"\n\u001b[0;32m--> 397\u001b[0;31m         \u001b[0mnb_copy\u001b[0m\u001b[0;34m,\u001b[0m \u001b[0mresources\u001b[0m \u001b[0;34m=\u001b[0m \u001b[0msuper\u001b[0m\u001b[0;34m(\u001b[0m\u001b[0;34m)\u001b[0m\u001b[0;34m.\u001b[0m\u001b[0mfrom_notebook_node\u001b[0m\u001b[0;34m(\u001b[0m\u001b[0mnb\u001b[0m\u001b[0;34m,\u001b[0m \u001b[0mresources\u001b[0m\u001b[0;34m,\u001b[0m \u001b[0;34m**\u001b[0m\u001b[0mkw\u001b[0m\u001b[0;34m)\u001b[0m\u001b[0;34m\u001b[0m\u001b[0;34m\u001b[0m\u001b[0m\n\u001b[0m\u001b[1;32m    398\u001b[0m         \u001b[0mresources\u001b[0m\u001b[0;34m.\u001b[0m\u001b[0msetdefault\u001b[0m\u001b[0;34m(\u001b[0m\u001b[0;34m\"raw_mimetypes\"\u001b[0m\u001b[0;34m,\u001b[0m \u001b[0mself\u001b[0m\u001b[0;34m.\u001b[0m\u001b[0mraw_mimetypes\u001b[0m\u001b[0;34m)\u001b[0m\u001b[0;34m\u001b[0m\u001b[0;34m\u001b[0m\u001b[0m\n\u001b[1;32m    399\u001b[0m         resources[\"global_content_filter\"] = {\n",
      "\u001b[0;32m/srv/conda/envs/notebook/lib/python3.9/site-packages/nbconvert/exporters/exporter.py\u001b[0m in \u001b[0;36mfrom_notebook_node\u001b[0;34m(self, nb, resources, **kw)\u001b[0m\n\u001b[1;32m    144\u001b[0m \u001b[0;34m\u001b[0m\u001b[0m\n\u001b[1;32m    145\u001b[0m         \u001b[0;31m# Preprocess\u001b[0m\u001b[0;34m\u001b[0m\u001b[0;34m\u001b[0m\u001b[0;34m\u001b[0m\u001b[0m\n\u001b[0;32m--> 146\u001b[0;31m         \u001b[0mnb_copy\u001b[0m\u001b[0;34m,\u001b[0m \u001b[0mresources\u001b[0m \u001b[0;34m=\u001b[0m \u001b[0mself\u001b[0m\u001b[0;34m.\u001b[0m\u001b[0m_preprocess\u001b[0m\u001b[0;34m(\u001b[0m\u001b[0mnb_copy\u001b[0m\u001b[0;34m,\u001b[0m \u001b[0mresources\u001b[0m\u001b[0;34m)\u001b[0m\u001b[0;34m\u001b[0m\u001b[0;34m\u001b[0m\u001b[0m\n\u001b[0m\u001b[1;32m    147\u001b[0m         \u001b[0mnotebook_name\u001b[0m \u001b[0;34m=\u001b[0m \u001b[0;34m\"\"\u001b[0m\u001b[0;34m\u001b[0m\u001b[0;34m\u001b[0m\u001b[0m\n\u001b[1;32m    148\u001b[0m         \u001b[0;32mif\u001b[0m \u001b[0mresources\u001b[0m \u001b[0;32mis\u001b[0m \u001b[0;32mnot\u001b[0m \u001b[0;32mNone\u001b[0m\u001b[0;34m:\u001b[0m\u001b[0;34m\u001b[0m\u001b[0;34m\u001b[0m\u001b[0m\n",
      "\u001b[0;32m/srv/conda/envs/notebook/lib/python3.9/site-packages/nbconvert/exporters/exporter.py\u001b[0m in \u001b[0;36m_preprocess\u001b[0;34m(self, nb, resources)\u001b[0m\n\u001b[1;32m    335\u001b[0m             \u001b[0mnbc\u001b[0m\u001b[0;34m,\u001b[0m \u001b[0mresc\u001b[0m \u001b[0;34m=\u001b[0m \u001b[0mpreprocessor\u001b[0m\u001b[0;34m(\u001b[0m\u001b[0mnbc\u001b[0m\u001b[0;34m,\u001b[0m \u001b[0mresc\u001b[0m\u001b[0;34m)\u001b[0m\u001b[0;34m\u001b[0m\u001b[0;34m\u001b[0m\u001b[0m\n\u001b[1;32m    336\u001b[0m             \u001b[0;32mif\u001b[0m \u001b[0;32mnot\u001b[0m \u001b[0mself\u001b[0m\u001b[0;34m.\u001b[0m\u001b[0moptimistic_validation\u001b[0m\u001b[0;34m:\u001b[0m\u001b[0;34m\u001b[0m\u001b[0;34m\u001b[0m\u001b[0m\n\u001b[0;32m--> 337\u001b[0;31m                 \u001b[0mself\u001b[0m\u001b[0;34m.\u001b[0m\u001b[0m_validate_preprocessor\u001b[0m\u001b[0;34m(\u001b[0m\u001b[0mnbc\u001b[0m\u001b[0;34m,\u001b[0m \u001b[0mpreprocessor\u001b[0m\u001b[0;34m)\u001b[0m\u001b[0;34m\u001b[0m\u001b[0;34m\u001b[0m\u001b[0m\n\u001b[0m\u001b[1;32m    338\u001b[0m \u001b[0;34m\u001b[0m\u001b[0m\n\u001b[1;32m    339\u001b[0m         \u001b[0;32mif\u001b[0m \u001b[0mself\u001b[0m\u001b[0;34m.\u001b[0m\u001b[0moptimistic_validation\u001b[0m\u001b[0;34m:\u001b[0m\u001b[0;34m\u001b[0m\u001b[0;34m\u001b[0m\u001b[0m\n",
      "\u001b[0;32m/srv/conda/envs/notebook/lib/python3.9/site-packages/nbconvert/exporters/exporter.py\u001b[0m in \u001b[0;36m_validate_preprocessor\u001b[0;34m(self, nbc, preprocessor)\u001b[0m\n\u001b[1;32m    305\u001b[0m     \u001b[0;32mdef\u001b[0m \u001b[0m_validate_preprocessor\u001b[0m\u001b[0;34m(\u001b[0m\u001b[0mself\u001b[0m\u001b[0;34m,\u001b[0m \u001b[0mnbc\u001b[0m\u001b[0;34m,\u001b[0m \u001b[0mpreprocessor\u001b[0m\u001b[0;34m)\u001b[0m\u001b[0;34m:\u001b[0m\u001b[0;34m\u001b[0m\u001b[0;34m\u001b[0m\u001b[0m\n\u001b[1;32m    306\u001b[0m         \u001b[0;32mtry\u001b[0m\u001b[0;34m:\u001b[0m\u001b[0;34m\u001b[0m\u001b[0;34m\u001b[0m\u001b[0m\n\u001b[0;32m--> 307\u001b[0;31m             \u001b[0mnbformat\u001b[0m\u001b[0;34m.\u001b[0m\u001b[0mvalidate\u001b[0m\u001b[0;34m(\u001b[0m\u001b[0mnbc\u001b[0m\u001b[0;34m,\u001b[0m \u001b[0mrelax_add_props\u001b[0m\u001b[0;34m=\u001b[0m\u001b[0;32mTrue\u001b[0m\u001b[0;34m)\u001b[0m\u001b[0;34m\u001b[0m\u001b[0;34m\u001b[0m\u001b[0m\n\u001b[0m\u001b[1;32m    308\u001b[0m         \u001b[0;32mexcept\u001b[0m \u001b[0mnbformat\u001b[0m\u001b[0;34m.\u001b[0m\u001b[0mValidationError\u001b[0m\u001b[0;34m:\u001b[0m\u001b[0;34m\u001b[0m\u001b[0;34m\u001b[0m\u001b[0m\n\u001b[1;32m    309\u001b[0m             \u001b[0mself\u001b[0m\u001b[0;34m.\u001b[0m\u001b[0mlog\u001b[0m\u001b[0;34m.\u001b[0m\u001b[0merror\u001b[0m\u001b[0;34m(\u001b[0m\u001b[0;34m\"Notebook is invalid after preprocessor %s\"\u001b[0m\u001b[0;34m,\u001b[0m \u001b[0mpreprocessor\u001b[0m\u001b[0;34m)\u001b[0m\u001b[0;34m\u001b[0m\u001b[0;34m\u001b[0m\u001b[0m\n",
      "\u001b[0;32m/srv/conda/envs/notebook/lib/python3.9/site-packages/nbformat/validator.py\u001b[0m in \u001b[0;36mvalidate\u001b[0;34m(nbdict, ref, version, version_minor, relax_add_props, nbjson, repair_duplicate_cell_ids, strip_invalid_metadata)\u001b[0m\n\u001b[1;32m    292\u001b[0m                 \u001b[0mcell\u001b[0m\u001b[0;34m[\u001b[0m\u001b[0;34m\"id\"\u001b[0m\u001b[0;34m]\u001b[0m \u001b[0;34m=\u001b[0m \u001b[0mgenerate_corpus_id\u001b[0m\u001b[0;34m(\u001b[0m\u001b[0;34m)\u001b[0m\u001b[0;34m\u001b[0m\u001b[0;34m\u001b[0m\u001b[0m\n\u001b[1;32m    293\u001b[0m \u001b[0;34m\u001b[0m\u001b[0m\n\u001b[0;32m--> 294\u001b[0;31m     for error in iter_validate(\n\u001b[0m\u001b[1;32m    295\u001b[0m         \u001b[0mnbdict\u001b[0m\u001b[0;34m,\u001b[0m\u001b[0;34m\u001b[0m\u001b[0;34m\u001b[0m\u001b[0m\n\u001b[1;32m    296\u001b[0m         \u001b[0mref\u001b[0m\u001b[0;34m=\u001b[0m\u001b[0mref\u001b[0m\u001b[0;34m,\u001b[0m\u001b[0;34m\u001b[0m\u001b[0;34m\u001b[0m\u001b[0m\n",
      "\u001b[0;32m/srv/conda/envs/notebook/lib/python3.9/site-packages/nbformat/validator.py\u001b[0m in \u001b[0;36miter_validate\u001b[0;34m(nbdict, ref, version, version_minor, relax_add_props, nbjson, strip_invalid_metadata)\u001b[0m\n\u001b[1;32m    346\u001b[0m         \u001b[0mversion\u001b[0m\u001b[0;34m,\u001b[0m \u001b[0mversion_minor\u001b[0m \u001b[0;34m=\u001b[0m \u001b[0mget_version\u001b[0m\u001b[0;34m(\u001b[0m\u001b[0mnbdict\u001b[0m\u001b[0;34m)\u001b[0m\u001b[0;34m\u001b[0m\u001b[0;34m\u001b[0m\u001b[0m\n\u001b[1;32m    347\u001b[0m \u001b[0;34m\u001b[0m\u001b[0m\n\u001b[0;32m--> 348\u001b[0;31m     \u001b[0mvalidator\u001b[0m \u001b[0;34m=\u001b[0m \u001b[0mget_validator\u001b[0m\u001b[0;34m(\u001b[0m\u001b[0mversion\u001b[0m\u001b[0;34m,\u001b[0m \u001b[0mversion_minor\u001b[0m\u001b[0;34m,\u001b[0m \u001b[0mrelax_add_props\u001b[0m\u001b[0;34m=\u001b[0m\u001b[0mrelax_add_props\u001b[0m\u001b[0;34m)\u001b[0m\u001b[0;34m\u001b[0m\u001b[0;34m\u001b[0m\u001b[0m\n\u001b[0m\u001b[1;32m    349\u001b[0m \u001b[0;34m\u001b[0m\u001b[0m\n\u001b[1;32m    350\u001b[0m     \u001b[0;32mif\u001b[0m \u001b[0mvalidator\u001b[0m \u001b[0;32mis\u001b[0m \u001b[0;32mNone\u001b[0m\u001b[0;34m:\u001b[0m\u001b[0;34m\u001b[0m\u001b[0;34m\u001b[0m\u001b[0m\n",
      "\u001b[0;32m/srv/conda/envs/notebook/lib/python3.9/site-packages/nbformat/validator.py\u001b[0m in \u001b[0;36mget_validator\u001b[0;34m(version, version_minor, relax_add_props, name)\u001b[0m\n\u001b[1;32m     80\u001b[0m         \u001b[0;31m# representations while validating for all other kinds of errors\u001b[0m\u001b[0;34m\u001b[0m\u001b[0;34m\u001b[0m\u001b[0;34m\u001b[0m\u001b[0m\n\u001b[1;32m     81\u001b[0m         \u001b[0mschema_json\u001b[0m \u001b[0;34m=\u001b[0m \u001b[0m_relax_additional_properties\u001b[0m\u001b[0;34m(\u001b[0m\u001b[0mschema_json\u001b[0m\u001b[0;34m)\u001b[0m\u001b[0;34m\u001b[0m\u001b[0;34m\u001b[0m\u001b[0m\n\u001b[0;32m---> 82\u001b[0;31m         \u001b[0mvalidators\u001b[0m\u001b[0;34m[\u001b[0m\u001b[0mversion_tuple\u001b[0m\u001b[0;34m]\u001b[0m \u001b[0;34m=\u001b[0m \u001b[0mcurrent_validator\u001b[0m\u001b[0;34m(\u001b[0m\u001b[0mschema_json\u001b[0m\u001b[0;34m)\u001b[0m\u001b[0;34m\u001b[0m\u001b[0;34m\u001b[0m\u001b[0m\n\u001b[0m\u001b[1;32m     83\u001b[0m \u001b[0;34m\u001b[0m\u001b[0m\n\u001b[1;32m     84\u001b[0m     \u001b[0;32mreturn\u001b[0m \u001b[0mvalidators\u001b[0m\u001b[0;34m[\u001b[0m\u001b[0mversion_tuple\u001b[0m\u001b[0;34m]\u001b[0m\u001b[0;34m\u001b[0m\u001b[0;34m\u001b[0m\u001b[0m\n",
      "\u001b[0;32m/srv/conda/envs/notebook/lib/python3.9/site-packages/nbformat/json_compat.py\u001b[0m in \u001b[0;36m__init__\u001b[0;34m(self, schema)\u001b[0m\n\u001b[1;32m     42\u001b[0m     \u001b[0;32mdef\u001b[0m \u001b[0m__init__\u001b[0m\u001b[0;34m(\u001b[0m\u001b[0mself\u001b[0m\u001b[0;34m,\u001b[0m \u001b[0mschema\u001b[0m\u001b[0;34m)\u001b[0m\u001b[0;34m:\u001b[0m\u001b[0;34m\u001b[0m\u001b[0;34m\u001b[0m\u001b[0m\n\u001b[1;32m     43\u001b[0m         \u001b[0msuper\u001b[0m\u001b[0;34m(\u001b[0m\u001b[0;34m)\u001b[0m\u001b[0;34m.\u001b[0m\u001b[0m__init__\u001b[0m\u001b[0;34m(\u001b[0m\u001b[0mschema\u001b[0m\u001b[0;34m)\u001b[0m\u001b[0;34m\u001b[0m\u001b[0;34m\u001b[0m\u001b[0m\n\u001b[0;32m---> 44\u001b[0;31m         \u001b[0mself\u001b[0m\u001b[0;34m.\u001b[0m\u001b[0m_validator\u001b[0m \u001b[0;34m=\u001b[0m \u001b[0mfastjsonschema\u001b[0m\u001b[0;34m.\u001b[0m\u001b[0mcompile\u001b[0m\u001b[0;34m(\u001b[0m\u001b[0mschema\u001b[0m\u001b[0;34m)\u001b[0m\u001b[0;34m\u001b[0m\u001b[0;34m\u001b[0m\u001b[0m\n\u001b[0m\u001b[1;32m     45\u001b[0m \u001b[0;34m\u001b[0m\u001b[0m\n\u001b[1;32m     46\u001b[0m     \u001b[0;32mdef\u001b[0m \u001b[0mvalidate\u001b[0m\u001b[0;34m(\u001b[0m\u001b[0mself\u001b[0m\u001b[0;34m,\u001b[0m \u001b[0mdata\u001b[0m\u001b[0;34m)\u001b[0m\u001b[0;34m:\u001b[0m\u001b[0;34m\u001b[0m\u001b[0;34m\u001b[0m\u001b[0m\n",
      "\u001b[0;32m/srv/conda/envs/notebook/lib/python3.9/site-packages/fastjsonschema/__init__.py\u001b[0m in \u001b[0;36mcompile\u001b[0;34m(definition, handlers, formats, use_default)\u001b[0m\n\u001b[1;32m    178\u001b[0m     \u001b[0mglobal_state\u001b[0m \u001b[0;34m=\u001b[0m \u001b[0mcode_generator\u001b[0m\u001b[0;34m.\u001b[0m\u001b[0mglobal_state\u001b[0m\u001b[0;34m\u001b[0m\u001b[0;34m\u001b[0m\u001b[0m\n\u001b[1;32m    179\u001b[0m     \u001b[0;31m# Do not pass local state so it can recursively call itself.\u001b[0m\u001b[0;34m\u001b[0m\u001b[0;34m\u001b[0m\u001b[0;34m\u001b[0m\u001b[0m\n\u001b[0;32m--> 180\u001b[0;31m     \u001b[0mexec\u001b[0m\u001b[0;34m(\u001b[0m\u001b[0mcode_generator\u001b[0m\u001b[0;34m.\u001b[0m\u001b[0mfunc_code\u001b[0m\u001b[0;34m,\u001b[0m \u001b[0mglobal_state\u001b[0m\u001b[0;34m)\u001b[0m\u001b[0;34m\u001b[0m\u001b[0;34m\u001b[0m\u001b[0m\n\u001b[0m\u001b[1;32m    181\u001b[0m     \u001b[0mfunc\u001b[0m \u001b[0;34m=\u001b[0m \u001b[0mglobal_state\u001b[0m\u001b[0;34m[\u001b[0m\u001b[0mresolver\u001b[0m\u001b[0;34m.\u001b[0m\u001b[0mget_scope_name\u001b[0m\u001b[0;34m(\u001b[0m\u001b[0;34m)\u001b[0m\u001b[0;34m]\u001b[0m\u001b[0;34m\u001b[0m\u001b[0;34m\u001b[0m\u001b[0m\n\u001b[1;32m    182\u001b[0m     \u001b[0;32mif\u001b[0m \u001b[0mformats\u001b[0m\u001b[0;34m:\u001b[0m\u001b[0;34m\u001b[0m\u001b[0;34m\u001b[0m\u001b[0m\n",
      "\u001b[0;32m/srv/conda/envs/notebook/lib/python3.9/site-packages/fastjsonschema/generator.py\u001b[0m in \u001b[0;36mfunc_code\u001b[0;34m(self)\u001b[0m\n\u001b[1;32m     70\u001b[0m         \u001b[0mself\u001b[0m\u001b[0;34m.\u001b[0m\u001b[0m_generate_func_code\u001b[0m\u001b[0;34m(\u001b[0m\u001b[0;34m)\u001b[0m\u001b[0;34m\u001b[0m\u001b[0;34m\u001b[0m\u001b[0m\n\u001b[1;32m     71\u001b[0m \u001b[0;34m\u001b[0m\u001b[0m\n\u001b[0;32m---> 72\u001b[0;31m         \u001b[0;32mreturn\u001b[0m \u001b[0;34m'\\n'\u001b[0m\u001b[0;34m.\u001b[0m\u001b[0mjoin\u001b[0m\u001b[0;34m(\u001b[0m\u001b[0mself\u001b[0m\u001b[0;34m.\u001b[0m\u001b[0m_code\u001b[0m\u001b[0;34m)\u001b[0m\u001b[0;34m\u001b[0m\u001b[0;34m\u001b[0m\u001b[0m\n\u001b[0m\u001b[1;32m     73\u001b[0m \u001b[0;34m\u001b[0m\u001b[0m\n\u001b[1;32m     74\u001b[0m     \u001b[0;34m@\u001b[0m\u001b[0mproperty\u001b[0m\u001b[0;34m\u001b[0m\u001b[0;34m\u001b[0m\u001b[0m\n",
      "\u001b[0;31mKeyboardInterrupt\u001b[0m: "
     ]
    }
   ],
   "source": [
    "# Save your notebook first, then run this cell to export your submission.\n",
    "grader.export(run_tests=True)"
   ]
  },
  {
   "cell_type": "markdown",
   "metadata": {},
   "source": [
    " "
   ]
  },
  {
   "cell_type": "code",
   "execution_count": null,
   "metadata": {},
   "outputs": [],
   "source": []
  }
 ],
 "metadata": {
  "kernelspec": {
   "display_name": "Python 3 (ipykernel)",
   "language": "python",
   "name": "python3"
  },
  "language_info": {
   "codemirror_mode": {
    "name": "ipython",
    "version": 3
   },
   "file_extension": ".py",
   "mimetype": "text/x-python",
   "name": "python",
   "nbconvert_exporter": "python",
   "pygments_lexer": "ipython3",
   "version": "3.9.0"
  },
  "otter": {
   "OK_FORMAT": true,
   "tests": {
    "q1a": {
     "name": "q1a",
     "points": 1,
     "suites": [
      {
       "cases": [
        {
         "code": ">>> len(q1a) == 1000\nTrue",
         "hidden": false,
         "locked": false
        },
        {
         "code": ">>> q1a.startswith(\"[{\\\"created_at\\\":\")\nTrue",
         "hidden": false,
         "locked": false
        },
        {
         "code": ">>> \"\\\"user\\\": {\\\"id\\\": 216776631\" in q1a\nTrue",
         "hidden": false,
         "locked": false
        }
       ],
       "scored": true,
       "setup": "",
       "teardown": "",
       "type": "doctest"
      }
     ]
    },
    "q1b": {
     "name": "q1b",
     "points": 1,
     "suites": [
      {
       "cases": [
        {
         "code": ">>> q1b in ['A', 'B', 'C', 'D']\nTrue",
         "hidden": false,
         "locked": false,
         "points": 0
        }
       ],
       "scored": true,
       "setup": "",
       "teardown": "",
       "type": "doctest"
      }
     ]
    },
    "q1c": {
     "name": "q1c",
     "points": 3,
     "suites": [
      {
       "cases": [
        {
         "code": ">>> assert set(tweets.keys()) == {\"AOC\", \"Cristiano\", \"elonmusk\"}\n>>> assert all(df.index.name == \"id\" for df in tweets.values())\n",
         "hidden": false,
         "locked": false
        },
        {
         "code": ">>> expected_cols = ['created_at', 'id_str', 'full_text', 'truncated', 'display_text_range',\n...        'entities', 'source', 'in_reply_to_status_id',\n...        'in_reply_to_status_id_str', 'in_reply_to_user_id',\n...        'in_reply_to_user_id_str', 'in_reply_to_screen_name', 'user', 'geo',\n...        'coordinates', 'place', 'contributors', 'retweeted_status',\n...        'is_quote_status', 'retweet_count', 'favorite_count', 'favorited',\n...        'retweeted', 'lang', 'possibly_sensitive', 'extended_entities',\n...        'quoted_status_id', 'quoted_status_id_str', 'quoted_status_permalink',\n...        'quoted_status']\n>>> all(col in df.columns for df in tweets.values() for col in expected_cols)\nTrue",
         "hidden": false,
         "locked": false
        },
        {
         "code": ">>> (tweets[\"AOC\"].shape[0] is not None) and (tweets[\"AOC\"].shape[0] >= 30)\nTrue",
         "hidden": false,
         "locked": false
        },
        {
         "code": ">>> (tweets[\"Cristiano\"].shape[0] is not None) and (tweets[\"Cristiano\"].shape[0] >= 30)\nTrue",
         "hidden": false,
         "locked": false
        },
        {
         "code": ">>> (tweets[\"elonmusk\"].shape[0] is not None) and (tweets[\"elonmusk\"].shape[0] >= 30)\nTrue",
         "hidden": false,
         "locked": false
        },
        {
         "code": ">>> np.random.seed(42)\n>>> exp = set([1333958991613923331,\n...  1312936075590074368,\n...  1248798917350883337,\n...  1204575943601328128,\n...  1346163629486387201,\n...  1246500923180036096,\n...  1315825309036564482,\n...  1255121845533229056,\n...  1352691282603364362,\n...  1243377508835381249])\n>>> set(np.random.choice(sorted(tweets[\"AOC\"].index), replace=False, size=10)) == exp\nTrue",
         "hidden": false,
         "locked": false
        },
        {
         "code": ">>> np.random.seed(42)\n>>> exp = set([880473340619759616,\n...  174892632500219905,\n...  284705925351239680,\n...  403528698936041473,\n...  476770924587667456,\n...  697801434755133440,\n...  1214232898917801984,\n...  741648660476383233,\n...  48000397721337856,\n...  95524319232409600])\n>>> set(np.random.choice(sorted(tweets[\"Cristiano\"].index), replace=False, size=10)) == exp\nTrue",
         "hidden": false,
         "locked": false
        },
        {
         "code": ">>> np.random.seed(42)\n>>> exp = set([1265750340613427200,\n...  1321275062998257665,\n...  1285430635088076800,\n...  1252987963329388544,\n...  1339567835840962560,\n...  1313512170336944128,\n...  1348823685445136385,\n...  1280090680430178305,\n...  1301647642846547971,\n...  1281695247626416129])\n>>> set(np.random.choice(sorted(tweets[\"elonmusk\"].index), replace=False, size=10)) == exp\nTrue",
         "hidden": false,
         "locked": false
        }
       ],
       "scored": true,
       "setup": "",
       "teardown": "",
       "type": "doctest"
      }
     ]
    },
    "q2a": {
     "name": "q2a",
     "points": 2,
     "suites": [
      {
       "cases": [
        {
         "code": ">>> re.sub(q2a_pattern, \"\", test_str) == 'Twitter for iPhone'\nTrue",
         "hidden": false,
         "locked": false
        },
        {
         "code": ">>> re.sub(q2a_pattern, \"\", \"<a bad='html'\") == \"<a bad='html'\"\nTrue",
         "hidden": false,
         "locked": false
        }
       ],
       "scored": true,
       "setup": "",
       "teardown": "",
       "type": "doctest"
      }
     ]
    },
    "q2b": {
     "name": "q2b",
     "points": 2,
     "suites": [
      {
       "cases": [
        {
         "code": ">>> re.findall(q2b_pattern, test_str) == ['Twitter for iPhone']\nTrue",
         "hidden": false,
         "locked": false
        },
        {
         "code": ">>> re.findall(q2b_pattern, \">findme<\") == ['findme']\nTrue",
         "hidden": false,
         "locked": false
        }
       ],
       "scored": true,
       "setup": "",
       "teardown": "",
       "type": "doctest"
      }
     ]
    },
    "q2c": {
     "name": "q2c",
     "points": 2,
     "suites": [
      {
       "cases": [
        {
         "code": ">>> set(tweets.keys()) == {\"AOC\", \"Cristiano\", 'elonmusk'}\nTrue",
         "hidden": false,
         "locked": false
        },
        {
         "code": ">>> all(\"device\" in df.columns for df in tweets.values())\nTrue",
         "hidden": false,
         "locked": false
        },
        {
         "code": ">>> counts = tweets[\"AOC\"][\"device\"].value_counts().to_dict()\n>>> (set(counts.keys()) == {'Twitter Media Studio', 'Twitter for iPhone'}) and (set(counts.values()) == {2, 3245})\nTrue",
         "hidden": false,
         "locked": false
        },
        {
         "code": ">>> np.random.seed(10202)\n>>> expected = ['Twitter for iPhone'] * 10\n>>> actual = []\n>>> for i in np.random.choice(sorted(tweets[\"AOC\"].index), replace=False, size=10):\n...     actual.append(tweets[\"AOC\"].loc[i, \"device\"])\n>>> actual == expected\nTrue",
         "hidden": false,
         "locked": false
        }
       ],
       "scored": true,
       "setup": "",
       "teardown": "",
       "type": "doctest"
      }
     ]
    },
    "q2d": {
     "name": "q2d",
     "points": 2,
     "suites": [
      {
       "cases": [
        {
         "code": ">>> most_freq(tweets[\"Cristiano\"]['device'])[\"Twitter for iPhone\"] == 1183\nTrue",
         "hidden": false,
         "locked": false
        },
        {
         "code": ">>> most_freq(tweets[\"AOC\"]['device'], k=1)[\"Twitter for iPhone\"] == 3245\nTrue",
         "hidden": false,
         "locked": false
        }
       ],
       "scored": true,
       "setup": "",
       "teardown": "",
       "type": "doctest"
      }
     ]
    },
    "q3a": {
     "name": "q3a",
     "points": 1,
     "suites": [
      {
       "cases": [
        {
         "code": ">>> all(\"hour\" in df.columns for df in tweets.values())\nTrue",
         "hidden": false,
         "locked": false
        },
        {
         "code": ">>> all(0 <= df[\"hour\"].min() and 24 >= df[\"hour\"].max() for df in tweets.values())\nTrue",
         "hidden": false,
         "locked": false
        }
       ],
       "scored": true,
       "setup": "",
       "teardown": "",
       "type": "doctest"
      }
     ]
    },
    "q3c": {
     "name": "q3c",
     "points": 1,
     "suites": [
      {
       "cases": [
        {
         "code": ">>> all(\"converted_time\" in df.columns for df in tweets.values())\nTrue",
         "hidden": false,
         "locked": false
        },
        {
         "code": ">>> all((df[\"converted_time\"] == df[\"created_at\"]).all() for df in tweets.values())\nTrue",
         "hidden": false,
         "locked": false
        },
        {
         "code": ">>> all(df[\"converted_time\"].dt.tz != df[\"created_at\"].dt.tz for df in tweets.values())\nTrue",
         "hidden": false,
         "locked": false
        }
       ],
       "scored": true,
       "setup": "",
       "teardown": "",
       "type": "doctest"
      }
     ]
    },
    "q4b": {
     "name": "q4b",
     "points": 1,
     "suites": [
      {
       "cases": [
        {
         "code": ">>> isinstance(sent, pd.DataFrame)\nTrue",
         "hidden": false,
         "locked": false
        },
        {
         "code": ">>> sent.shape == (7517, 1)\nTrue",
         "hidden": false,
         "locked": false
        },
        {
         "code": ">>> tuple(sent.columns)  == (\"polarity\", )\nTrue",
         "hidden": false,
         "locked": false
        },
        {
         "code": ">>> sent.index.name == \"token\"\nTrue",
         "hidden": false,
         "locked": false
        },
        {
         "code": ">>> list(sent.index[5000:5005]) == ['paranoids', 'pardon', 'pardoned', 'pardoning', 'pardons']\nTrue",
         "hidden": false,
         "locked": false
        },
        {
         "code": ">>> np.allclose(sent['polarity'].head(), [-1.5, -0.4, -1.5, -0.4, -0.7])\nTrue",
         "hidden": false,
         "locked": false
        }
       ],
       "scored": true,
       "setup": "",
       "teardown": "",
       "type": "doctest"
      }
     ]
    },
    "q4ci": {
     "name": "q4ci",
     "points": 1,
     "suites": [
      {
       "cases": [
        {
         "code": ">>> isinstance(punct_re, str)\nTrue",
         "hidden": false,
         "locked": false
        },
        {
         "code": ">>> re.sub(punct_re, \" \", \"a.b.c.1!2?3\")\n'a b c 1 2 3'",
         "hidden": false,
         "locked": false
        }
       ],
       "scored": true,
       "setup": "",
       "teardown": "",
       "type": "doctest"
      }
     ]
    },
    "q4cii": {
     "name": "q4cii",
     "points": 1,
     "suites": [
      {
       "cases": [
        {
         "code": ">>> re.findall(mentions_re, \"@someone: this regex stuff is cool\") == ['someone']\nTrue",
         "hidden": false,
         "locked": false
        },
        {
         "code": ">>> re.findall(mentions_re, tweets[\"AOC\"].loc[1358149122264563712][\"full_text\"])[0] == \"RepEscobar\"\nTrue",
         "hidden": false,
         "locked": false
        }
       ],
       "scored": true,
       "setup": "",
       "teardown": "",
       "type": "doctest"
      }
     ]
    },
    "q4d": {
     "name": "q4d",
     "points": 1,
     "suites": [
      {
       "cases": [
        {
         "code": ">>> df = pd.DataFrame({\"full_text\": [\"a clean tweet\", \"an UPPPERcAsE tweet\", \"a ! tweet!!with..(*UF)punctuation\"]})\n>>> df = sanitize_texts(df)\n>>> df[\"clean_text\"].tolist() == ['a clean tweet', 'an upppercase tweet', 'a   tweet  with    uf punctuation']\nTrue",
         "hidden": false,
         "locked": false
        },
        {
         "code": ">>> all(\"clean_text\" in df.columns for df in tweets.values())\nTrue",
         "hidden": false,
         "locked": false
        }
       ],
       "scored": true,
       "setup": "",
       "teardown": "",
       "type": "doctest"
      }
     ]
    },
    "q4e": {
     "name": "q4e",
     "points": 2,
     "suites": [
      {
       "cases": [
        {
         "code": ">>> assert all(not isinstance(df.index, pd.MultiIndex) for df in mentions.values())\n>>> assert all(set(df.columns) == {\"mentions\"} for df in mentions.values())\n>>> assert set(mentions.keys()) == {\"AOC\", \"Cristiano\", \"elonmusk\"}\n",
         "hidden": false,
         "locked": false
        },
        {
         "code": ">>> horiz_mentions = horiz_concat_df(mentions)\n>>> horiz_mentions.loc[0][\"AOC\"][\"mentions\"] == 'repescobar'\nTrue",
         "hidden": false,
         "locked": false
        },
        {
         "code": ">>> horiz_mentions = horiz_concat_df(mentions)\n>>> list(sorted(horiz_mentions.columns)) == [('AOC', 'mentions'), ('Cristiano', 'mentions'), ('elonmusk', 'mentions')]\nTrue",
         "hidden": false,
         "locked": false
        }
       ],
       "scored": true,
       "setup": "",
       "teardown": "",
       "type": "doctest"
      }
     ]
    },
    "q4f": {
     "name": "q4f",
     "points": 2,
     "suites": [
      {
       "cases": [
        {
         "code": ">>> set(aoc_mention_polarity.index) == set(mentions[\"AOC\"][\"mentions\"])\nTrue",
         "hidden": false,
         "locked": false
        },
        {
         "code": ">>> 0 <= aoc_mention_polarity.mean() <= 1\nTrue",
         "hidden": false,
         "locked": false
        }
       ],
       "scored": true,
       "setup": "",
       "teardown": "",
       "type": "doctest"
      }
     ]
    }
   }
  }
 },
 "nbformat": 4,
 "nbformat_minor": 4
}
